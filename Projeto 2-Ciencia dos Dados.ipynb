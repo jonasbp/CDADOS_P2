{
 "cells": [
  {
   "cell_type": "markdown",
   "metadata": {},
   "source": [
    "# Projeto 2-Ciência dos Dados\n"
   ]
  },
  {
   "cell_type": "markdown",
   "metadata": {},
   "source": [
    "# Predição de AVC"
   ]
  },
  {
   "cell_type": "markdown",
   "metadata": {},
   "source": [
    "Alunos:\n",
    "\n",
    "Jonas Bonfá\n",
    "\n",
    "Renato Falcão\n",
    "\n",
    "Gabriel de Araújo \n",
    "\n",
    "Ricardo Mourão"
   ]
  },
  {
   "cell_type": "markdown",
   "metadata": {},
   "source": [
    "# Introdução"
   ]
  },
  {
   "cell_type": "markdown",
   "metadata": {},
   "source": [
    "# O que é AVC?"
   ]
  },
  {
   "cell_type": "markdown",
   "metadata": {},
   "source": [
    "\n",
    "O AVC (CID 10 - I64) é o entupimento ou rompimento dos vasos que levam sangue ao cérebro, provocando a paralisia da região afetada no cérebro. Também é chamado de acidente vascular cerebral, derrame cerebral ou Acidente Vascular Encefálico (AVE\n",
    "Fonte:https://www.minhavida.com.br/saude/temas/avc\n"
   ]
  },
  {
   "cell_type": "markdown",
   "metadata": {},
   "source": [
    "# Gravidade do Problema"
   ]
  },
  {
   "cell_type": "markdown",
   "metadata": {},
   "source": [
    "\n",
    "Segundo a Organização Mundial da Saúde (OMS), o AVC é a segunda principal causa de morte no mundo, responsável por aproximadamente 11% do total de óbitos.\n",
    "Este conjunto de dados é usado para prever se um paciente provavelmente terá um AVC com base nos parâmetros de entrada, como sexo, idade, várias doenças e estado de tabagismo. Cada linha nos dados fornece informações de renome sobre o paciente.\n",
    "Fonte Traduzida:https://www.kaggle.com/fedesoriano/stroke-prediction-dataset"
   ]
  },
  {
   "cell_type": "markdown",
   "metadata": {},
   "source": [
    "Sabemos que o AVC ,mais conhecido como acidente vascular cerebral ou derrame,é uma doença que ,nos tempos atuais,acomete ainda um grande número de pessoas ,baseado nisso uma base de dados https://www.kaggle.com/fedesoriano/stroke-prediction-dataset do site Kaggle que diz respeito a ocorrência de AVCs pretende responder a seguinte pergunta:Baseado nos dados de saúde e socio-econômicos de uma paciente será que ele teve ou não um AVC(acidente vascular cerebral)?"
   ]
  },
  {
   "cell_type": "markdown",
   "metadata": {},
   "source": [
    "Para isso vamos precisar de bibliotecas de machine learning que serão de fundamental importância para a predição do fenômeno análisado,bem como ,2 modelos de predição (Arvore de Decisão e Regressão Logística) que nos ajudarão a responder a pergunta principal!\n"
   ]
  },
  {
   "cell_type": "markdown",
   "metadata": {},
   "source": [
    "# Importando Bibliotecas necessárias"
   ]
  },
  {
   "cell_type": "code",
   "execution_count": 108,
   "metadata": {},
   "outputs": [],
   "source": [
    "\n",
    "%matplotlib inline\n",
    "import math\n",
    "import os\n",
    "import seaborn as sns\n",
    "import matplotlib.pyplot as plt\n",
    "import numpy as np\n",
    "from numpy import arange\n",
    "import pandas as pd\n",
    "from random import randint\n",
    "# Remove warnings\n",
    "import warnings\n",
    "warnings.filterwarnings('ignore')\n",
    "from IPython.display import display  # Para ter melhor print."
   ]
  },
  {
   "cell_type": "code",
   "execution_count": 109,
   "metadata": {},
   "outputs": [
    {
     "name": "stdout",
     "output_type": "stream",
     "text": [
      "Esperamos trabalhar no diretório\n",
      "C:\\Users\\gabri\\OneDrive - Insper - Institudo de Ensino e Pesquisa\\Faculdade\\2° semestre\\Cdados\\Projeto2-Cdados\n",
      "Parece que o arquivo healthcare-dataset-stroke-data.csv está na mesma pasta do notebook da avaliação, yay!\n",
      "\n"
     ]
    }
   ],
   "source": [
    "print(\"Esperamos trabalhar no diretório\")\n",
    "print(os.getcwd())\n",
    "filename = 'healthcare-dataset-stroke-data.csv'\n",
    "\n",
    "if filename in os.listdir():\n",
    "    print(f'Parece que o arquivo {filename} está na mesma pasta do notebook da avaliação, yay!\\n')\n",
    "    \n",
    "else:\n",
    "    print(f'Não encontrei o arquivo {filename}.\\n'\n",
    "          f'O notebook e os arquivos de dados desta avaliação devem ser salvos dentro da mesma pasta no seu computador.\\n')"
   ]
  },
  {
   "cell_type": "markdown",
   "metadata": {},
   "source": [
    "# Base de Dados"
   ]
  },
  {
   "cell_type": "markdown",
   "metadata": {},
   "source": [
    "A base dados contém algumas informações coletadas de vários pacientes no momento do exame. A seguir, estão descritas as informações originais contidas no dataset:\n",
    "\n",
    "id: Informação referente a identificação do paciente(será retirada do dataset pois não importa para á analise)\n",
    "gender:Gênero do paciente(Male ou Female)-Será alterado para homem e mulher \n",
    "\n",
    "age:Idade do paciente(em anos)\n",
    "\n",
    "hypertension(Hipertensão):<br>\t\n",
    "    \n",
    "    0:Paciente não tem hipertensão  \n",
    "    1: Paciente têm Hipertensão\n",
    "\n",
    "heart_disease(cardiopatia):<br>\n",
    "    \n",
    "    0:Paciente não têm cardiopatia\n",
    "    1:Paciente possui cardiopatia\n",
    "\n",
    "ever_married(já foi ou é casado):<br>\t\n",
    "    \n",
    "    \"Yes\":È ou ja foi casado em algum momento\n",
    "    \"No\":Nunca se casou\n",
    "\n",
    "work_type(tipo de trabalho do paciente):<br>\n",
    "    \n",
    "    Private:Trabalho Privado          \n",
    "    Self-employed:Autônomo     \n",
    "    children:Criança-Não Trabalha          \n",
    "    Govt_job:Trabalha para algum governo          \n",
    "    Never_worked:Nunca Trabalhou \n",
    "\n",
    "Residence_type(tipo de Residência):<br>\n",
    "    \n",
    "    Urban:Urbana\n",
    "    Rural:Rural\n",
    "\n",
    "avg_glucose_level:Refere-se ao nível médio de glucose do paciente<br>\n",
    "\n",
    "bmi(body mass index):Índice de massa corporea(relação entre altura e peso)<br>\n",
    "\n",
    "smoking_status:Status de fumante<br>\n",
    "\n",
    "    never smoked:Nunca fumou       \n",
    "    Unknown:Informação desconhecida            \n",
    "    formerly smoked:Ex-fumante     \n",
    "    smokes:Fuma atualmente \n",
    "\n",
    "stroke:indica se o paciente teve ou não AVC<br>\n",
    "    \n",
    "    0:Não teve AVC\n",
    "    1:teve AVC\n",
    "\n",
    "\n"
   ]
  },
  {
   "cell_type": "markdown",
   "metadata": {},
   "source": [
    "# Target ,Features e mudanças principais para a base de dados"
   ]
  },
  {
   "cell_type": "markdown",
   "metadata": {},
   "source": [
    "Target:No caso a váriavel escolhida foi o Stroke ,ou seja ,se o paciente teve ou não AVC.Nesse sentido,essa é a variável dependente,isto é,ela dependerá de todas as outras para a ánalise dos dados e predição da pergunta feita anteriormente.<br>\n",
    "Features:Variáveis independentes são consideradas todas as outras colunas do dataset que irão auxiliar na predição da variável target."
   ]
  },
  {
   "cell_type": "markdown",
   "metadata": {},
   "source": [
    "Mudanças necessárias:<br>\n",
    "    -Transformar algumas colunas(variáveis) para categóricas:Gender,Hypertension,heart_disease,stroke(possuem 0 ou 1 nos dados)<br>\n",
    "    -Limpar ou incrementar possíveis dados nulos no dataframe<br>\n",
    "    -Indentificar,nas variáveis quantitativas, quem destoa de algum padrão e,por isso ,pode ficar de fora do dataset,lembrando que chamamos de outliers.<br>"
   ]
  },
  {
   "cell_type": "markdown",
   "metadata": {},
   "source": [
    "# Base de dados Original"
   ]
  },
  {
   "cell_type": "code",
   "execution_count": 110,
   "metadata": {
    "scrolled": false
   },
   "outputs": [
    {
     "data": {
      "text/html": [
       "<div>\n",
       "<style scoped>\n",
       "    .dataframe tbody tr th:only-of-type {\n",
       "        vertical-align: middle;\n",
       "    }\n",
       "\n",
       "    .dataframe tbody tr th {\n",
       "        vertical-align: top;\n",
       "    }\n",
       "\n",
       "    .dataframe thead th {\n",
       "        text-align: right;\n",
       "    }\n",
       "</style>\n",
       "<table border=\"1\" class=\"dataframe\">\n",
       "  <thead>\n",
       "    <tr style=\"text-align: right;\">\n",
       "      <th></th>\n",
       "      <th>id</th>\n",
       "      <th>gender</th>\n",
       "      <th>age</th>\n",
       "      <th>hypertension</th>\n",
       "      <th>heart_disease</th>\n",
       "      <th>ever_married</th>\n",
       "      <th>work_type</th>\n",
       "      <th>Residence_type</th>\n",
       "      <th>avg_glucose_level</th>\n",
       "      <th>bmi</th>\n",
       "      <th>smoking_status</th>\n",
       "      <th>stroke</th>\n",
       "    </tr>\n",
       "  </thead>\n",
       "  <tbody>\n",
       "    <tr>\n",
       "      <th>0</th>\n",
       "      <td>9046</td>\n",
       "      <td>Male</td>\n",
       "      <td>67.0</td>\n",
       "      <td>0</td>\n",
       "      <td>1</td>\n",
       "      <td>Yes</td>\n",
       "      <td>Private</td>\n",
       "      <td>Urban</td>\n",
       "      <td>228.69</td>\n",
       "      <td>36.6</td>\n",
       "      <td>formerly smoked</td>\n",
       "      <td>1</td>\n",
       "    </tr>\n",
       "    <tr>\n",
       "      <th>1</th>\n",
       "      <td>51676</td>\n",
       "      <td>Female</td>\n",
       "      <td>61.0</td>\n",
       "      <td>0</td>\n",
       "      <td>0</td>\n",
       "      <td>Yes</td>\n",
       "      <td>Self-employed</td>\n",
       "      <td>Rural</td>\n",
       "      <td>202.21</td>\n",
       "      <td>NaN</td>\n",
       "      <td>never smoked</td>\n",
       "      <td>1</td>\n",
       "    </tr>\n",
       "    <tr>\n",
       "      <th>2</th>\n",
       "      <td>31112</td>\n",
       "      <td>Male</td>\n",
       "      <td>80.0</td>\n",
       "      <td>0</td>\n",
       "      <td>1</td>\n",
       "      <td>Yes</td>\n",
       "      <td>Private</td>\n",
       "      <td>Rural</td>\n",
       "      <td>105.92</td>\n",
       "      <td>32.5</td>\n",
       "      <td>never smoked</td>\n",
       "      <td>1</td>\n",
       "    </tr>\n",
       "    <tr>\n",
       "      <th>3</th>\n",
       "      <td>60182</td>\n",
       "      <td>Female</td>\n",
       "      <td>49.0</td>\n",
       "      <td>0</td>\n",
       "      <td>0</td>\n",
       "      <td>Yes</td>\n",
       "      <td>Private</td>\n",
       "      <td>Urban</td>\n",
       "      <td>171.23</td>\n",
       "      <td>34.4</td>\n",
       "      <td>smokes</td>\n",
       "      <td>1</td>\n",
       "    </tr>\n",
       "    <tr>\n",
       "      <th>4</th>\n",
       "      <td>1665</td>\n",
       "      <td>Female</td>\n",
       "      <td>79.0</td>\n",
       "      <td>1</td>\n",
       "      <td>0</td>\n",
       "      <td>Yes</td>\n",
       "      <td>Self-employed</td>\n",
       "      <td>Rural</td>\n",
       "      <td>174.12</td>\n",
       "      <td>24.0</td>\n",
       "      <td>never smoked</td>\n",
       "      <td>1</td>\n",
       "    </tr>\n",
       "  </tbody>\n",
       "</table>\n",
       "</div>"
      ],
      "text/plain": [
       "      id  gender   age  hypertension  heart_disease ever_married  \\\n",
       "0   9046    Male  67.0             0              1          Yes   \n",
       "1  51676  Female  61.0             0              0          Yes   \n",
       "2  31112    Male  80.0             0              1          Yes   \n",
       "3  60182  Female  49.0             0              0          Yes   \n",
       "4   1665  Female  79.0             1              0          Yes   \n",
       "\n",
       "       work_type Residence_type  avg_glucose_level   bmi   smoking_status  \\\n",
       "0        Private          Urban             228.69  36.6  formerly smoked   \n",
       "1  Self-employed          Rural             202.21   NaN     never smoked   \n",
       "2        Private          Rural             105.92  32.5     never smoked   \n",
       "3        Private          Urban             171.23  34.4           smokes   \n",
       "4  Self-employed          Rural             174.12  24.0     never smoked   \n",
       "\n",
       "   stroke  \n",
       "0       1  \n",
       "1       1  \n",
       "2       1  \n",
       "3       1  \n",
       "4       1  "
      ]
     },
     "execution_count": 110,
     "metadata": {},
     "output_type": "execute_result"
    }
   ],
   "source": [
    "Stroke = pd.read_csv('healthcare-dataset-stroke-data.csv')\n",
    "Stroke.head()\n"
   ]
  },
  {
   "cell_type": "markdown",
   "metadata": {},
   "source": [
    "# Implementando mudanças"
   ]
  },
  {
   "cell_type": "code",
   "execution_count": 111,
   "metadata": {},
   "outputs": [],
   "source": [
    "#transformando variáveis em categóricas\n",
    "Stroke['gender'] = Stroke['gender'].astype('category')\n",
    "Stroke['hypertension'] =Stroke['hypertension'].astype('category')\n",
    "Stroke['stroke'] = Stroke['stroke'].astype('category')\n",
    "Stroke['smoking_status'] = Stroke['smoking_status'].astype('category')\n",
    "Stroke['Residence_type'] = Stroke['Residence_type'].astype('category')\n",
    "Stroke['work_type'] = Stroke['work_type'].astype('category')\n",
    "Stroke['heart_disease'] = Stroke['heart_disease'].astype('category')\n",
    "Stroke[\"ever_married\"]=Stroke['ever_married'].astype('category')\n",
    "#Categorizando as variáveis com diferentes nomes afim de facilitar nossa análise\n",
    "Stroke['gender'].cat.categories = [\"Mulher\",\"Homem\",\"Outro\"]\n",
    "Stroke['hypertension'].cat.categories =[\"Saudável\",\"Hipertenso\"]\n",
    "Stroke['stroke'].cat.categories = [\" Não Teve Avc\",\"Teve Avc\"]\n",
    "Stroke['smoking_status'].cat.categories = [\"Desconhecido\",\"Ex-Fumante\",\"Nunca Fumou\",\"Fumante\"]\n",
    "Stroke['Residence_type'].cat.categories = [\"Rural\",\"Urbano\"]\n",
    "Stroke['work_type'].cat.categories = [\"Trabalho Governamental\",\"Nunca Trabalhou\",\"Privado\",\" Trabalhador Autônomo\",\"Criança\"]                \n",
    "Stroke['heart_disease'].cat.categories = ['Saudável',\"Cardiopata\"]\n",
    "Stroke[\"ever_married\"].cat.categories=[\"Não\",\"Sim\"]\n",
    "\n",
    "\n",
    "#Retirando coluna ID(não servirá para nossa amostra pois contem somente a identificação dos pacientes)\n",
    "Stroke.drop(columns=[\"id\"],inplace=True)\n",
    "\n",
    "\n"
   ]
  },
  {
   "cell_type": "code",
   "execution_count": 112,
   "metadata": {},
   "outputs": [
    {
     "data": {
      "text/html": [
       "<div>\n",
       "<style scoped>\n",
       "    .dataframe tbody tr th:only-of-type {\n",
       "        vertical-align: middle;\n",
       "    }\n",
       "\n",
       "    .dataframe tbody tr th {\n",
       "        vertical-align: top;\n",
       "    }\n",
       "\n",
       "    .dataframe thead th {\n",
       "        text-align: right;\n",
       "    }\n",
       "</style>\n",
       "<table border=\"1\" class=\"dataframe\">\n",
       "  <thead>\n",
       "    <tr style=\"text-align: right;\">\n",
       "      <th></th>\n",
       "      <th>gender</th>\n",
       "      <th>age</th>\n",
       "      <th>hypertension</th>\n",
       "      <th>heart_disease</th>\n",
       "      <th>ever_married</th>\n",
       "      <th>work_type</th>\n",
       "      <th>Residence_type</th>\n",
       "      <th>avg_glucose_level</th>\n",
       "      <th>bmi</th>\n",
       "      <th>smoking_status</th>\n",
       "      <th>stroke</th>\n",
       "    </tr>\n",
       "  </thead>\n",
       "  <tbody>\n",
       "    <tr>\n",
       "      <th>0</th>\n",
       "      <td>Homem</td>\n",
       "      <td>67.0</td>\n",
       "      <td>Saudável</td>\n",
       "      <td>Cardiopata</td>\n",
       "      <td>Sim</td>\n",
       "      <td>Privado</td>\n",
       "      <td>Urbano</td>\n",
       "      <td>228.69</td>\n",
       "      <td>36.6</td>\n",
       "      <td>Ex-Fumante</td>\n",
       "      <td>Teve Avc</td>\n",
       "    </tr>\n",
       "    <tr>\n",
       "      <th>1</th>\n",
       "      <td>Mulher</td>\n",
       "      <td>61.0</td>\n",
       "      <td>Saudável</td>\n",
       "      <td>Saudável</td>\n",
       "      <td>Sim</td>\n",
       "      <td>Trabalhador Autônomo</td>\n",
       "      <td>Rural</td>\n",
       "      <td>202.21</td>\n",
       "      <td>NaN</td>\n",
       "      <td>Nunca Fumou</td>\n",
       "      <td>Teve Avc</td>\n",
       "    </tr>\n",
       "    <tr>\n",
       "      <th>2</th>\n",
       "      <td>Homem</td>\n",
       "      <td>80.0</td>\n",
       "      <td>Saudável</td>\n",
       "      <td>Cardiopata</td>\n",
       "      <td>Sim</td>\n",
       "      <td>Privado</td>\n",
       "      <td>Rural</td>\n",
       "      <td>105.92</td>\n",
       "      <td>32.5</td>\n",
       "      <td>Nunca Fumou</td>\n",
       "      <td>Teve Avc</td>\n",
       "    </tr>\n",
       "    <tr>\n",
       "      <th>3</th>\n",
       "      <td>Mulher</td>\n",
       "      <td>49.0</td>\n",
       "      <td>Saudável</td>\n",
       "      <td>Saudável</td>\n",
       "      <td>Sim</td>\n",
       "      <td>Privado</td>\n",
       "      <td>Urbano</td>\n",
       "      <td>171.23</td>\n",
       "      <td>34.4</td>\n",
       "      <td>Fumante</td>\n",
       "      <td>Teve Avc</td>\n",
       "    </tr>\n",
       "    <tr>\n",
       "      <th>4</th>\n",
       "      <td>Mulher</td>\n",
       "      <td>79.0</td>\n",
       "      <td>Hipertenso</td>\n",
       "      <td>Saudável</td>\n",
       "      <td>Sim</td>\n",
       "      <td>Trabalhador Autônomo</td>\n",
       "      <td>Rural</td>\n",
       "      <td>174.12</td>\n",
       "      <td>24.0</td>\n",
       "      <td>Nunca Fumou</td>\n",
       "      <td>Teve Avc</td>\n",
       "    </tr>\n",
       "  </tbody>\n",
       "</table>\n",
       "</div>"
      ],
      "text/plain": [
       "   gender   age hypertension heart_disease ever_married  \\\n",
       "0   Homem  67.0     Saudável    Cardiopata          Sim   \n",
       "1  Mulher  61.0     Saudável      Saudável          Sim   \n",
       "2   Homem  80.0     Saudável    Cardiopata          Sim   \n",
       "3  Mulher  49.0     Saudável      Saudável          Sim   \n",
       "4  Mulher  79.0   Hipertenso      Saudável          Sim   \n",
       "\n",
       "               work_type Residence_type  avg_glucose_level   bmi  \\\n",
       "0                Privado         Urbano             228.69  36.6   \n",
       "1   Trabalhador Autônomo          Rural             202.21   NaN   \n",
       "2                Privado          Rural             105.92  32.5   \n",
       "3                Privado         Urbano             171.23  34.4   \n",
       "4   Trabalhador Autônomo          Rural             174.12  24.0   \n",
       "\n",
       "  smoking_status    stroke  \n",
       "0     Ex-Fumante  Teve Avc  \n",
       "1    Nunca Fumou  Teve Avc  \n",
       "2    Nunca Fumou  Teve Avc  \n",
       "3        Fumante  Teve Avc  \n",
       "4    Nunca Fumou  Teve Avc  "
      ]
     },
     "execution_count": 112,
     "metadata": {},
     "output_type": "execute_result"
    }
   ],
   "source": [
    "Stroke.head()"
   ]
  },
  {
   "cell_type": "markdown",
   "metadata": {},
   "source": [
    "# Modificando linhas nulas"
   ]
  },
  {
   "cell_type": "code",
   "execution_count": 113,
   "metadata": {},
   "outputs": [
    {
     "data": {
      "text/plain": [
       "gender                 0\n",
       "age                    0\n",
       "hypertension           0\n",
       "heart_disease          0\n",
       "ever_married           0\n",
       "work_type              0\n",
       "Residence_type         0\n",
       "avg_glucose_level      0\n",
       "bmi                  201\n",
       "smoking_status         0\n",
       "stroke                 0\n",
       "dtype: int64"
      ]
     },
     "execution_count": 113,
     "metadata": {},
     "output_type": "execute_result"
    },
    {
     "data": {
      "image/png": "[encoded data removed]",
      "text/plain": [
       "<Figure size 432x288 with 1 Axes>"
      ]
     },
     "metadata": {
      "needs_background": "light"
     },
     "output_type": "display_data"
    }
   ],
   "source": [
    "#heatmap da biblioteca seaborn para identificar elementos nulos ,bem como, o comando isnull que verifica linhas nulas\n",
    "sns.heatmap(Stroke.isnull(),yticklabels=False,cbar=False,cmap=\"viridis\")\n",
    "Stroke.isnull().sum()"
   ]
  },
  {
   "cell_type": "markdown",
   "metadata": {},
   "source": [
    "Observações:<br>\n",
    "        -Na coluna BMI(indíce de massa corporéa) há 201 linhas nulas<br>\n",
    "        -Para melhor análise será feita uma reposição desses valores considerando uma amostra aleatória desses valores"
   ]
  },
  {
   "cell_type": "code",
   "execution_count": 114,
   "metadata": {},
   "outputs": [
    {
     "data": {
      "text/html": [
       "<div>\n",
       "<style scoped>\n",
       "    .dataframe tbody tr th:only-of-type {\n",
       "        vertical-align: middle;\n",
       "    }\n",
       "\n",
       "    .dataframe tbody tr th {\n",
       "        vertical-align: top;\n",
       "    }\n",
       "\n",
       "    .dataframe thead th {\n",
       "        text-align: right;\n",
       "    }\n",
       "</style>\n",
       "<table border=\"1\" class=\"dataframe\">\n",
       "  <thead>\n",
       "    <tr style=\"text-align: right;\">\n",
       "      <th></th>\n",
       "      <th>gender</th>\n",
       "      <th>age</th>\n",
       "      <th>hypertension</th>\n",
       "      <th>heart_disease</th>\n",
       "      <th>ever_married</th>\n",
       "      <th>work_type</th>\n",
       "      <th>Residence_type</th>\n",
       "      <th>avg_glucose_level</th>\n",
       "      <th>bmi</th>\n",
       "      <th>smoking_status</th>\n",
       "      <th>stroke</th>\n",
       "    </tr>\n",
       "  </thead>\n",
       "  <tbody>\n",
       "    <tr>\n",
       "      <th>0</th>\n",
       "      <td>Homem</td>\n",
       "      <td>67.0</td>\n",
       "      <td>Saudável</td>\n",
       "      <td>Cardiopata</td>\n",
       "      <td>Sim</td>\n",
       "      <td>Privado</td>\n",
       "      <td>Urbano</td>\n",
       "      <td>228.69</td>\n",
       "      <td>36.6</td>\n",
       "      <td>Ex-Fumante</td>\n",
       "      <td>Teve Avc</td>\n",
       "    </tr>\n",
       "    <tr>\n",
       "      <th>1</th>\n",
       "      <td>Mulher</td>\n",
       "      <td>61.0</td>\n",
       "      <td>Saudável</td>\n",
       "      <td>Saudável</td>\n",
       "      <td>Sim</td>\n",
       "      <td>Trabalhador Autônomo</td>\n",
       "      <td>Rural</td>\n",
       "      <td>202.21</td>\n",
       "      <td>NaN</td>\n",
       "      <td>Nunca Fumou</td>\n",
       "      <td>Teve Avc</td>\n",
       "    </tr>\n",
       "    <tr>\n",
       "      <th>2</th>\n",
       "      <td>Homem</td>\n",
       "      <td>80.0</td>\n",
       "      <td>Saudável</td>\n",
       "      <td>Cardiopata</td>\n",
       "      <td>Sim</td>\n",
       "      <td>Privado</td>\n",
       "      <td>Rural</td>\n",
       "      <td>105.92</td>\n",
       "      <td>32.5</td>\n",
       "      <td>Nunca Fumou</td>\n",
       "      <td>Teve Avc</td>\n",
       "    </tr>\n",
       "    <tr>\n",
       "      <th>3</th>\n",
       "      <td>Mulher</td>\n",
       "      <td>49.0</td>\n",
       "      <td>Saudável</td>\n",
       "      <td>Saudável</td>\n",
       "      <td>Sim</td>\n",
       "      <td>Privado</td>\n",
       "      <td>Urbano</td>\n",
       "      <td>171.23</td>\n",
       "      <td>34.4</td>\n",
       "      <td>Fumante</td>\n",
       "      <td>Teve Avc</td>\n",
       "    </tr>\n",
       "    <tr>\n",
       "      <th>4</th>\n",
       "      <td>Mulher</td>\n",
       "      <td>79.0</td>\n",
       "      <td>Hipertenso</td>\n",
       "      <td>Saudável</td>\n",
       "      <td>Sim</td>\n",
       "      <td>Trabalhador Autônomo</td>\n",
       "      <td>Rural</td>\n",
       "      <td>174.12</td>\n",
       "      <td>24.0</td>\n",
       "      <td>Nunca Fumou</td>\n",
       "      <td>Teve Avc</td>\n",
       "    </tr>\n",
       "  </tbody>\n",
       "</table>\n",
       "</div>"
      ],
      "text/plain": [
       "   gender   age hypertension heart_disease ever_married  \\\n",
       "0   Homem  67.0     Saudável    Cardiopata          Sim   \n",
       "1  Mulher  61.0     Saudável      Saudável          Sim   \n",
       "2   Homem  80.0     Saudável    Cardiopata          Sim   \n",
       "3  Mulher  49.0     Saudável      Saudável          Sim   \n",
       "4  Mulher  79.0   Hipertenso      Saudável          Sim   \n",
       "\n",
       "               work_type Residence_type  avg_glucose_level   bmi  \\\n",
       "0                Privado         Urbano             228.69  36.6   \n",
       "1   Trabalhador Autônomo          Rural             202.21   NaN   \n",
       "2                Privado          Rural             105.92  32.5   \n",
       "3                Privado         Urbano             171.23  34.4   \n",
       "4   Trabalhador Autônomo          Rural             174.12  24.0   \n",
       "\n",
       "  smoking_status    stroke  \n",
       "0     Ex-Fumante  Teve Avc  \n",
       "1    Nunca Fumou  Teve Avc  \n",
       "2    Nunca Fumou  Teve Avc  \n",
       "3        Fumante  Teve Avc  \n",
       "4    Nunca Fumou  Teve Avc  "
      ]
     },
     "execution_count": 114,
     "metadata": {},
     "output_type": "execute_result"
    }
   ],
   "source": [
    "#Base de dados com categorizações em portugues para melhor visualização\n",
    "Stroke.head()"
   ]
  },
  {
   "cell_type": "markdown",
   "metadata": {},
   "source": [
    "# Indentificação de possíveis Linhas fora de padrão(Outliers)"
   ]
  },
  {
   "cell_type": "code",
   "execution_count": 115,
   "metadata": {},
   "outputs": [
    {
     "data": {
      "text/plain": [
       "Mulher    2994\n",
       "Homem     2115\n",
       "Outro        1\n",
       "Name: gender, dtype: int64"
      ]
     },
     "execution_count": 115,
     "metadata": {},
     "output_type": "execute_result"
    }
   ],
   "source": [
    "Stroke.gender.value_counts()"
   ]
  },
  {
   "cell_type": "markdown",
   "metadata": {},
   "source": [
    "Observações:Para o gênero observamos um paciente com gênero não identificado como mulher ou homem,no entanto ,para 5110 pacientes apenas 1 paciente fora desses dois gêneros constitui algo fora do padrão por isso retirá-lo da amostra não impactará grandemente no resultado!"
   ]
  },
  {
   "cell_type": "code",
   "execution_count": 116,
   "metadata": {},
   "outputs": [],
   "source": [
    "#Retirando esse paciente\n",
    "Stroke[Stroke.gender==\"Outro\"]\n",
    "Stroke.drop(index=3116,inplace=True)\n"
   ]
  },
  {
   "cell_type": "code",
   "execution_count": 117,
   "metadata": {},
   "outputs": [
    {
     "data": {
      "text/html": [
       "<div>\n",
       "<style scoped>\n",
       "    .dataframe tbody tr th:only-of-type {\n",
       "        vertical-align: middle;\n",
       "    }\n",
       "\n",
       "    .dataframe tbody tr th {\n",
       "        vertical-align: top;\n",
       "    }\n",
       "\n",
       "    .dataframe thead th {\n",
       "        text-align: right;\n",
       "    }\n",
       "</style>\n",
       "<table border=\"1\" class=\"dataframe\">\n",
       "  <thead>\n",
       "    <tr style=\"text-align: right;\">\n",
       "      <th></th>\n",
       "      <th>gender</th>\n",
       "      <th>age</th>\n",
       "      <th>hypertension</th>\n",
       "      <th>heart_disease</th>\n",
       "      <th>ever_married</th>\n",
       "      <th>work_type</th>\n",
       "      <th>Residence_type</th>\n",
       "      <th>avg_glucose_level</th>\n",
       "      <th>bmi</th>\n",
       "      <th>smoking_status</th>\n",
       "      <th>stroke</th>\n",
       "    </tr>\n",
       "  </thead>\n",
       "  <tbody>\n",
       "    <tr>\n",
       "      <th>0</th>\n",
       "      <td>Homem</td>\n",
       "      <td>67.0</td>\n",
       "      <td>Saudável</td>\n",
       "      <td>Cardiopata</td>\n",
       "      <td>Sim</td>\n",
       "      <td>Privado</td>\n",
       "      <td>Urbano</td>\n",
       "      <td>228.69</td>\n",
       "      <td>36.6</td>\n",
       "      <td>Ex-Fumante</td>\n",
       "      <td>Teve Avc</td>\n",
       "    </tr>\n",
       "    <tr>\n",
       "      <th>1</th>\n",
       "      <td>Mulher</td>\n",
       "      <td>61.0</td>\n",
       "      <td>Saudável</td>\n",
       "      <td>Saudável</td>\n",
       "      <td>Sim</td>\n",
       "      <td>Trabalhador Autônomo</td>\n",
       "      <td>Rural</td>\n",
       "      <td>202.21</td>\n",
       "      <td>NaN</td>\n",
       "      <td>Nunca Fumou</td>\n",
       "      <td>Teve Avc</td>\n",
       "    </tr>\n",
       "    <tr>\n",
       "      <th>2</th>\n",
       "      <td>Homem</td>\n",
       "      <td>80.0</td>\n",
       "      <td>Saudável</td>\n",
       "      <td>Cardiopata</td>\n",
       "      <td>Sim</td>\n",
       "      <td>Privado</td>\n",
       "      <td>Rural</td>\n",
       "      <td>105.92</td>\n",
       "      <td>32.5</td>\n",
       "      <td>Nunca Fumou</td>\n",
       "      <td>Teve Avc</td>\n",
       "    </tr>\n",
       "    <tr>\n",
       "      <th>3</th>\n",
       "      <td>Mulher</td>\n",
       "      <td>49.0</td>\n",
       "      <td>Saudável</td>\n",
       "      <td>Saudável</td>\n",
       "      <td>Sim</td>\n",
       "      <td>Privado</td>\n",
       "      <td>Urbano</td>\n",
       "      <td>171.23</td>\n",
       "      <td>34.4</td>\n",
       "      <td>Fumante</td>\n",
       "      <td>Teve Avc</td>\n",
       "    </tr>\n",
       "    <tr>\n",
       "      <th>4</th>\n",
       "      <td>Mulher</td>\n",
       "      <td>79.0</td>\n",
       "      <td>Hipertenso</td>\n",
       "      <td>Saudável</td>\n",
       "      <td>Sim</td>\n",
       "      <td>Trabalhador Autônomo</td>\n",
       "      <td>Rural</td>\n",
       "      <td>174.12</td>\n",
       "      <td>24.0</td>\n",
       "      <td>Nunca Fumou</td>\n",
       "      <td>Teve Avc</td>\n",
       "    </tr>\n",
       "  </tbody>\n",
       "</table>\n",
       "</div>"
      ],
      "text/plain": [
       "   gender   age hypertension heart_disease ever_married  \\\n",
       "0   Homem  67.0     Saudável    Cardiopata          Sim   \n",
       "1  Mulher  61.0     Saudável      Saudável          Sim   \n",
       "2   Homem  80.0     Saudável    Cardiopata          Sim   \n",
       "3  Mulher  49.0     Saudável      Saudável          Sim   \n",
       "4  Mulher  79.0   Hipertenso      Saudável          Sim   \n",
       "\n",
       "               work_type Residence_type  avg_glucose_level   bmi  \\\n",
       "0                Privado         Urbano             228.69  36.6   \n",
       "1   Trabalhador Autônomo          Rural             202.21   NaN   \n",
       "2                Privado          Rural             105.92  32.5   \n",
       "3                Privado         Urbano             171.23  34.4   \n",
       "4   Trabalhador Autônomo          Rural             174.12  24.0   \n",
       "\n",
       "  smoking_status    stroke  \n",
       "0     Ex-Fumante  Teve Avc  \n",
       "1    Nunca Fumou  Teve Avc  \n",
       "2    Nunca Fumou  Teve Avc  \n",
       "3        Fumante  Teve Avc  \n",
       "4    Nunca Fumou  Teve Avc  "
      ]
     },
     "execution_count": 117,
     "metadata": {},
     "output_type": "execute_result"
    }
   ],
   "source": [
    "Stroke.head()"
   ]
  },
  {
   "cell_type": "markdown",
   "metadata": {},
   "source": [
    "# Variáveis Quantitativas(Outliers)"
   ]
  },
  {
   "cell_type": "code",
   "execution_count": 119,
   "metadata": {},
   "outputs": [
    {
     "data": {
      "text/plain": [
       "<AxesSubplot:xlabel='bmi', ylabel='Density'>"
      ]
     },
     "execution_count": 119,
     "metadata": {},
     "output_type": "execute_result"
    },
    {
     "data": {
      "image/png": "[encoded data removed]",
      "text/plain": [
       "<Figure size 432x288 with 1 Axes>"
      ]
     },
     "metadata": {
      "needs_background": "light"
     },
     "output_type": "display_data"
    }
   ],
   "source": [
    "#BMI(Indice de massa corporal)\n",
    "faixa=np.arange(min(Stroke.bmi),max(Stroke.bmi),4)\n",
    "sns.distplot(a=Stroke.bmi,bins=faixa,hist=True,norm_hist=False)"
   ]
  },
  {
   "cell_type": "markdown",
   "metadata": {},
   "source": [
    "Observações:<br>\n",
    "    -Pela análise do grafico percebe-se que entre os pacientes análisados a grande maioria se concentra numa faixa de valores entre o mínimo valor da variavel BMI e o valor de 60 para o índice de massa corporea,ou seja ,pode-se remover valores acima de 60 sem prejuízo para análises posteriores.<br>\n",
    "    -Além disso,a reposição de linhas nulas nessa coluna pode ser feita considerando uma amostra aleatória para o intervalo considerado visto no histograma sem ,no entanto ,haver maiores prejuizos para a análise exploratória dos dados.<br>\n",
    "    Fonte:http://www.laboranalise.com.br/como-calcular-seu-indice-de-massa-corporal/<br>"
   ]
  },
  {
   "cell_type": "code",
   "execution_count": 133,
   "metadata": {},
   "outputs": [],
   "source": [
    "#Retirando linhas da variável BMI:\n",
    "remove=list(Stroke[Stroke.bmi>60].index)\n",
    "Stroke.drop(index=remove,inplace=True)"
   ]
  },
  {
   "cell_type": "code",
   "execution_count": 136,
   "metadata": {},
   "outputs": [],
   "source": [
    "#Reposição de linhas nulas\n",
    "aleatório=np.random.randint(min(Stroke.bmi),60)\n",
    "Stroke.bmi=Stroke.bmi.fillna(value=aleatório)"
   ]
  },
  {
   "cell_type": "code",
   "execution_count": 137,
   "metadata": {},
   "outputs": [
    {
     "data": {
      "text/html": [
       "<div>\n",
       "<style scoped>\n",
       "    .dataframe tbody tr th:only-of-type {\n",
       "        vertical-align: middle;\n",
       "    }\n",
       "\n",
       "    .dataframe tbody tr th {\n",
       "        vertical-align: top;\n",
       "    }\n",
       "\n",
       "    .dataframe thead th {\n",
       "        text-align: right;\n",
       "    }\n",
       "</style>\n",
       "<table border=\"1\" class=\"dataframe\">\n",
       "  <thead>\n",
       "    <tr style=\"text-align: right;\">\n",
       "      <th></th>\n",
       "      <th>gender</th>\n",
       "      <th>age</th>\n",
       "      <th>hypertension</th>\n",
       "      <th>heart_disease</th>\n",
       "      <th>ever_married</th>\n",
       "      <th>work_type</th>\n",
       "      <th>Residence_type</th>\n",
       "      <th>avg_glucose_level</th>\n",
       "      <th>bmi</th>\n",
       "      <th>smoking_status</th>\n",
       "      <th>stroke</th>\n",
       "    </tr>\n",
       "  </thead>\n",
       "  <tbody>\n",
       "    <tr>\n",
       "      <th>0</th>\n",
       "      <td>Homem</td>\n",
       "      <td>67.0</td>\n",
       "      <td>Saudável</td>\n",
       "      <td>Cardiopata</td>\n",
       "      <td>Sim</td>\n",
       "      <td>Privado</td>\n",
       "      <td>Urbano</td>\n",
       "      <td>228.69</td>\n",
       "      <td>36.6</td>\n",
       "      <td>Ex-Fumante</td>\n",
       "      <td>Teve Avc</td>\n",
       "    </tr>\n",
       "    <tr>\n",
       "      <th>1</th>\n",
       "      <td>Mulher</td>\n",
       "      <td>61.0</td>\n",
       "      <td>Saudável</td>\n",
       "      <td>Saudável</td>\n",
       "      <td>Sim</td>\n",
       "      <td>Trabalhador Autônomo</td>\n",
       "      <td>Rural</td>\n",
       "      <td>202.21</td>\n",
       "      <td>22.0</td>\n",
       "      <td>Nunca Fumou</td>\n",
       "      <td>Teve Avc</td>\n",
       "    </tr>\n",
       "    <tr>\n",
       "      <th>2</th>\n",
       "      <td>Homem</td>\n",
       "      <td>80.0</td>\n",
       "      <td>Saudável</td>\n",
       "      <td>Cardiopata</td>\n",
       "      <td>Sim</td>\n",
       "      <td>Privado</td>\n",
       "      <td>Rural</td>\n",
       "      <td>105.92</td>\n",
       "      <td>32.5</td>\n",
       "      <td>Nunca Fumou</td>\n",
       "      <td>Teve Avc</td>\n",
       "    </tr>\n",
       "    <tr>\n",
       "      <th>3</th>\n",
       "      <td>Mulher</td>\n",
       "      <td>49.0</td>\n",
       "      <td>Saudável</td>\n",
       "      <td>Saudável</td>\n",
       "      <td>Sim</td>\n",
       "      <td>Privado</td>\n",
       "      <td>Urbano</td>\n",
       "      <td>171.23</td>\n",
       "      <td>34.4</td>\n",
       "      <td>Fumante</td>\n",
       "      <td>Teve Avc</td>\n",
       "    </tr>\n",
       "    <tr>\n",
       "      <th>4</th>\n",
       "      <td>Mulher</td>\n",
       "      <td>79.0</td>\n",
       "      <td>Hipertenso</td>\n",
       "      <td>Saudável</td>\n",
       "      <td>Sim</td>\n",
       "      <td>Trabalhador Autônomo</td>\n",
       "      <td>Rural</td>\n",
       "      <td>174.12</td>\n",
       "      <td>24.0</td>\n",
       "      <td>Nunca Fumou</td>\n",
       "      <td>Teve Avc</td>\n",
       "    </tr>\n",
       "  </tbody>\n",
       "</table>\n",
       "</div>"
      ],
      "text/plain": [
       "   gender   age hypertension heart_disease ever_married  \\\n",
       "0   Homem  67.0     Saudável    Cardiopata          Sim   \n",
       "1  Mulher  61.0     Saudável      Saudável          Sim   \n",
       "2   Homem  80.0     Saudável    Cardiopata          Sim   \n",
       "3  Mulher  49.0     Saudável      Saudável          Sim   \n",
       "4  Mulher  79.0   Hipertenso      Saudável          Sim   \n",
       "\n",
       "               work_type Residence_type  avg_glucose_level   bmi  \\\n",
       "0                Privado         Urbano             228.69  36.6   \n",
       "1   Trabalhador Autônomo          Rural             202.21  22.0   \n",
       "2                Privado          Rural             105.92  32.5   \n",
       "3                Privado         Urbano             171.23  34.4   \n",
       "4   Trabalhador Autônomo          Rural             174.12  24.0   \n",
       "\n",
       "  smoking_status    stroke  \n",
       "0     Ex-Fumante  Teve Avc  \n",
       "1    Nunca Fumou  Teve Avc  \n",
       "2    Nunca Fumou  Teve Avc  \n",
       "3        Fumante  Teve Avc  \n",
       "4    Nunca Fumou  Teve Avc  "
      ]
     },
     "execution_count": 137,
     "metadata": {},
     "output_type": "execute_result"
    }
   ],
   "source": [
    "Stroke.head()"
   ]
  },
  {
   "cell_type": "code",
   "execution_count": null,
   "metadata": {},
   "outputs": [],
   "source": []
  }
 ],
 "metadata": {
  "kernelspec": {
   "display_name": "Python 3",
   "language": "python",
   "name": "python3"
  },
  "language_info": {
   "codemirror_mode": {
    "name": "ipython",
    "version": 3
   },
   "file_extension": ".py",
   "mimetype": "text/x-python",
   "name": "python",
   "nbconvert_exporter": "python",
   "pygments_lexer": "ipython3",
   "version": "3.8.5"
  }
 },
 "nbformat": 4,
 "nbformat_minor": 4
}
