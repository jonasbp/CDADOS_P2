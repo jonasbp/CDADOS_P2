{
 "cells": [
  {
   "cell_type": "markdown",
   "metadata": {},
   "source": [
    "# Projeto 2-Ciência dos Dados\n"
   ]
  },
  {
   "cell_type": "markdown",
   "metadata": {},
   "source": [
    "# Predição de AVC"
   ]
  },
  {
   "cell_type": "markdown",
   "metadata": {},
   "source": [
    "Alunos:\n",
    "\n",
    "Jonas Bonfá\n",
    "\n",
    "Renato Falcão\n",
    "\n",
    "Gabriel de Araújo \n",
    "\n",
    "Ricardo Mourão"
   ]
  },
  {
   "cell_type": "markdown",
   "metadata": {},
   "source": [
    "# 1. Introdução"
   ]
  },
  {
   "cell_type": "markdown",
   "metadata": {},
   "source": [
    "## 1.1 O que é AVC?"
   ]
  },
  {
   "cell_type": "markdown",
   "metadata": {},
   "source": [
    "\n",
    "O AVC (CID 10 - I64) é o entupimento ou rompimento dos vasos que levam sangue ao cérebro, provocando a paralisia da região afetada no cérebro. Também é chamado de acidente vascular cerebral, derrame cerebral ou Acidente Vascular Encefálico (AVE\n",
    "Fonte:https://www.minhavida.com.br/saude/temas/avc\n"
   ]
  },
  {
   "cell_type": "markdown",
   "metadata": {},
   "source": [
    "## 1.2 Gravidade do Problema"
   ]
  },
  {
   "cell_type": "markdown",
   "metadata": {},
   "source": [
    "\n",
    "Segundo a Organização Mundial da Saúde (OMS), o AVC é a segunda principal causa de morte no mundo, responsável por aproximadamente 11% do total de óbitos.\n",
    "Este conjunto de dados é usado para prever se um paciente provavelmente terá um AVC com base nos parâmetros de entrada, como sexo, idade, várias doenças e estado de tabagismo. Cada linha nos dados fornece informações de renome sobre o paciente.\n",
    "Fonte Traduzida:https://www.kaggle.com/fedesoriano/stroke-prediction-dataset"
   ]
  },
  {
   "cell_type": "markdown",
   "metadata": {},
   "source": [
    "Sabemos que o AVC ,mais conhecido como acidente vascular cerebral ou derrame,é uma doença que ,nos tempos atuais,acomete ainda um grande número de pessoas ,baseado nisso uma base de dados https://www.kaggle.com/fedesoriano/stroke-prediction-dataset do site Kaggle que diz respeito a ocorrência de AVCs pretende responder a seguinte pergunta:Baseado nos dados de saúde e socio-econômicos de uma paciente será que ele teve ou não um AVC(acidente vascular cerebral)?"
   ]
  },
  {
   "cell_type": "markdown",
   "metadata": {},
   "source": [
    "Para isso vamos precisar de bibliotecas de machine learning que serão de fundamental importância para a predição do fenômeno análisado,bem como ,2 modelos de predição (Arvore de Decisão e Regressão Logística) que nos ajudarão a responder a pergunta principal!\n"
   ]
  },
  {
   "cell_type": "markdown",
   "metadata": {},
   "source": [
    "## 1.3 Importando Bibliotecas necessárias"
   ]
  },
  {
   "cell_type": "code",
   "execution_count": 1,
   "metadata": {},
   "outputs": [],
   "source": [
    "\n",
    "%matplotlib inline\n",
    "import math\n",
    "import os\n",
    "import seaborn as sns\n",
    "import matplotlib.pyplot as plt\n",
    "import numpy as np\n",
    "from numpy import arange\n",
    "import pandas as pd\n",
    "from random import randint\n",
    "# Remove warnings\n",
    "import warnings\n",
    "warnings.filterwarnings('ignore')\n",
    "from IPython.display import display  # Para ter melhor print."
   ]
  },
  {
   "cell_type": "code",
   "execution_count": 2,
   "metadata": {},
   "outputs": [
    {
     "name": "stdout",
     "output_type": "stream",
     "text": [
      "Esperamos trabalhar no diretório\n",
      "C:\\Users\\ricar\\OneDrive - Insper - Institudo de Ensino e Pesquisa\\Segundo Semestre\\CDADOS\\Projeto 2\\git\\CDADOS_P2\n",
      "Parece que o arquivo healthcare-dataset-stroke-data.csv está na mesma pasta do notebook da avaliação, yay!\n",
      "\n"
     ]
    }
   ],
   "source": [
    "print(\"Esperamos trabalhar no diretório\")\n",
    "print(os.getcwd())\n",
    "filename = 'healthcare-dataset-stroke-data.csv'\n",
    "\n",
    "if filename in os.listdir():\n",
    "    print(f'Parece que o arquivo {filename} está na mesma pasta do notebook da avaliação, yay!\\n')\n",
    "    \n",
    "else:\n",
    "    print(f'Não encontrei o arquivo {filename}.\\n'\n",
    "          f'O notebook e os arquivos de dados desta avaliação devem ser salvos dentro da mesma pasta no seu computador.\\n')"
   ]
  },
  {
   "cell_type": "markdown",
   "metadata": {},
   "source": [
    "## 1.4 Base de Dados"
   ]
  },
  {
   "cell_type": "markdown",
   "metadata": {},
   "source": [
    "A base dados contém algumas informações coletadas de vários pacientes no momento do exame. A seguir, estão descritas as informações originais contidas no dataset:\n",
    "<ol>\n",
    "<li>id: Informação referente a identificação do paciente(será retirada do dataset pois não importa para a análise)\n",
    "<li>gender:Gênero do paciente(Male ou Female)-Será alterado para homem e mulher \n",
    "\n",
    "<li>age:Idade do paciente(em anos)\n",
    "\n",
    "<li>hypertension(Hipertensão):<br>\t\n",
    "    <ul>\n",
    "        <li>0:Paciente não tem hipertensão  \n",
    "        <li>1: Paciente têm Hipertensão\n",
    "    </ul>\n",
    "<li>heart_disease(cardiopatia):<br>\n",
    "    <ul>\n",
    "    <li>0:Paciente não têm cardiopatia\n",
    "    <li>1:Paciente possui cardiopatia\n",
    "    </ul>\n",
    "<li>ever_married(já foi ou é casado):<br>\t\n",
    "    <ul>\n",
    "    <li>\"Yes\":È ou ja foi casado em algum momento\n",
    "    <li>\"No\":Nunca se casou\n",
    "    </ul>\n",
    "<li>work_type(tipo de trabalho do paciente):<br>\n",
    "    <ul>\n",
    "    <li>Private:Trabalho Privado          \n",
    "    <li>Self-employed:Autônomo     \n",
    "    <li>children:Criança-Não Trabalha          \n",
    "    <li>Govt_job:Trabalha para algum governo          \n",
    "    <li>Never_worked:Nunca Trabalhou \n",
    "    </ul>\n",
    "<li>Residence_type(tipo de Residência):<br>\n",
    "    <ul>\n",
    "    <li>Urban:Urbana\n",
    "    <li>Rural:Rural\n",
    "    </ul>\n",
    "<li>avg_glucose_level:Refere-se ao nível médio de glucose do paciente<br>\n",
    "\n",
    "<li>bmi(body mass index):Índice de massa corporea(relação entre altura e peso)<br>\n",
    "\n",
    "<li>smoking_status:Status de fumante<br>\n",
    "    <ul>\n",
    "    <li>never smoked:Nunca fumou       \n",
    "    <li>Unknown:Informação desconhecida            \n",
    "    <li>formerly smoked:Ex-fumante     \n",
    "    <li>smokes:Fuma atualmente \n",
    "    </ul>\n",
    "<li>stroke:indica se o paciente teve ou não AVC<br>\n",
    "    <ul>\n",
    "    <li>0:Não teve AVC\n",
    "    <li>1:teve AVC\n",
    "    </ul>\n",
    "\n"
   ]
  },
  {
   "cell_type": "markdown",
   "metadata": {},
   "source": [
    "## 1.5 Target ,Features e mudanças principais para a base de dados"
   ]
  },
  {
   "cell_type": "markdown",
   "metadata": {},
   "source": [
    "Target:No caso a váriavel escolhida foi o Stroke ,ou seja ,se o paciente teve ou não AVC.Nesse sentido,essa é a variável dependente,isto é,ela dependerá de todas as outras para a ánalise dos dados e predição da pergunta feita anteriormente.<br>\n",
    "Features:Variáveis independentes são consideradas todas as outras colunas do dataset que irão auxiliar na predição da variável target."
   ]
  },
  {
   "cell_type": "markdown",
   "metadata": {},
   "source": [
    "Mudanças necessárias:<br>\n",
    "    -Transformar algumas colunas(variáveis) para categóricas:Gender,Hypertension,heart_disease,stroke(possuem 0 ou 1 nos dados)<br>\n",
    "    -Limpar ou incrementar possíveis dados nulos no dataframe<br>\n",
    "    -Indentificar,nas variáveis quantitativas, quem destoa de algum padrão e,por isso ,pode ficar de fora do dataset,lembrando que chamamos de outliers.<br>"
   ]
  },
  {
   "cell_type": "markdown",
   "metadata": {},
   "source": [
    "## 1.6 Base de dados Original"
   ]
  },
  {
   "cell_type": "code",
   "execution_count": 3,
   "metadata": {
    "scrolled": false
   },
   "outputs": [
    {
     "data": {
      "text/html": [
       "<div>\n",
       "<style scoped>\n",
       "    .dataframe tbody tr th:only-of-type {\n",
       "        vertical-align: middle;\n",
       "    }\n",
       "\n",
       "    .dataframe tbody tr th {\n",
       "        vertical-align: top;\n",
       "    }\n",
       "\n",
       "    .dataframe thead th {\n",
       "        text-align: right;\n",
       "    }\n",
       "</style>\n",
       "<table border=\"1\" class=\"dataframe\">\n",
       "  <thead>\n",
       "    <tr style=\"text-align: right;\">\n",
       "      <th></th>\n",
       "      <th>id</th>\n",
       "      <th>gender</th>\n",
       "      <th>age</th>\n",
       "      <th>hypertension</th>\n",
       "      <th>heart_disease</th>\n",
       "      <th>ever_married</th>\n",
       "      <th>work_type</th>\n",
       "      <th>Residence_type</th>\n",
       "      <th>avg_glucose_level</th>\n",
       "      <th>bmi</th>\n",
       "      <th>smoking_status</th>\n",
       "      <th>stroke</th>\n",
       "    </tr>\n",
       "  </thead>\n",
       "  <tbody>\n",
       "    <tr>\n",
       "      <th>0</th>\n",
       "      <td>9046</td>\n",
       "      <td>Male</td>\n",
       "      <td>67.0</td>\n",
       "      <td>0</td>\n",
       "      <td>1</td>\n",
       "      <td>Yes</td>\n",
       "      <td>Private</td>\n",
       "      <td>Urban</td>\n",
       "      <td>228.69</td>\n",
       "      <td>36.6</td>\n",
       "      <td>formerly smoked</td>\n",
       "      <td>1</td>\n",
       "    </tr>\n",
       "    <tr>\n",
       "      <th>1</th>\n",
       "      <td>51676</td>\n",
       "      <td>Female</td>\n",
       "      <td>61.0</td>\n",
       "      <td>0</td>\n",
       "      <td>0</td>\n",
       "      <td>Yes</td>\n",
       "      <td>Self-employed</td>\n",
       "      <td>Rural</td>\n",
       "      <td>202.21</td>\n",
       "      <td>NaN</td>\n",
       "      <td>never smoked</td>\n",
       "      <td>1</td>\n",
       "    </tr>\n",
       "    <tr>\n",
       "      <th>2</th>\n",
       "      <td>31112</td>\n",
       "      <td>Male</td>\n",
       "      <td>80.0</td>\n",
       "      <td>0</td>\n",
       "      <td>1</td>\n",
       "      <td>Yes</td>\n",
       "      <td>Private</td>\n",
       "      <td>Rural</td>\n",
       "      <td>105.92</td>\n",
       "      <td>32.5</td>\n",
       "      <td>never smoked</td>\n",
       "      <td>1</td>\n",
       "    </tr>\n",
       "    <tr>\n",
       "      <th>3</th>\n",
       "      <td>60182</td>\n",
       "      <td>Female</td>\n",
       "      <td>49.0</td>\n",
       "      <td>0</td>\n",
       "      <td>0</td>\n",
       "      <td>Yes</td>\n",
       "      <td>Private</td>\n",
       "      <td>Urban</td>\n",
       "      <td>171.23</td>\n",
       "      <td>34.4</td>\n",
       "      <td>smokes</td>\n",
       "      <td>1</td>\n",
       "    </tr>\n",
       "    <tr>\n",
       "      <th>4</th>\n",
       "      <td>1665</td>\n",
       "      <td>Female</td>\n",
       "      <td>79.0</td>\n",
       "      <td>1</td>\n",
       "      <td>0</td>\n",
       "      <td>Yes</td>\n",
       "      <td>Self-employed</td>\n",
       "      <td>Rural</td>\n",
       "      <td>174.12</td>\n",
       "      <td>24.0</td>\n",
       "      <td>never smoked</td>\n",
       "      <td>1</td>\n",
       "    </tr>\n",
       "  </tbody>\n",
       "</table>\n",
       "</div>"
      ],
      "text/plain": [
       "      id  gender   age  hypertension  heart_disease ever_married  \\\n",
       "0   9046    Male  67.0             0              1          Yes   \n",
       "1  51676  Female  61.0             0              0          Yes   \n",
       "2  31112    Male  80.0             0              1          Yes   \n",
       "3  60182  Female  49.0             0              0          Yes   \n",
       "4   1665  Female  79.0             1              0          Yes   \n",
       "\n",
       "       work_type Residence_type  avg_glucose_level   bmi   smoking_status  \\\n",
       "0        Private          Urban             228.69  36.6  formerly smoked   \n",
       "1  Self-employed          Rural             202.21   NaN     never smoked   \n",
       "2        Private          Rural             105.92  32.5     never smoked   \n",
       "3        Private          Urban             171.23  34.4           smokes   \n",
       "4  Self-employed          Rural             174.12  24.0     never smoked   \n",
       "\n",
       "   stroke  \n",
       "0       1  \n",
       "1       1  \n",
       "2       1  \n",
       "3       1  \n",
       "4       1  "
      ]
     },
     "execution_count": 3,
     "metadata": {},
     "output_type": "execute_result"
    }
   ],
   "source": [
    "Stroke = pd.read_csv('healthcare-dataset-stroke-data.csv')\n",
    "Stroke.head()\n"
   ]
  },
  {
   "cell_type": "markdown",
   "metadata": {},
   "source": [
    "# Mineração de dados"
   ]
  },
  {
   "cell_type": "markdown",
   "metadata": {},
   "source": [
    "## 2.1 Implementando mudanças"
   ]
  },
  {
   "cell_type": "code",
   "execution_count": 4,
   "metadata": {},
   "outputs": [],
   "source": [
    "#transformando variáveis em categóricas\n",
    "Stroke['gender'] = Stroke['gender'].astype('category')\n",
    "Stroke['hypertension'] =Stroke['hypertension'].astype('category')\n",
    "Stroke['stroke'] = Stroke['stroke'].astype('category')\n",
    "Stroke['smoking_status'] = Stroke['smoking_status'].astype('category')\n",
    "Stroke['Residence_type'] = Stroke['Residence_type'].astype('category')\n",
    "Stroke['work_type'] = Stroke['work_type'].astype('category')\n",
    "Stroke['heart_disease'] = Stroke['heart_disease'].astype('category')\n",
    "Stroke[\"ever_married\"]=Stroke['ever_married'].astype('category')\n",
    "#Categorizando as variáveis com diferentes nomes afim de facilitar nossa análise\n",
    "Stroke['gender'].cat.categories = [\"Mulher\",\"Homem\",\"Outro\"]\n",
    "Stroke['hypertension'].cat.categories =[\"Saudável\",\"Hipertenso\"]\n",
    "Stroke['stroke'].cat.categories = [\" Não Teve Avc\",\"Teve Avc\"]\n",
    "Stroke['smoking_status'].cat.categories = [\"Desconhecido\",\"Ex-Fumante\",\"Nunca Fumou\",\"Fumante\"]\n",
    "Stroke['Residence_type'].cat.categories = [\"Rural\",\"Urbano\"]\n",
    "Stroke['work_type'].cat.categories = [\"Trabalho Governamental\",\"Nunca Trabalhou\",\"Privado\",\" Trabalhador Autônomo\",\"Criança\"]                \n",
    "Stroke['heart_disease'].cat.categories = ['Saudável',\"Cardiopata\"]\n",
    "Stroke[\"ever_married\"].cat.categories=[\"Não\",\"Sim\"]\n",
    "\n",
    "\n",
    "#Retirando coluna ID(não servirá para nossa amostra pois contem somente a identificação dos pacientes)\n",
    "Stroke.drop(columns=[\"id\"],inplace=True)\n",
    "\n",
    "\n"
   ]
  },
  {
   "cell_type": "code",
   "execution_count": 5,
   "metadata": {
    "scrolled": true
   },
   "outputs": [
    {
     "data": {
      "text/html": [
       "<div>\n",
       "<style scoped>\n",
       "    .dataframe tbody tr th:only-of-type {\n",
       "        vertical-align: middle;\n",
       "    }\n",
       "\n",
       "    .dataframe tbody tr th {\n",
       "        vertical-align: top;\n",
       "    }\n",
       "\n",
       "    .dataframe thead th {\n",
       "        text-align: right;\n",
       "    }\n",
       "</style>\n",
       "<table border=\"1\" class=\"dataframe\">\n",
       "  <thead>\n",
       "    <tr style=\"text-align: right;\">\n",
       "      <th></th>\n",
       "      <th>gender</th>\n",
       "      <th>age</th>\n",
       "      <th>hypertension</th>\n",
       "      <th>heart_disease</th>\n",
       "      <th>ever_married</th>\n",
       "      <th>work_type</th>\n",
       "      <th>Residence_type</th>\n",
       "      <th>avg_glucose_level</th>\n",
       "      <th>bmi</th>\n",
       "      <th>smoking_status</th>\n",
       "      <th>stroke</th>\n",
       "    </tr>\n",
       "  </thead>\n",
       "  <tbody>\n",
       "    <tr>\n",
       "      <th>0</th>\n",
       "      <td>Homem</td>\n",
       "      <td>67.0</td>\n",
       "      <td>Saudável</td>\n",
       "      <td>Cardiopata</td>\n",
       "      <td>Sim</td>\n",
       "      <td>Privado</td>\n",
       "      <td>Urbano</td>\n",
       "      <td>228.69</td>\n",
       "      <td>36.6</td>\n",
       "      <td>Ex-Fumante</td>\n",
       "      <td>Teve Avc</td>\n",
       "    </tr>\n",
       "    <tr>\n",
       "      <th>1</th>\n",
       "      <td>Mulher</td>\n",
       "      <td>61.0</td>\n",
       "      <td>Saudável</td>\n",
       "      <td>Saudável</td>\n",
       "      <td>Sim</td>\n",
       "      <td>Trabalhador Autônomo</td>\n",
       "      <td>Rural</td>\n",
       "      <td>202.21</td>\n",
       "      <td>NaN</td>\n",
       "      <td>Nunca Fumou</td>\n",
       "      <td>Teve Avc</td>\n",
       "    </tr>\n",
       "    <tr>\n",
       "      <th>2</th>\n",
       "      <td>Homem</td>\n",
       "      <td>80.0</td>\n",
       "      <td>Saudável</td>\n",
       "      <td>Cardiopata</td>\n",
       "      <td>Sim</td>\n",
       "      <td>Privado</td>\n",
       "      <td>Rural</td>\n",
       "      <td>105.92</td>\n",
       "      <td>32.5</td>\n",
       "      <td>Nunca Fumou</td>\n",
       "      <td>Teve Avc</td>\n",
       "    </tr>\n",
       "    <tr>\n",
       "      <th>3</th>\n",
       "      <td>Mulher</td>\n",
       "      <td>49.0</td>\n",
       "      <td>Saudável</td>\n",
       "      <td>Saudável</td>\n",
       "      <td>Sim</td>\n",
       "      <td>Privado</td>\n",
       "      <td>Urbano</td>\n",
       "      <td>171.23</td>\n",
       "      <td>34.4</td>\n",
       "      <td>Fumante</td>\n",
       "      <td>Teve Avc</td>\n",
       "    </tr>\n",
       "    <tr>\n",
       "      <th>4</th>\n",
       "      <td>Mulher</td>\n",
       "      <td>79.0</td>\n",
       "      <td>Hipertenso</td>\n",
       "      <td>Saudável</td>\n",
       "      <td>Sim</td>\n",
       "      <td>Trabalhador Autônomo</td>\n",
       "      <td>Rural</td>\n",
       "      <td>174.12</td>\n",
       "      <td>24.0</td>\n",
       "      <td>Nunca Fumou</td>\n",
       "      <td>Teve Avc</td>\n",
       "    </tr>\n",
       "  </tbody>\n",
       "</table>\n",
       "</div>"
      ],
      "text/plain": [
       "   gender   age hypertension heart_disease ever_married  \\\n",
       "0   Homem  67.0     Saudável    Cardiopata          Sim   \n",
       "1  Mulher  61.0     Saudável      Saudável          Sim   \n",
       "2   Homem  80.0     Saudável    Cardiopata          Sim   \n",
       "3  Mulher  49.0     Saudável      Saudável          Sim   \n",
       "4  Mulher  79.0   Hipertenso      Saudável          Sim   \n",
       "\n",
       "               work_type Residence_type  avg_glucose_level   bmi  \\\n",
       "0                Privado         Urbano             228.69  36.6   \n",
       "1   Trabalhador Autônomo          Rural             202.21   NaN   \n",
       "2                Privado          Rural             105.92  32.5   \n",
       "3                Privado         Urbano             171.23  34.4   \n",
       "4   Trabalhador Autônomo          Rural             174.12  24.0   \n",
       "\n",
       "  smoking_status    stroke  \n",
       "0     Ex-Fumante  Teve Avc  \n",
       "1    Nunca Fumou  Teve Avc  \n",
       "2    Nunca Fumou  Teve Avc  \n",
       "3        Fumante  Teve Avc  \n",
       "4    Nunca Fumou  Teve Avc  "
      ]
     },
     "execution_count": 5,
     "metadata": {},
     "output_type": "execute_result"
    }
   ],
   "source": [
    "Stroke.head()"
   ]
  },
  {
   "cell_type": "markdown",
   "metadata": {},
   "source": [
    "## 2.2 Modificando linhas nulas"
   ]
  },
  {
   "cell_type": "code",
   "execution_count": 6,
   "metadata": {},
   "outputs": [
    {
     "data": {
      "text/plain": [
       "gender                 0\n",
       "age                    0\n",
       "hypertension           0\n",
       "heart_disease          0\n",
       "ever_married           0\n",
       "work_type              0\n",
       "Residence_type         0\n",
       "avg_glucose_level      0\n",
       "bmi                  201\n",
       "smoking_status         0\n",
       "stroke                 0\n",
       "dtype: int64"
      ]
     },
     "execution_count": 6,
     "metadata": {},
     "output_type": "execute_result"
    },
    {
     "data": {
      "image/png": "[encoded data removed]",
      "text/plain": [
       "<Figure size 432x288 with 1 Axes>"
      ]
     },
     "metadata": {
      "needs_background": "light"
     },
     "output_type": "display_data"
    }
   ],
   "source": [
    "#heatmap da biblioteca seaborn para identificar elementos nulos ,bem como, o comando isnull que verifica linhas nulas\n",
    "sns.heatmap(Stroke.isnull(),yticklabels=False,cbar=False,cmap=\"viridis\")\n",
    "Stroke.isnull().sum()"
   ]
  },
  {
   "cell_type": "markdown",
   "metadata": {},
   "source": [
    "Observações:<br>\n",
    "        -Na coluna BMI(indíce de massa corporéa) há 201 linhas nulas<br>\n",
    "        -Para melhor análise será feita uma reposição desses valores considerando uma amostra aleatória desses valores"
   ]
  },
  {
   "cell_type": "code",
   "execution_count": 7,
   "metadata": {},
   "outputs": [
    {
     "data": {
      "text/html": [
       "<div>\n",
       "<style scoped>\n",
       "    .dataframe tbody tr th:only-of-type {\n",
       "        vertical-align: middle;\n",
       "    }\n",
       "\n",
       "    .dataframe tbody tr th {\n",
       "        vertical-align: top;\n",
       "    }\n",
       "\n",
       "    .dataframe thead th {\n",
       "        text-align: right;\n",
       "    }\n",
       "</style>\n",
       "<table border=\"1\" class=\"dataframe\">\n",
       "  <thead>\n",
       "    <tr style=\"text-align: right;\">\n",
       "      <th></th>\n",
       "      <th>gender</th>\n",
       "      <th>age</th>\n",
       "      <th>hypertension</th>\n",
       "      <th>heart_disease</th>\n",
       "      <th>ever_married</th>\n",
       "      <th>work_type</th>\n",
       "      <th>Residence_type</th>\n",
       "      <th>avg_glucose_level</th>\n",
       "      <th>bmi</th>\n",
       "      <th>smoking_status</th>\n",
       "      <th>stroke</th>\n",
       "    </tr>\n",
       "  </thead>\n",
       "  <tbody>\n",
       "    <tr>\n",
       "      <th>0</th>\n",
       "      <td>Homem</td>\n",
       "      <td>67.0</td>\n",
       "      <td>Saudável</td>\n",
       "      <td>Cardiopata</td>\n",
       "      <td>Sim</td>\n",
       "      <td>Privado</td>\n",
       "      <td>Urbano</td>\n",
       "      <td>228.69</td>\n",
       "      <td>36.6</td>\n",
       "      <td>Ex-Fumante</td>\n",
       "      <td>Teve Avc</td>\n",
       "    </tr>\n",
       "    <tr>\n",
       "      <th>1</th>\n",
       "      <td>Mulher</td>\n",
       "      <td>61.0</td>\n",
       "      <td>Saudável</td>\n",
       "      <td>Saudável</td>\n",
       "      <td>Sim</td>\n",
       "      <td>Trabalhador Autônomo</td>\n",
       "      <td>Rural</td>\n",
       "      <td>202.21</td>\n",
       "      <td>NaN</td>\n",
       "      <td>Nunca Fumou</td>\n",
       "      <td>Teve Avc</td>\n",
       "    </tr>\n",
       "    <tr>\n",
       "      <th>2</th>\n",
       "      <td>Homem</td>\n",
       "      <td>80.0</td>\n",
       "      <td>Saudável</td>\n",
       "      <td>Cardiopata</td>\n",
       "      <td>Sim</td>\n",
       "      <td>Privado</td>\n",
       "      <td>Rural</td>\n",
       "      <td>105.92</td>\n",
       "      <td>32.5</td>\n",
       "      <td>Nunca Fumou</td>\n",
       "      <td>Teve Avc</td>\n",
       "    </tr>\n",
       "    <tr>\n",
       "      <th>3</th>\n",
       "      <td>Mulher</td>\n",
       "      <td>49.0</td>\n",
       "      <td>Saudável</td>\n",
       "      <td>Saudável</td>\n",
       "      <td>Sim</td>\n",
       "      <td>Privado</td>\n",
       "      <td>Urbano</td>\n",
       "      <td>171.23</td>\n",
       "      <td>34.4</td>\n",
       "      <td>Fumante</td>\n",
       "      <td>Teve Avc</td>\n",
       "    </tr>\n",
       "    <tr>\n",
       "      <th>4</th>\n",
       "      <td>Mulher</td>\n",
       "      <td>79.0</td>\n",
       "      <td>Hipertenso</td>\n",
       "      <td>Saudável</td>\n",
       "      <td>Sim</td>\n",
       "      <td>Trabalhador Autônomo</td>\n",
       "      <td>Rural</td>\n",
       "      <td>174.12</td>\n",
       "      <td>24.0</td>\n",
       "      <td>Nunca Fumou</td>\n",
       "      <td>Teve Avc</td>\n",
       "    </tr>\n",
       "  </tbody>\n",
       "</table>\n",
       "</div>"
      ],
      "text/plain": [
       "   gender   age hypertension heart_disease ever_married  \\\n",
       "0   Homem  67.0     Saudável    Cardiopata          Sim   \n",
       "1  Mulher  61.0     Saudável      Saudável          Sim   \n",
       "2   Homem  80.0     Saudável    Cardiopata          Sim   \n",
       "3  Mulher  49.0     Saudável      Saudável          Sim   \n",
       "4  Mulher  79.0   Hipertenso      Saudável          Sim   \n",
       "\n",
       "               work_type Residence_type  avg_glucose_level   bmi  \\\n",
       "0                Privado         Urbano             228.69  36.6   \n",
       "1   Trabalhador Autônomo          Rural             202.21   NaN   \n",
       "2                Privado          Rural             105.92  32.5   \n",
       "3                Privado         Urbano             171.23  34.4   \n",
       "4   Trabalhador Autônomo          Rural             174.12  24.0   \n",
       "\n",
       "  smoking_status    stroke  \n",
       "0     Ex-Fumante  Teve Avc  \n",
       "1    Nunca Fumou  Teve Avc  \n",
       "2    Nunca Fumou  Teve Avc  \n",
       "3        Fumante  Teve Avc  \n",
       "4    Nunca Fumou  Teve Avc  "
      ]
     },
     "execution_count": 7,
     "metadata": {},
     "output_type": "execute_result"
    }
   ],
   "source": [
    "#Base de dados com categorizações em portugues para melhor visualização\n",
    "Stroke.head()"
   ]
  },
  {
   "cell_type": "markdown",
   "metadata": {},
   "source": [
    "## 2.3 Indentificação de possíveis Linhas fora de padrão(Outliers)"
   ]
  },
  {
   "cell_type": "code",
   "execution_count": 8,
   "metadata": {},
   "outputs": [
    {
     "data": {
      "text/plain": [
       "Mulher    2994\n",
       "Homem     2115\n",
       "Outro        1\n",
       "Name: gender, dtype: int64"
      ]
     },
     "execution_count": 8,
     "metadata": {},
     "output_type": "execute_result"
    }
   ],
   "source": [
    "Stroke.gender.value_counts()"
   ]
  },
  {
   "cell_type": "markdown",
   "metadata": {},
   "source": [
    "Observações:Para o gênero observamos um paciente com gênero não identificado como mulher ou homem,no entanto ,para 5110 pacientes apenas 1 paciente fora desses dois gêneros constitui algo fora do padrão por isso retirá-lo da amostra não impactará grandemente no resultado!"
   ]
  },
  {
   "cell_type": "code",
   "execution_count": 9,
   "metadata": {},
   "outputs": [],
   "source": [
    "#Retirando esse paciente\n",
    "Stroke[Stroke.gender==\"Outro\"]\n",
    "Stroke.drop(index=3116,inplace=True)\n"
   ]
  },
  {
   "cell_type": "code",
   "execution_count": 10,
   "metadata": {},
   "outputs": [
    {
     "data": {
      "text/html": [
       "<div>\n",
       "<style scoped>\n",
       "    .dataframe tbody tr th:only-of-type {\n",
       "        vertical-align: middle;\n",
       "    }\n",
       "\n",
       "    .dataframe tbody tr th {\n",
       "        vertical-align: top;\n",
       "    }\n",
       "\n",
       "    .dataframe thead th {\n",
       "        text-align: right;\n",
       "    }\n",
       "</style>\n",
       "<table border=\"1\" class=\"dataframe\">\n",
       "  <thead>\n",
       "    <tr style=\"text-align: right;\">\n",
       "      <th></th>\n",
       "      <th>gender</th>\n",
       "      <th>age</th>\n",
       "      <th>hypertension</th>\n",
       "      <th>heart_disease</th>\n",
       "      <th>ever_married</th>\n",
       "      <th>work_type</th>\n",
       "      <th>Residence_type</th>\n",
       "      <th>avg_glucose_level</th>\n",
       "      <th>bmi</th>\n",
       "      <th>smoking_status</th>\n",
       "      <th>stroke</th>\n",
       "    </tr>\n",
       "  </thead>\n",
       "  <tbody>\n",
       "    <tr>\n",
       "      <th>0</th>\n",
       "      <td>Homem</td>\n",
       "      <td>67.0</td>\n",
       "      <td>Saudável</td>\n",
       "      <td>Cardiopata</td>\n",
       "      <td>Sim</td>\n",
       "      <td>Privado</td>\n",
       "      <td>Urbano</td>\n",
       "      <td>228.69</td>\n",
       "      <td>36.6</td>\n",
       "      <td>Ex-Fumante</td>\n",
       "      <td>Teve Avc</td>\n",
       "    </tr>\n",
       "    <tr>\n",
       "      <th>1</th>\n",
       "      <td>Mulher</td>\n",
       "      <td>61.0</td>\n",
       "      <td>Saudável</td>\n",
       "      <td>Saudável</td>\n",
       "      <td>Sim</td>\n",
       "      <td>Trabalhador Autônomo</td>\n",
       "      <td>Rural</td>\n",
       "      <td>202.21</td>\n",
       "      <td>NaN</td>\n",
       "      <td>Nunca Fumou</td>\n",
       "      <td>Teve Avc</td>\n",
       "    </tr>\n",
       "    <tr>\n",
       "      <th>2</th>\n",
       "      <td>Homem</td>\n",
       "      <td>80.0</td>\n",
       "      <td>Saudável</td>\n",
       "      <td>Cardiopata</td>\n",
       "      <td>Sim</td>\n",
       "      <td>Privado</td>\n",
       "      <td>Rural</td>\n",
       "      <td>105.92</td>\n",
       "      <td>32.5</td>\n",
       "      <td>Nunca Fumou</td>\n",
       "      <td>Teve Avc</td>\n",
       "    </tr>\n",
       "    <tr>\n",
       "      <th>3</th>\n",
       "      <td>Mulher</td>\n",
       "      <td>49.0</td>\n",
       "      <td>Saudável</td>\n",
       "      <td>Saudável</td>\n",
       "      <td>Sim</td>\n",
       "      <td>Privado</td>\n",
       "      <td>Urbano</td>\n",
       "      <td>171.23</td>\n",
       "      <td>34.4</td>\n",
       "      <td>Fumante</td>\n",
       "      <td>Teve Avc</td>\n",
       "    </tr>\n",
       "    <tr>\n",
       "      <th>4</th>\n",
       "      <td>Mulher</td>\n",
       "      <td>79.0</td>\n",
       "      <td>Hipertenso</td>\n",
       "      <td>Saudável</td>\n",
       "      <td>Sim</td>\n",
       "      <td>Trabalhador Autônomo</td>\n",
       "      <td>Rural</td>\n",
       "      <td>174.12</td>\n",
       "      <td>24.0</td>\n",
       "      <td>Nunca Fumou</td>\n",
       "      <td>Teve Avc</td>\n",
       "    </tr>\n",
       "  </tbody>\n",
       "</table>\n",
       "</div>"
      ],
      "text/plain": [
       "   gender   age hypertension heart_disease ever_married  \\\n",
       "0   Homem  67.0     Saudável    Cardiopata          Sim   \n",
       "1  Mulher  61.0     Saudável      Saudável          Sim   \n",
       "2   Homem  80.0     Saudável    Cardiopata          Sim   \n",
       "3  Mulher  49.0     Saudável      Saudável          Sim   \n",
       "4  Mulher  79.0   Hipertenso      Saudável          Sim   \n",
       "\n",
       "               work_type Residence_type  avg_glucose_level   bmi  \\\n",
       "0                Privado         Urbano             228.69  36.6   \n",
       "1   Trabalhador Autônomo          Rural             202.21   NaN   \n",
       "2                Privado          Rural             105.92  32.5   \n",
       "3                Privado         Urbano             171.23  34.4   \n",
       "4   Trabalhador Autônomo          Rural             174.12  24.0   \n",
       "\n",
       "  smoking_status    stroke  \n",
       "0     Ex-Fumante  Teve Avc  \n",
       "1    Nunca Fumou  Teve Avc  \n",
       "2    Nunca Fumou  Teve Avc  \n",
       "3        Fumante  Teve Avc  \n",
       "4    Nunca Fumou  Teve Avc  "
      ]
     },
     "execution_count": 10,
     "metadata": {},
     "output_type": "execute_result"
    }
   ],
   "source": [
    "Stroke.head()"
   ]
  },
  {
   "cell_type": "markdown",
   "metadata": {},
   "source": [
    "## 2.4 Variáveis Quantitativas(Outliers)"
   ]
  },
  {
   "cell_type": "markdown",
   "metadata": {},
   "source": [
    "## 2.4.1 BMI"
   ]
  },
  {
   "cell_type": "code",
   "execution_count": 11,
   "metadata": {},
   "outputs": [
    {
     "data": {
      "text/plain": [
       "<matplotlib.axes._subplots.AxesSubplot at 0x1fff1c504f0>"
      ]
     },
     "execution_count": 11,
     "metadata": {},
     "output_type": "execute_result"
    },
    {
     "data": {
      "image/png": "[encoded data removed]",
      "text/plain": [
       "<Figure size 432x288 with 1 Axes>"
      ]
     },
     "metadata": {
      "needs_background": "light"
     },
     "output_type": "display_data"
    }
   ],
   "source": [
    "#BMI(Indice de massa corporal)\n",
    "faixa=np.arange(min(Stroke.bmi),max(Stroke.bmi),4)\n",
    "sns.distplot(a=Stroke.bmi,bins=faixa,hist=True,norm_hist=False)"
   ]
  },
  {
   "cell_type": "markdown",
   "metadata": {},
   "source": [
    "Observações:<br>\n",
    "    -Pela análise do grafico percebe-se que entre os pacientes análisados a grande maioria se concentra numa faixa de valores entre o mínimo valor da variavel BMI e o valor de 60 para o índice de massa corporea,ou seja ,pode-se remover valores acima de 60 sem prejuízo para análises posteriores.<br>\n",
    "    -Além disso,a reposição de linhas nulas nessa coluna pode ser feita considerando uma amostra aleatória para o intervalo considerado visto no histograma sem ,no entanto ,haver maiores prejuizos para a análise exploratória dos dados.<br>\n",
    "    Fonte:http://www.laboranalise.com.br/como-calcular-seu-indice-de-massa-corporal/<br>"
   ]
  },
  {
   "cell_type": "code",
   "execution_count": 12,
   "metadata": {},
   "outputs": [],
   "source": [
    "#Retirando linhas da variável BMI:\n",
    "remove=list(Stroke[Stroke.bmi>60].index)\n",
    "Stroke.drop(index=remove,inplace=True)"
   ]
  },
  {
   "cell_type": "code",
   "execution_count": 13,
   "metadata": {},
   "outputs": [],
   "source": [
    "#Reposição de linhas nulas\n",
    "aleatório=np.random.randint(min(Stroke.bmi),60)\n",
    "Stroke.bmi=Stroke.bmi.fillna(value=aleatório)"
   ]
  },
  {
   "cell_type": "code",
   "execution_count": 14,
   "metadata": {},
   "outputs": [
    {
     "data": {
      "text/html": [
       "<div>\n",
       "<style scoped>\n",
       "    .dataframe tbody tr th:only-of-type {\n",
       "        vertical-align: middle;\n",
       "    }\n",
       "\n",
       "    .dataframe tbody tr th {\n",
       "        vertical-align: top;\n",
       "    }\n",
       "\n",
       "    .dataframe thead th {\n",
       "        text-align: right;\n",
       "    }\n",
       "</style>\n",
       "<table border=\"1\" class=\"dataframe\">\n",
       "  <thead>\n",
       "    <tr style=\"text-align: right;\">\n",
       "      <th></th>\n",
       "      <th>gender</th>\n",
       "      <th>age</th>\n",
       "      <th>hypertension</th>\n",
       "      <th>heart_disease</th>\n",
       "      <th>ever_married</th>\n",
       "      <th>work_type</th>\n",
       "      <th>Residence_type</th>\n",
       "      <th>avg_glucose_level</th>\n",
       "      <th>bmi</th>\n",
       "      <th>smoking_status</th>\n",
       "      <th>stroke</th>\n",
       "    </tr>\n",
       "  </thead>\n",
       "  <tbody>\n",
       "    <tr>\n",
       "      <th>0</th>\n",
       "      <td>Homem</td>\n",
       "      <td>67.0</td>\n",
       "      <td>Saudável</td>\n",
       "      <td>Cardiopata</td>\n",
       "      <td>Sim</td>\n",
       "      <td>Privado</td>\n",
       "      <td>Urbano</td>\n",
       "      <td>228.69</td>\n",
       "      <td>36.6</td>\n",
       "      <td>Ex-Fumante</td>\n",
       "      <td>Teve Avc</td>\n",
       "    </tr>\n",
       "    <tr>\n",
       "      <th>1</th>\n",
       "      <td>Mulher</td>\n",
       "      <td>61.0</td>\n",
       "      <td>Saudável</td>\n",
       "      <td>Saudável</td>\n",
       "      <td>Sim</td>\n",
       "      <td>Trabalhador Autônomo</td>\n",
       "      <td>Rural</td>\n",
       "      <td>202.21</td>\n",
       "      <td>52.0</td>\n",
       "      <td>Nunca Fumou</td>\n",
       "      <td>Teve Avc</td>\n",
       "    </tr>\n",
       "    <tr>\n",
       "      <th>2</th>\n",
       "      <td>Homem</td>\n",
       "      <td>80.0</td>\n",
       "      <td>Saudável</td>\n",
       "      <td>Cardiopata</td>\n",
       "      <td>Sim</td>\n",
       "      <td>Privado</td>\n",
       "      <td>Rural</td>\n",
       "      <td>105.92</td>\n",
       "      <td>32.5</td>\n",
       "      <td>Nunca Fumou</td>\n",
       "      <td>Teve Avc</td>\n",
       "    </tr>\n",
       "    <tr>\n",
       "      <th>3</th>\n",
       "      <td>Mulher</td>\n",
       "      <td>49.0</td>\n",
       "      <td>Saudável</td>\n",
       "      <td>Saudável</td>\n",
       "      <td>Sim</td>\n",
       "      <td>Privado</td>\n",
       "      <td>Urbano</td>\n",
       "      <td>171.23</td>\n",
       "      <td>34.4</td>\n",
       "      <td>Fumante</td>\n",
       "      <td>Teve Avc</td>\n",
       "    </tr>\n",
       "    <tr>\n",
       "      <th>4</th>\n",
       "      <td>Mulher</td>\n",
       "      <td>79.0</td>\n",
       "      <td>Hipertenso</td>\n",
       "      <td>Saudável</td>\n",
       "      <td>Sim</td>\n",
       "      <td>Trabalhador Autônomo</td>\n",
       "      <td>Rural</td>\n",
       "      <td>174.12</td>\n",
       "      <td>24.0</td>\n",
       "      <td>Nunca Fumou</td>\n",
       "      <td>Teve Avc</td>\n",
       "    </tr>\n",
       "  </tbody>\n",
       "</table>\n",
       "</div>"
      ],
      "text/plain": [
       "   gender   age hypertension heart_disease ever_married  \\\n",
       "0   Homem  67.0     Saudável    Cardiopata          Sim   \n",
       "1  Mulher  61.0     Saudável      Saudável          Sim   \n",
       "2   Homem  80.0     Saudável    Cardiopata          Sim   \n",
       "3  Mulher  49.0     Saudável      Saudável          Sim   \n",
       "4  Mulher  79.0   Hipertenso      Saudável          Sim   \n",
       "\n",
       "               work_type Residence_type  avg_glucose_level   bmi  \\\n",
       "0                Privado         Urbano             228.69  36.6   \n",
       "1   Trabalhador Autônomo          Rural             202.21  52.0   \n",
       "2                Privado          Rural             105.92  32.5   \n",
       "3                Privado         Urbano             171.23  34.4   \n",
       "4   Trabalhador Autônomo          Rural             174.12  24.0   \n",
       "\n",
       "  smoking_status    stroke  \n",
       "0     Ex-Fumante  Teve Avc  \n",
       "1    Nunca Fumou  Teve Avc  \n",
       "2    Nunca Fumou  Teve Avc  \n",
       "3        Fumante  Teve Avc  \n",
       "4    Nunca Fumou  Teve Avc  "
      ]
     },
     "execution_count": 14,
     "metadata": {},
     "output_type": "execute_result"
    }
   ],
   "source": [
    "Stroke.head()"
   ]
  },
  {
   "cell_type": "code",
   "execution_count": 15,
   "metadata": {},
   "outputs": [
    {
     "data": {
      "text/plain": [
       "271.74"
      ]
     },
     "execution_count": 15,
     "metadata": {},
     "output_type": "execute_result"
    }
   ],
   "source": [
    "Stroke.avg_glucose_level.max()"
   ]
  },
  {
   "cell_type": "markdown",
   "metadata": {},
   "source": [
    "## 2.4.2 Age"
   ]
  },
  {
   "cell_type": "code",
   "execution_count": 16,
   "metadata": {},
   "outputs": [
    {
     "data": {
      "text/html": [
       "<div>\n",
       "<style scoped>\n",
       "    .dataframe tbody tr th:only-of-type {\n",
       "        vertical-align: middle;\n",
       "    }\n",
       "\n",
       "    .dataframe tbody tr th {\n",
       "        vertical-align: top;\n",
       "    }\n",
       "\n",
       "    .dataframe thead th {\n",
       "        text-align: right;\n",
       "    }\n",
       "</style>\n",
       "<table border=\"1\" class=\"dataframe\">\n",
       "  <thead>\n",
       "    <tr style=\"text-align: right;\">\n",
       "      <th></th>\n",
       "      <th>count</th>\n",
       "      <th>mean</th>\n",
       "      <th>std</th>\n",
       "      <th>min</th>\n",
       "      <th>25%</th>\n",
       "      <th>50%</th>\n",
       "      <th>75%</th>\n",
       "      <th>max</th>\n",
       "    </tr>\n",
       "    <tr>\n",
       "      <th>stroke</th>\n",
       "      <th></th>\n",
       "      <th></th>\n",
       "      <th></th>\n",
       "      <th></th>\n",
       "      <th></th>\n",
       "      <th></th>\n",
       "      <th></th>\n",
       "      <th></th>\n",
       "    </tr>\n",
       "  </thead>\n",
       "  <tbody>\n",
       "    <tr>\n",
       "      <th>Não Teve Avc</th>\n",
       "      <td>4847.0</td>\n",
       "      <td>41.974145</td>\n",
       "      <td>22.310737</td>\n",
       "      <td>0.08</td>\n",
       "      <td>24.0</td>\n",
       "      <td>43.0</td>\n",
       "      <td>59.0</td>\n",
       "      <td>82.0</td>\n",
       "    </tr>\n",
       "    <tr>\n",
       "      <th>Teve Avc</th>\n",
       "      <td>249.0</td>\n",
       "      <td>67.728193</td>\n",
       "      <td>12.727419</td>\n",
       "      <td>1.32</td>\n",
       "      <td>59.0</td>\n",
       "      <td>71.0</td>\n",
       "      <td>78.0</td>\n",
       "      <td>82.0</td>\n",
       "    </tr>\n",
       "  </tbody>\n",
       "</table>\n",
       "</div>"
      ],
      "text/plain": [
       "                count       mean        std   min   25%   50%   75%   max\n",
       "stroke                                                                   \n",
       " Não Teve Avc  4847.0  41.974145  22.310737  0.08  24.0  43.0  59.0  82.0\n",
       "Teve Avc        249.0  67.728193  12.727419  1.32  59.0  71.0  78.0  82.0"
      ]
     },
     "execution_count": 16,
     "metadata": {},
     "output_type": "execute_result"
    }
   ],
   "source": [
    "#COmando groupby para entender as idades dos dois grupos\n",
    "Stroke[\"age\"].groupby(by=Stroke[\"stroke\"]).describe()"
   ]
  },
  {
   "cell_type": "code",
   "execution_count": 17,
   "metadata": {},
   "outputs": [
    {
     "data": {
      "text/plain": [
       "<matplotlib.axes._subplots.AxesSubplot at 0x1fff1ce9ee0>"
      ]
     },
     "execution_count": 17,
     "metadata": {},
     "output_type": "execute_result"
    },
    {
     "data": {
      "image/png": "[encoded data removed]",
      "text/plain": [
       "<Figure size 432x288 with 1 Axes>"
      ]
     },
     "metadata": {
      "needs_background": "light"
     },
     "output_type": "display_data"
    }
   ],
   "source": [
    "#Boxplot da biblioteca seaborn para identificação de possiveis valores fora do padrão\n",
    "sns.boxplot(x=\"stroke\",y=\"age\",data=Stroke)"
   ]
  },
  {
   "cell_type": "code",
   "execution_count": 18,
   "metadata": {},
   "outputs": [
    {
     "data": {
      "text/plain": [
       "<matplotlib.axes._subplots.AxesSubplot at 0x1fff1d61d90>"
      ]
     },
     "execution_count": 18,
     "metadata": {},
     "output_type": "execute_result"
    },
    {
     "data": {
      "image/png": "[encoded data removed]",
      "text/plain": [
       "<Figure size 432x288 with 1 Axes>"
      ]
     },
     "metadata": {
      "needs_background": "light"
     },
     "output_type": "display_data"
    }
   ],
   "source": [
    "#comando stripplot para identificação de possíveis outliers\n",
    "sns.stripplot(x=\"stroke\", y=\"age\", data=Stroke)"
   ]
  },
  {
   "cell_type": "markdown",
   "metadata": {},
   "source": [
    "Observações: -Diante dos valores colocados no comando groupby ,bem como ,pela avaliação dos gráficos observam-se alguns fenômenos: 1-Em relação aos pacientes que não tiveram AVC há uma uniformidade correspondente nos gráficos e ,dessa forma,não se identificam possíveis outliers. 2-Para pacientes que tiveram AVC ,observa-se que pacientes acima de 59 anos correspodem a 75% da amostra ,assim como,há somente 3 pacientes,diante de quase 250,que possuem menos de 40 anos.Para se ter uma idéia na literatura medica a chance de avc para 35 ou menos e rara.Fonte- 3-Por isso ,de acordo com o gráfico ,o groupby feito e as literaturas estabelecidas podemos considerar pacientes abaixo de 35 anos (para os que tiveram AVC) como condição rara e ,portanto,serão considerados outliers."
   ]
  },
  {
   "cell_type": "code",
   "execution_count": 23,
   "metadata": {},
   "outputs": [
    {
     "data": {
      "text/html": [
       "<div>\n",
       "<style scoped>\n",
       "    .dataframe tbody tr th:only-of-type {\n",
       "        vertical-align: middle;\n",
       "    }\n",
       "\n",
       "    .dataframe tbody tr th {\n",
       "        vertical-align: top;\n",
       "    }\n",
       "\n",
       "    .dataframe thead th {\n",
       "        text-align: right;\n",
       "    }\n",
       "</style>\n",
       "<table border=\"1\" class=\"dataframe\">\n",
       "  <thead>\n",
       "    <tr style=\"text-align: right;\">\n",
       "      <th></th>\n",
       "      <th>gender</th>\n",
       "      <th>age</th>\n",
       "      <th>hypertension</th>\n",
       "      <th>heart_disease</th>\n",
       "      <th>ever_married</th>\n",
       "      <th>work_type</th>\n",
       "      <th>Residence_type</th>\n",
       "      <th>avg_glucose_level</th>\n",
       "      <th>bmi</th>\n",
       "      <th>smoking_status</th>\n",
       "      <th>stroke</th>\n",
       "    </tr>\n",
       "  </thead>\n",
       "  <tbody>\n",
       "    <tr>\n",
       "      <th>0</th>\n",
       "      <td>Homem</td>\n",
       "      <td>67.0</td>\n",
       "      <td>Saudável</td>\n",
       "      <td>Cardiopata</td>\n",
       "      <td>Sim</td>\n",
       "      <td>Privado</td>\n",
       "      <td>Urbano</td>\n",
       "      <td>228.69</td>\n",
       "      <td>36.6</td>\n",
       "      <td>Ex-Fumante</td>\n",
       "      <td>Teve Avc</td>\n",
       "    </tr>\n",
       "    <tr>\n",
       "      <th>1</th>\n",
       "      <td>Mulher</td>\n",
       "      <td>61.0</td>\n",
       "      <td>Saudável</td>\n",
       "      <td>Saudável</td>\n",
       "      <td>Sim</td>\n",
       "      <td>Trabalhador Autônomo</td>\n",
       "      <td>Rural</td>\n",
       "      <td>202.21</td>\n",
       "      <td>52.0</td>\n",
       "      <td>Nunca Fumou</td>\n",
       "      <td>Teve Avc</td>\n",
       "    </tr>\n",
       "    <tr>\n",
       "      <th>2</th>\n",
       "      <td>Homem</td>\n",
       "      <td>80.0</td>\n",
       "      <td>Saudável</td>\n",
       "      <td>Cardiopata</td>\n",
       "      <td>Sim</td>\n",
       "      <td>Privado</td>\n",
       "      <td>Rural</td>\n",
       "      <td>105.92</td>\n",
       "      <td>32.5</td>\n",
       "      <td>Nunca Fumou</td>\n",
       "      <td>Teve Avc</td>\n",
       "    </tr>\n",
       "    <tr>\n",
       "      <th>3</th>\n",
       "      <td>Mulher</td>\n",
       "      <td>49.0</td>\n",
       "      <td>Saudável</td>\n",
       "      <td>Saudável</td>\n",
       "      <td>Sim</td>\n",
       "      <td>Privado</td>\n",
       "      <td>Urbano</td>\n",
       "      <td>171.23</td>\n",
       "      <td>34.4</td>\n",
       "      <td>Fumante</td>\n",
       "      <td>Teve Avc</td>\n",
       "    </tr>\n",
       "    <tr>\n",
       "      <th>4</th>\n",
       "      <td>Mulher</td>\n",
       "      <td>79.0</td>\n",
       "      <td>Hipertenso</td>\n",
       "      <td>Saudável</td>\n",
       "      <td>Sim</td>\n",
       "      <td>Trabalhador Autônomo</td>\n",
       "      <td>Rural</td>\n",
       "      <td>174.12</td>\n",
       "      <td>24.0</td>\n",
       "      <td>Nunca Fumou</td>\n",
       "      <td>Teve Avc</td>\n",
       "    </tr>\n",
       "    <tr>\n",
       "      <th>...</th>\n",
       "      <td>...</td>\n",
       "      <td>...</td>\n",
       "      <td>...</td>\n",
       "      <td>...</td>\n",
       "      <td>...</td>\n",
       "      <td>...</td>\n",
       "      <td>...</td>\n",
       "      <td>...</td>\n",
       "      <td>...</td>\n",
       "      <td>...</td>\n",
       "      <td>...</td>\n",
       "    </tr>\n",
       "    <tr>\n",
       "      <th>5105</th>\n",
       "      <td>Mulher</td>\n",
       "      <td>80.0</td>\n",
       "      <td>Hipertenso</td>\n",
       "      <td>Saudável</td>\n",
       "      <td>Sim</td>\n",
       "      <td>Privado</td>\n",
       "      <td>Urbano</td>\n",
       "      <td>83.75</td>\n",
       "      <td>52.0</td>\n",
       "      <td>Nunca Fumou</td>\n",
       "      <td>Não Teve Avc</td>\n",
       "    </tr>\n",
       "    <tr>\n",
       "      <th>5106</th>\n",
       "      <td>Mulher</td>\n",
       "      <td>81.0</td>\n",
       "      <td>Saudável</td>\n",
       "      <td>Saudável</td>\n",
       "      <td>Sim</td>\n",
       "      <td>Trabalhador Autônomo</td>\n",
       "      <td>Urbano</td>\n",
       "      <td>125.20</td>\n",
       "      <td>40.0</td>\n",
       "      <td>Nunca Fumou</td>\n",
       "      <td>Não Teve Avc</td>\n",
       "    </tr>\n",
       "    <tr>\n",
       "      <th>5107</th>\n",
       "      <td>Mulher</td>\n",
       "      <td>35.0</td>\n",
       "      <td>Saudável</td>\n",
       "      <td>Saudável</td>\n",
       "      <td>Sim</td>\n",
       "      <td>Trabalhador Autônomo</td>\n",
       "      <td>Rural</td>\n",
       "      <td>82.99</td>\n",
       "      <td>30.6</td>\n",
       "      <td>Nunca Fumou</td>\n",
       "      <td>Não Teve Avc</td>\n",
       "    </tr>\n",
       "    <tr>\n",
       "      <th>5108</th>\n",
       "      <td>Homem</td>\n",
       "      <td>51.0</td>\n",
       "      <td>Saudável</td>\n",
       "      <td>Saudável</td>\n",
       "      <td>Sim</td>\n",
       "      <td>Privado</td>\n",
       "      <td>Rural</td>\n",
       "      <td>166.29</td>\n",
       "      <td>25.6</td>\n",
       "      <td>Ex-Fumante</td>\n",
       "      <td>Não Teve Avc</td>\n",
       "    </tr>\n",
       "    <tr>\n",
       "      <th>5109</th>\n",
       "      <td>Mulher</td>\n",
       "      <td>44.0</td>\n",
       "      <td>Saudável</td>\n",
       "      <td>Saudável</td>\n",
       "      <td>Sim</td>\n",
       "      <td>Trabalho Governamental</td>\n",
       "      <td>Urbano</td>\n",
       "      <td>85.28</td>\n",
       "      <td>26.2</td>\n",
       "      <td>Desconhecido</td>\n",
       "      <td>Não Teve Avc</td>\n",
       "    </tr>\n",
       "  </tbody>\n",
       "</table>\n",
       "<p>5093 rows × 11 columns</p>\n",
       "</div>"
      ],
      "text/plain": [
       "      gender   age hypertension heart_disease ever_married  \\\n",
       "0      Homem  67.0     Saudável    Cardiopata          Sim   \n",
       "1     Mulher  61.0     Saudável      Saudável          Sim   \n",
       "2      Homem  80.0     Saudável    Cardiopata          Sim   \n",
       "3     Mulher  49.0     Saudável      Saudável          Sim   \n",
       "4     Mulher  79.0   Hipertenso      Saudável          Sim   \n",
       "...      ...   ...          ...           ...          ...   \n",
       "5105  Mulher  80.0   Hipertenso      Saudável          Sim   \n",
       "5106  Mulher  81.0     Saudável      Saudável          Sim   \n",
       "5107  Mulher  35.0     Saudável      Saudável          Sim   \n",
       "5108   Homem  51.0     Saudável      Saudável          Sim   \n",
       "5109  Mulher  44.0     Saudável      Saudável          Sim   \n",
       "\n",
       "                   work_type Residence_type  avg_glucose_level   bmi  \\\n",
       "0                    Privado         Urbano             228.69  36.6   \n",
       "1       Trabalhador Autônomo          Rural             202.21  52.0   \n",
       "2                    Privado          Rural             105.92  32.5   \n",
       "3                    Privado         Urbano             171.23  34.4   \n",
       "4       Trabalhador Autônomo          Rural             174.12  24.0   \n",
       "...                      ...            ...                ...   ...   \n",
       "5105                 Privado         Urbano              83.75  52.0   \n",
       "5106    Trabalhador Autônomo         Urbano             125.20  40.0   \n",
       "5107    Trabalhador Autônomo          Rural              82.99  30.6   \n",
       "5108                 Privado          Rural             166.29  25.6   \n",
       "5109  Trabalho Governamental         Urbano              85.28  26.2   \n",
       "\n",
       "     smoking_status         stroke  \n",
       "0        Ex-Fumante       Teve Avc  \n",
       "1       Nunca Fumou       Teve Avc  \n",
       "2       Nunca Fumou       Teve Avc  \n",
       "3           Fumante       Teve Avc  \n",
       "4       Nunca Fumou       Teve Avc  \n",
       "...             ...            ...  \n",
       "5105    Nunca Fumou   Não Teve Avc  \n",
       "5106    Nunca Fumou   Não Teve Avc  \n",
       "5107    Nunca Fumou   Não Teve Avc  \n",
       "5108     Ex-Fumante   Não Teve Avc  \n",
       "5109   Desconhecido   Não Teve Avc  \n",
       "\n",
       "[5093 rows x 11 columns]"
      ]
     },
     "execution_count": 23,
     "metadata": {},
     "output_type": "execute_result"
    }
   ],
   "source": [
    "#Retirando linhas da variável Age:\n",
    "remove2=list(Stroke[(Stroke.age<35) & (Stroke.stroke==\"Teve Avc\") ].index)\n",
    "Stroke.drop(index=remove2)"
   ]
  },
  {
   "cell_type": "markdown",
   "metadata": {},
   "source": [
    "# 2.4.3 AVG_Glucose_level"
   ]
  },
  {
   "cell_type": "markdown",
   "metadata": {},
   "source": [
    "Justificativa:O mínimo para o nível médio de glicose ,bem como, o valor máximo para esse mesmo nível estão dentro de valores reais,segundo as fontes citadas abaixo.Logo,não foram identificados outliers(linhas fora do padrão) para essa variável quantitativa."
   ]
  },
  {
   "cell_type": "markdown",
   "metadata": {},
   "source": [
    "Fonte:https://cerpe.com.br/saude/glicose-alta-baixa-normal"
   ]
  },
  {
   "cell_type": "markdown",
   "metadata": {},
   "source": [
    "# Análise Exploratória"
   ]
  },
  {
   "cell_type": "code",
   "execution_count": null,
   "metadata": {},
   "outputs": [],
   "source": []
  }
 ],
 "metadata": {
  "kernelspec": {
   "display_name": "Python 3",
   "language": "python",
   "name": "python3"
  },
  "language_info": {
   "codemirror_mode": {
    "name": "ipython",
    "version": 3
   },
   "file_extension": ".py",
   "mimetype": "text/x-python",
   "name": "python",
   "nbconvert_exporter": "python",
   "pygments_lexer": "ipython3",
   "version": "3.8.3"
  }
 },
 "nbformat": 4,
 "nbformat_minor": 4
}
