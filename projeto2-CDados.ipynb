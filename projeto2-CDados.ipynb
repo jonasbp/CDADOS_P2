{
 "cells": [
  {
   "cell_type": "markdown",
   "metadata": {},
   "source": [
    "# Projeto 2-Ciência dos Dados\n"
   ]
  },
  {
   "cell_type": "markdown",
   "metadata": {},
   "source": [
    "# Predição de AVC"
   ]
  },
  {
   "cell_type": "markdown",
   "metadata": {},
   "source": [
    "Alunos:\n",
    "\n",
    "Jonas Bonfá\n",
    "\n",
    "Renato Falcão\n",
    "\n",
    "Gabriel de Araújo \n",
    "\n",
    "Ricardo Mourão"
   ]
  },
  {
   "cell_type": "markdown",
   "metadata": {},
   "source": [
    "# 1. Introdução"
   ]
  },
  {
   "cell_type": "markdown",
   "metadata": {},
   "source": [
    "## 1.1 O que é AVC?"
   ]
  },
  {
   "cell_type": "markdown",
   "metadata": {},
   "source": [
    "\n",
    "O AVC (CID 10 - I64) é o entupimento ou rompimento dos vasos que levam sangue ao cérebro, provocando a paralisia da região afetada no cérebro. Também é chamado de acidente vascular cerebral, derrame cerebral ou Acidente Vascular Encefálico (AVE)\n",
    "Fonte:https://www.minhavida.com.br/saude/temas/avc\n"
   ]
  },
  {
   "cell_type": "markdown",
   "metadata": {},
   "source": [
    "## 1.2 Gravidade do Problema"
   ]
  },
  {
   "cell_type": "markdown",
   "metadata": {},
   "source": [
    "\n",
    "Segundo a Organização Mundial da Saúde (OMS), o AVC é a segunda principal causa de morte no mundo, responsável por aproximadamente 11% do total de óbitos.\n",
    "Este conjunto de dados é usado para prever se um paciente provavelmente terá um AVC com base nos parâmetros de entrada, como sexo, idade, várias doenças e estado de tabagismo. Cada linha nos dados fornece informações de renome sobre o paciente.\n",
    "Fonte Traduzida:https://www.kaggle.com/fedesoriano/stroke-prediction-dataset"
   ]
  },
  {
   "cell_type": "markdown",
   "metadata": {},
   "source": [
    "Sabemos que o AVC ,mais conhecido como acidente vascular cerebral ou derrame,é uma doença que ,nos tempos atuais,acomete ainda um grande número de pessoas ,baseado nisso uma base de dados <a href=\"https://www.kaggle.com/fedesoriano/stroke-prediction-dataset\">sobre pacientes que possuem ou não AVC</a> do site Kaggle que diz respeito a ocorrência de AVCs pretende responder a seguinte pergunta:Baseado nos dados de saúde e socio-econômicos de um paciente será que ele teve ou não um AVC(acidente vascular cerebral)?"
   ]
  },
  {
   "cell_type": "markdown",
   "metadata": {},
   "source": [
    "Para isso vamos precisar de bibliotecas de machine learning que serão de fundamental importância para a predição do fenômeno análisado,bem como ,2 modelos de predição (Arvore de Decisão e Regressão Logística) que nos ajudarão a responder a pergunta principal!\n"
   ]
  },
  {
   "cell_type": "markdown",
   "metadata": {},
   "source": [
    "## 1.3 Importando Bibliotecas necessárias"
   ]
  },
  {
   "cell_type": "code",
   "execution_count": 1,
   "metadata": {},
   "outputs": [],
   "source": [
    "\n",
    "%matplotlib inline\n",
    "import math\n",
    "import os\n",
    "import seaborn as sns\n",
    "import matplotlib.pyplot as plt\n",
    "import numpy as np\n",
    "from numpy import arange\n",
    "import pandas as pd\n",
    "from random import randint\n",
    "# Remove warnings\n",
    "import warnings\n",
    "warnings.filterwarnings('ignore')\n",
    "from IPython.display import display, HTML  # Para ter melhor print.\n",
    "from math import *\n",
    "\n",
    "# Modelos preditivos\n",
    "from sklearn.tree import DecisionTreeClassifier\n",
    "from sklearn.ensemble import RandomForestClassifier\n",
    "from sklearn.linear_model import LogisticRegression\n",
    "\n",
    "# Módulos complementares para os modelos preditivos\n",
    "from sklearn.model_selection import train_test_split \n",
    "from sklearn.model_selection import cross_val_score\n",
    "from sklearn import metrics\n",
    "from sklearn.metrics import plot_confusion_matrix"
   ]
  },
  {
   "cell_type": "code",
   "execution_count": 2,
   "metadata": {},
   "outputs": [
    {
     "name": "stdout",
     "output_type": "stream",
     "text": [
      "Esperamos trabalhar no diretório\n",
      "C:\\Users\\ricar\\OneDrive - Insper - Institudo de Ensino e Pesquisa\\Segundo Semestre\\CDADOS\\Projeto 2\n",
      "Parece que o arquivo healthcare-dataset-stroke-data.csv está na mesma pasta do notebook da avaliação, yay!\n",
      "\n"
     ]
    }
   ],
   "source": [
    "print(\"Esperamos trabalhar no diretório\")\n",
    "print(os.getcwd())\n",
    "filename = 'healthcare-dataset-stroke-data.csv'\n",
    "\n",
    "if filename in os.listdir():\n",
    "    print(f'Parece que o arquivo {filename} está na mesma pasta do notebook da avaliação, yay!\\n')\n",
    "    \n",
    "else:\n",
    "    print(f'Não encontrei o arquivo {filename}.\\n'\n",
    "          f'O notebook e os arquivos de dados desta avaliação devem ser salvos dentro da mesma pasta no seu computador.\\n')"
   ]
  },
  {
   "cell_type": "markdown",
   "metadata": {},
   "source": [
    "## 1.4 Base de Dados"
   ]
  },
  {
   "cell_type": "markdown",
   "metadata": {},
   "source": [
    "A base dados contém algumas informações coletadas de vários pacientes no momento do exame. A seguir, estão descritas as informações originais contidas no dataset:\n",
    "<ol>\n",
    "<li>id: Informação referente a identificação do paciente(será retirada do dataset pois não importa para a análise)\n",
    "<li>gender:Gênero do paciente(Male ou Female)-Será alterado para homem e mulher \n",
    "\n",
    "<li>age:Idade do paciente(em anos)\n",
    "\n",
    "<li>hypertension(Hipertensão):<br>\t\n",
    "    <ul>\n",
    "        <li>0:Paciente não tem hipertensão  \n",
    "        <li>1: Paciente têm Hipertensão\n",
    "    </ul>\n",
    "<li>heart_disease(cardiopatia):<br>\n",
    "    <ul>\n",
    "    <li>0:Paciente não têm cardiopatia\n",
    "    <li>1:Paciente possui cardiopatia\n",
    "    </ul>\n",
    "<li>ever_married(já foi ou é casado):<br>\t\n",
    "    <ul>\n",
    "    <li>\"Yes\":È ou ja foi casado em algum momento\n",
    "    <li>\"No\":Nunca se casou\n",
    "    </ul>\n",
    "<li>work_type(tipo de trabalho do paciente):<br>\n",
    "    <ul>\n",
    "    <li>Private:Trabalho Privado          \n",
    "    <li>Self-employed:Autônomo     \n",
    "    <li>children:Criança-Não Trabalha          \n",
    "    <li>Govt_job:Trabalha para algum governo          \n",
    "    <li>Never_worked:Nunca Trabalhou \n",
    "    </ul>\n",
    "<li>Residence_type(tipo de Residência):<br>\n",
    "    <ul>\n",
    "    <li>Urban:Urbana\n",
    "    <li>Rural:Rural\n",
    "    </ul>\n",
    "<li>avg_glucose_level:Refere-se ao nível médio de glucose do paciente no sangue<br>\n",
    "\n",
    "<li>bmi(body mass index):Índice de massa corporea(relação entre altura e peso)<br>\n",
    "\n",
    "<li>smoking_status:Status de fumante<br>\n",
    "    <ul>\n",
    "    <li>never smoked:Nunca fumou       \n",
    "    <li>Unknown:Informação desconhecida            \n",
    "    <li>formerly smoked:Ex-fumante     \n",
    "    <li>smokes:Fuma atualmente \n",
    "    </ul>\n",
    "<li>stroke:indica se o paciente teve ou não AVC<br>\n",
    "    <ul>\n",
    "    <li>0:Não teve AVC\n",
    "    <li>1:teve AVC\n",
    "    </ul>\n",
    "\n"
   ]
  },
  {
   "cell_type": "markdown",
   "metadata": {},
   "source": [
    "# Target ,Features e mudanças principais para a base de dados"
   ]
  },
  {
   "cell_type": "markdown",
   "metadata": {},
   "source": [
    "Target:No caso a váriavel escolhida foi o Stroke ,ou seja ,se o paciente teve ou não AVC.Nesse sentido,essa é a variável dependente,isto é,ela dependerá de todas as outras para a ánalise dos dados e predição da pergunta feita anteriormente.<br>\n",
    "Features:Variáveis independentes são consideradas todas as outras colunas do dataset que irão auxiliar na predição da variável target."
   ]
  },
  {
   "cell_type": "markdown",
   "metadata": {},
   "source": [
    "Mudanças necessárias:<br>\n",
    "    -Transformar algumas colunas(variáveis) para categóricas:Gender,Hypertension,heart_disease,stroke(possuem 0 ou 1 nos dados)<br>\n",
    "    -Colocar em português as categorias de variáveis como:ever_married,work_type,Residence_type,smoking_status ,bem como ,deixar em português todas as colunas do dataframe <br>\n",
    "    -Limpar ou incrementar possíveis dados nulos no dataframe<br>\n",
    "    -Indentificar,nas variáveis quantitativas, quem destoa de algum padrão e,por isso ,pode ficar de fora do dataset,lembrando que chamamos de outliers.<br>"
   ]
  },
  {
   "cell_type": "markdown",
   "metadata": {},
   "source": [
    "# Base de dados Original"
   ]
  },
  {
   "cell_type": "code",
   "execution_count": 3,
   "metadata": {
    "scrolled": false
   },
   "outputs": [
    {
     "data": {
      "text/html": [
       "<div>\n",
       "<style scoped>\n",
       "    .dataframe tbody tr th:only-of-type {\n",
       "        vertical-align: middle;\n",
       "    }\n",
       "\n",
       "    .dataframe tbody tr th {\n",
       "        vertical-align: top;\n",
       "    }\n",
       "\n",
       "    .dataframe thead th {\n",
       "        text-align: right;\n",
       "    }\n",
       "</style>\n",
       "<table border=\"1\" class=\"dataframe\">\n",
       "  <thead>\n",
       "    <tr style=\"text-align: right;\">\n",
       "      <th></th>\n",
       "      <th>id</th>\n",
       "      <th>gender</th>\n",
       "      <th>age</th>\n",
       "      <th>hypertension</th>\n",
       "      <th>heart_disease</th>\n",
       "      <th>ever_married</th>\n",
       "      <th>work_type</th>\n",
       "      <th>Residence_type</th>\n",
       "      <th>avg_glucose_level</th>\n",
       "      <th>bmi</th>\n",
       "      <th>smoking_status</th>\n",
       "      <th>stroke</th>\n",
       "    </tr>\n",
       "  </thead>\n",
       "  <tbody>\n",
       "    <tr>\n",
       "      <th>0</th>\n",
       "      <td>9046</td>\n",
       "      <td>Male</td>\n",
       "      <td>67.0</td>\n",
       "      <td>0</td>\n",
       "      <td>1</td>\n",
       "      <td>Yes</td>\n",
       "      <td>Private</td>\n",
       "      <td>Urban</td>\n",
       "      <td>228.69</td>\n",
       "      <td>36.6</td>\n",
       "      <td>formerly smoked</td>\n",
       "      <td>1</td>\n",
       "    </tr>\n",
       "    <tr>\n",
       "      <th>1</th>\n",
       "      <td>51676</td>\n",
       "      <td>Female</td>\n",
       "      <td>61.0</td>\n",
       "      <td>0</td>\n",
       "      <td>0</td>\n",
       "      <td>Yes</td>\n",
       "      <td>Self-employed</td>\n",
       "      <td>Rural</td>\n",
       "      <td>202.21</td>\n",
       "      <td>NaN</td>\n",
       "      <td>never smoked</td>\n",
       "      <td>1</td>\n",
       "    </tr>\n",
       "    <tr>\n",
       "      <th>2</th>\n",
       "      <td>31112</td>\n",
       "      <td>Male</td>\n",
       "      <td>80.0</td>\n",
       "      <td>0</td>\n",
       "      <td>1</td>\n",
       "      <td>Yes</td>\n",
       "      <td>Private</td>\n",
       "      <td>Rural</td>\n",
       "      <td>105.92</td>\n",
       "      <td>32.5</td>\n",
       "      <td>never smoked</td>\n",
       "      <td>1</td>\n",
       "    </tr>\n",
       "    <tr>\n",
       "      <th>3</th>\n",
       "      <td>60182</td>\n",
       "      <td>Female</td>\n",
       "      <td>49.0</td>\n",
       "      <td>0</td>\n",
       "      <td>0</td>\n",
       "      <td>Yes</td>\n",
       "      <td>Private</td>\n",
       "      <td>Urban</td>\n",
       "      <td>171.23</td>\n",
       "      <td>34.4</td>\n",
       "      <td>smokes</td>\n",
       "      <td>1</td>\n",
       "    </tr>\n",
       "    <tr>\n",
       "      <th>4</th>\n",
       "      <td>1665</td>\n",
       "      <td>Female</td>\n",
       "      <td>79.0</td>\n",
       "      <td>1</td>\n",
       "      <td>0</td>\n",
       "      <td>Yes</td>\n",
       "      <td>Self-employed</td>\n",
       "      <td>Rural</td>\n",
       "      <td>174.12</td>\n",
       "      <td>24.0</td>\n",
       "      <td>never smoked</td>\n",
       "      <td>1</td>\n",
       "    </tr>\n",
       "  </tbody>\n",
       "</table>\n",
       "</div>"
      ],
      "text/plain": [
       "      id  gender   age  hypertension  heart_disease ever_married  \\\n",
       "0   9046    Male  67.0             0              1          Yes   \n",
       "1  51676  Female  61.0             0              0          Yes   \n",
       "2  31112    Male  80.0             0              1          Yes   \n",
       "3  60182  Female  49.0             0              0          Yes   \n",
       "4   1665  Female  79.0             1              0          Yes   \n",
       "\n",
       "       work_type Residence_type  avg_glucose_level   bmi   smoking_status  \\\n",
       "0        Private          Urban             228.69  36.6  formerly smoked   \n",
       "1  Self-employed          Rural             202.21   NaN     never smoked   \n",
       "2        Private          Rural             105.92  32.5     never smoked   \n",
       "3        Private          Urban             171.23  34.4           smokes   \n",
       "4  Self-employed          Rural             174.12  24.0     never smoked   \n",
       "\n",
       "   stroke  \n",
       "0       1  \n",
       "1       1  \n",
       "2       1  \n",
       "3       1  \n",
       "4       1  "
      ]
     },
     "execution_count": 3,
     "metadata": {},
     "output_type": "execute_result"
    }
   ],
   "source": [
    "Stroke = pd.read_csv('healthcare-dataset-stroke-data.csv')\n",
    "Stroke.head()\n"
   ]
  },
  {
   "cell_type": "markdown",
   "metadata": {},
   "source": [
    "# Implementando Categorização nas variáveis ordinais"
   ]
  },
  {
   "cell_type": "code",
   "execution_count": 4,
   "metadata": {},
   "outputs": [],
   "source": [
    "#transformando variáveis em categóricas\n",
    "Stroke['gender'] = Stroke['gender'].astype('category')\n",
    "Stroke['hypertension'] =Stroke['hypertension'].astype('category')\n",
    "Stroke['stroke'] = Stroke['stroke'].astype('category')\n",
    "Stroke['smoking_status'] = Stroke['smoking_status'].astype('category')\n",
    "Stroke['Residence_type'] = Stroke['Residence_type'].astype('category')\n",
    "Stroke['work_type'] = Stroke['work_type'].astype('category')\n",
    "Stroke['heart_disease'] = Stroke['heart_disease'].astype('category')\n",
    "Stroke[\"ever_married\"]=Stroke['ever_married'].astype('category')\n",
    "#Categorizando as variáveis com diferentes nomes afim de facilitar nossa análise\n",
    "Stroke['gender'].cat.categories = [\"Mulher\",\"Homem\",\"Outro\"]\n",
    "Stroke['hypertension'].cat.categories =[\"Não Hipertenso\",\"Hipertenso\"]\n",
    "Stroke['stroke'].cat.categories = [\"Saudável\",\"Doente\"]\n",
    "Stroke['smoking_status'].cat.categories = [\"Desconhecido\",\"Ex-Fumante\",\"Nunca Fumou\",\"Fumante\"]\n",
    "Stroke['Residence_type'].cat.categories = [\"Rural\",\"Urbano\"]\n",
    "Stroke['work_type'].cat.categories = [\"Trabalho Governamental\",\"Nunca Trabalhou\",\"Privado\",\" Trabalhador Autônomo\",\"Criança\"]                \n",
    "Stroke['heart_disease'].cat.categories = ['Não Cardiopata',\"Cardiopata\"]\n",
    "Stroke[\"ever_married\"].cat.categories=[\"Não\",\"Sim\"]\n",
    "\n",
    "\n",
    "#Retirando coluna ID(não servirá para nossa amostra pois contem somente a identificação dos pacientes)\n",
    "Stroke.drop(columns=[\"id\"],inplace=True)\n",
    "\n",
    "\n"
   ]
  },
  {
   "cell_type": "code",
   "execution_count": 5,
   "metadata": {},
   "outputs": [
    {
     "data": {
      "text/html": [
       "<div>\n",
       "<style scoped>\n",
       "    .dataframe tbody tr th:only-of-type {\n",
       "        vertical-align: middle;\n",
       "    }\n",
       "\n",
       "    .dataframe tbody tr th {\n",
       "        vertical-align: top;\n",
       "    }\n",
       "\n",
       "    .dataframe thead th {\n",
       "        text-align: right;\n",
       "    }\n",
       "</style>\n",
       "<table border=\"1\" class=\"dataframe\">\n",
       "  <thead>\n",
       "    <tr style=\"text-align: right;\">\n",
       "      <th></th>\n",
       "      <th>gender</th>\n",
       "      <th>age</th>\n",
       "      <th>hypertension</th>\n",
       "      <th>heart_disease</th>\n",
       "      <th>ever_married</th>\n",
       "      <th>work_type</th>\n",
       "      <th>Residence_type</th>\n",
       "      <th>avg_glucose_level</th>\n",
       "      <th>bmi</th>\n",
       "      <th>smoking_status</th>\n",
       "      <th>stroke</th>\n",
       "    </tr>\n",
       "  </thead>\n",
       "  <tbody>\n",
       "    <tr>\n",
       "      <th>0</th>\n",
       "      <td>Homem</td>\n",
       "      <td>67.0</td>\n",
       "      <td>Não Hipertenso</td>\n",
       "      <td>Cardiopata</td>\n",
       "      <td>Sim</td>\n",
       "      <td>Privado</td>\n",
       "      <td>Urbano</td>\n",
       "      <td>228.69</td>\n",
       "      <td>36.6</td>\n",
       "      <td>Ex-Fumante</td>\n",
       "      <td>Doente</td>\n",
       "    </tr>\n",
       "    <tr>\n",
       "      <th>1</th>\n",
       "      <td>Mulher</td>\n",
       "      <td>61.0</td>\n",
       "      <td>Não Hipertenso</td>\n",
       "      <td>Não Cardiopata</td>\n",
       "      <td>Sim</td>\n",
       "      <td>Trabalhador Autônomo</td>\n",
       "      <td>Rural</td>\n",
       "      <td>202.21</td>\n",
       "      <td>NaN</td>\n",
       "      <td>Nunca Fumou</td>\n",
       "      <td>Doente</td>\n",
       "    </tr>\n",
       "    <tr>\n",
       "      <th>2</th>\n",
       "      <td>Homem</td>\n",
       "      <td>80.0</td>\n",
       "      <td>Não Hipertenso</td>\n",
       "      <td>Cardiopata</td>\n",
       "      <td>Sim</td>\n",
       "      <td>Privado</td>\n",
       "      <td>Rural</td>\n",
       "      <td>105.92</td>\n",
       "      <td>32.5</td>\n",
       "      <td>Nunca Fumou</td>\n",
       "      <td>Doente</td>\n",
       "    </tr>\n",
       "    <tr>\n",
       "      <th>3</th>\n",
       "      <td>Mulher</td>\n",
       "      <td>49.0</td>\n",
       "      <td>Não Hipertenso</td>\n",
       "      <td>Não Cardiopata</td>\n",
       "      <td>Sim</td>\n",
       "      <td>Privado</td>\n",
       "      <td>Urbano</td>\n",
       "      <td>171.23</td>\n",
       "      <td>34.4</td>\n",
       "      <td>Fumante</td>\n",
       "      <td>Doente</td>\n",
       "    </tr>\n",
       "    <tr>\n",
       "      <th>4</th>\n",
       "      <td>Mulher</td>\n",
       "      <td>79.0</td>\n",
       "      <td>Hipertenso</td>\n",
       "      <td>Não Cardiopata</td>\n",
       "      <td>Sim</td>\n",
       "      <td>Trabalhador Autônomo</td>\n",
       "      <td>Rural</td>\n",
       "      <td>174.12</td>\n",
       "      <td>24.0</td>\n",
       "      <td>Nunca Fumou</td>\n",
       "      <td>Doente</td>\n",
       "    </tr>\n",
       "    <tr>\n",
       "      <th>...</th>\n",
       "      <td>...</td>\n",
       "      <td>...</td>\n",
       "      <td>...</td>\n",
       "      <td>...</td>\n",
       "      <td>...</td>\n",
       "      <td>...</td>\n",
       "      <td>...</td>\n",
       "      <td>...</td>\n",
       "      <td>...</td>\n",
       "      <td>...</td>\n",
       "      <td>...</td>\n",
       "    </tr>\n",
       "    <tr>\n",
       "      <th>5105</th>\n",
       "      <td>Mulher</td>\n",
       "      <td>80.0</td>\n",
       "      <td>Hipertenso</td>\n",
       "      <td>Não Cardiopata</td>\n",
       "      <td>Sim</td>\n",
       "      <td>Privado</td>\n",
       "      <td>Urbano</td>\n",
       "      <td>83.75</td>\n",
       "      <td>NaN</td>\n",
       "      <td>Nunca Fumou</td>\n",
       "      <td>Saudável</td>\n",
       "    </tr>\n",
       "    <tr>\n",
       "      <th>5106</th>\n",
       "      <td>Mulher</td>\n",
       "      <td>81.0</td>\n",
       "      <td>Não Hipertenso</td>\n",
       "      <td>Não Cardiopata</td>\n",
       "      <td>Sim</td>\n",
       "      <td>Trabalhador Autônomo</td>\n",
       "      <td>Urbano</td>\n",
       "      <td>125.20</td>\n",
       "      <td>40.0</td>\n",
       "      <td>Nunca Fumou</td>\n",
       "      <td>Saudável</td>\n",
       "    </tr>\n",
       "    <tr>\n",
       "      <th>5107</th>\n",
       "      <td>Mulher</td>\n",
       "      <td>35.0</td>\n",
       "      <td>Não Hipertenso</td>\n",
       "      <td>Não Cardiopata</td>\n",
       "      <td>Sim</td>\n",
       "      <td>Trabalhador Autônomo</td>\n",
       "      <td>Rural</td>\n",
       "      <td>82.99</td>\n",
       "      <td>30.6</td>\n",
       "      <td>Nunca Fumou</td>\n",
       "      <td>Saudável</td>\n",
       "    </tr>\n",
       "    <tr>\n",
       "      <th>5108</th>\n",
       "      <td>Homem</td>\n",
       "      <td>51.0</td>\n",
       "      <td>Não Hipertenso</td>\n",
       "      <td>Não Cardiopata</td>\n",
       "      <td>Sim</td>\n",
       "      <td>Privado</td>\n",
       "      <td>Rural</td>\n",
       "      <td>166.29</td>\n",
       "      <td>25.6</td>\n",
       "      <td>Ex-Fumante</td>\n",
       "      <td>Saudável</td>\n",
       "    </tr>\n",
       "    <tr>\n",
       "      <th>5109</th>\n",
       "      <td>Mulher</td>\n",
       "      <td>44.0</td>\n",
       "      <td>Não Hipertenso</td>\n",
       "      <td>Não Cardiopata</td>\n",
       "      <td>Sim</td>\n",
       "      <td>Trabalho Governamental</td>\n",
       "      <td>Urbano</td>\n",
       "      <td>85.28</td>\n",
       "      <td>26.2</td>\n",
       "      <td>Desconhecido</td>\n",
       "      <td>Saudável</td>\n",
       "    </tr>\n",
       "  </tbody>\n",
       "</table>\n",
       "<p>5110 rows × 11 columns</p>\n",
       "</div>"
      ],
      "text/plain": [
       "      gender   age    hypertension   heart_disease ever_married  \\\n",
       "0      Homem  67.0  Não Hipertenso      Cardiopata          Sim   \n",
       "1     Mulher  61.0  Não Hipertenso  Não Cardiopata          Sim   \n",
       "2      Homem  80.0  Não Hipertenso      Cardiopata          Sim   \n",
       "3     Mulher  49.0  Não Hipertenso  Não Cardiopata          Sim   \n",
       "4     Mulher  79.0      Hipertenso  Não Cardiopata          Sim   \n",
       "...      ...   ...             ...             ...          ...   \n",
       "5105  Mulher  80.0      Hipertenso  Não Cardiopata          Sim   \n",
       "5106  Mulher  81.0  Não Hipertenso  Não Cardiopata          Sim   \n",
       "5107  Mulher  35.0  Não Hipertenso  Não Cardiopata          Sim   \n",
       "5108   Homem  51.0  Não Hipertenso  Não Cardiopata          Sim   \n",
       "5109  Mulher  44.0  Não Hipertenso  Não Cardiopata          Sim   \n",
       "\n",
       "                   work_type Residence_type  avg_glucose_level   bmi  \\\n",
       "0                    Privado         Urbano             228.69  36.6   \n",
       "1       Trabalhador Autônomo          Rural             202.21   NaN   \n",
       "2                    Privado          Rural             105.92  32.5   \n",
       "3                    Privado         Urbano             171.23  34.4   \n",
       "4       Trabalhador Autônomo          Rural             174.12  24.0   \n",
       "...                      ...            ...                ...   ...   \n",
       "5105                 Privado         Urbano              83.75   NaN   \n",
       "5106    Trabalhador Autônomo         Urbano             125.20  40.0   \n",
       "5107    Trabalhador Autônomo          Rural              82.99  30.6   \n",
       "5108                 Privado          Rural             166.29  25.6   \n",
       "5109  Trabalho Governamental         Urbano              85.28  26.2   \n",
       "\n",
       "     smoking_status    stroke  \n",
       "0        Ex-Fumante    Doente  \n",
       "1       Nunca Fumou    Doente  \n",
       "2       Nunca Fumou    Doente  \n",
       "3           Fumante    Doente  \n",
       "4       Nunca Fumou    Doente  \n",
       "...             ...       ...  \n",
       "5105    Nunca Fumou  Saudável  \n",
       "5106    Nunca Fumou  Saudável  \n",
       "5107    Nunca Fumou  Saudável  \n",
       "5108     Ex-Fumante  Saudável  \n",
       "5109   Desconhecido  Saudável  \n",
       "\n",
       "[5110 rows x 11 columns]"
      ]
     },
     "execution_count": 5,
     "metadata": {},
     "output_type": "execute_result"
    }
   ],
   "source": [
    "Stroke"
   ]
  },
  {
   "cell_type": "markdown",
   "metadata": {},
   "source": [
    "# Modificando linhas nulas"
   ]
  },
  {
   "cell_type": "code",
   "execution_count": 6,
   "metadata": {},
   "outputs": [
    {
     "data": {
      "text/plain": [
       "gender                 0\n",
       "age                    0\n",
       "hypertension           0\n",
       "heart_disease          0\n",
       "ever_married           0\n",
       "work_type              0\n",
       "Residence_type         0\n",
       "avg_glucose_level      0\n",
       "bmi                  201\n",
       "smoking_status         0\n",
       "stroke                 0\n",
       "dtype: int64"
      ]
     },
     "execution_count": 6,
     "metadata": {},
     "output_type": "execute_result"
    },
    {
     "data": {
      "image/png": "[encoded data removed]",
      "text/plain": [
       "<Figure size 432x288 with 1 Axes>"
      ]
     },
     "metadata": {
      "needs_background": "light"
     },
     "output_type": "display_data"
    }
   ],
   "source": [
    "#heatmap da biblioteca seaborn para identificar elementos nulos ,bem como, o comando isnull que verifica linhas nulas\n",
    "sns.heatmap(Stroke.isnull(),yticklabels=False,cbar=False,cmap=\"viridis\")\n",
    "Stroke.isnull().sum()"
   ]
  },
  {
   "cell_type": "markdown",
   "metadata": {},
   "source": [
    "Observações:<br>\n",
    "        -Na coluna BMI(indíce de massa corporéa) há 201 linhas nulas<br>\n",
    "        -Posteriormente na identificação de outliers as linhas nulas serão sujeitas a análise e poderão ser ou não retiradas do dataframe"
   ]
  },
  {
   "cell_type": "code",
   "execution_count": 7,
   "metadata": {},
   "outputs": [
    {
     "data": {
      "text/html": [
       "<div>\n",
       "<style scoped>\n",
       "    .dataframe tbody tr th:only-of-type {\n",
       "        vertical-align: middle;\n",
       "    }\n",
       "\n",
       "    .dataframe tbody tr th {\n",
       "        vertical-align: top;\n",
       "    }\n",
       "\n",
       "    .dataframe thead th {\n",
       "        text-align: right;\n",
       "    }\n",
       "</style>\n",
       "<table border=\"1\" class=\"dataframe\">\n",
       "  <thead>\n",
       "    <tr style=\"text-align: right;\">\n",
       "      <th></th>\n",
       "      <th>gender</th>\n",
       "      <th>age</th>\n",
       "      <th>hypertension</th>\n",
       "      <th>heart_disease</th>\n",
       "      <th>ever_married</th>\n",
       "      <th>work_type</th>\n",
       "      <th>Residence_type</th>\n",
       "      <th>avg_glucose_level</th>\n",
       "      <th>bmi</th>\n",
       "      <th>smoking_status</th>\n",
       "      <th>stroke</th>\n",
       "    </tr>\n",
       "  </thead>\n",
       "  <tbody>\n",
       "    <tr>\n",
       "      <th>0</th>\n",
       "      <td>Homem</td>\n",
       "      <td>67.0</td>\n",
       "      <td>Não Hipertenso</td>\n",
       "      <td>Cardiopata</td>\n",
       "      <td>Sim</td>\n",
       "      <td>Privado</td>\n",
       "      <td>Urbano</td>\n",
       "      <td>228.69</td>\n",
       "      <td>36.6</td>\n",
       "      <td>Ex-Fumante</td>\n",
       "      <td>Doente</td>\n",
       "    </tr>\n",
       "    <tr>\n",
       "      <th>1</th>\n",
       "      <td>Mulher</td>\n",
       "      <td>61.0</td>\n",
       "      <td>Não Hipertenso</td>\n",
       "      <td>Não Cardiopata</td>\n",
       "      <td>Sim</td>\n",
       "      <td>Trabalhador Autônomo</td>\n",
       "      <td>Rural</td>\n",
       "      <td>202.21</td>\n",
       "      <td>NaN</td>\n",
       "      <td>Nunca Fumou</td>\n",
       "      <td>Doente</td>\n",
       "    </tr>\n",
       "    <tr>\n",
       "      <th>2</th>\n",
       "      <td>Homem</td>\n",
       "      <td>80.0</td>\n",
       "      <td>Não Hipertenso</td>\n",
       "      <td>Cardiopata</td>\n",
       "      <td>Sim</td>\n",
       "      <td>Privado</td>\n",
       "      <td>Rural</td>\n",
       "      <td>105.92</td>\n",
       "      <td>32.5</td>\n",
       "      <td>Nunca Fumou</td>\n",
       "      <td>Doente</td>\n",
       "    </tr>\n",
       "    <tr>\n",
       "      <th>3</th>\n",
       "      <td>Mulher</td>\n",
       "      <td>49.0</td>\n",
       "      <td>Não Hipertenso</td>\n",
       "      <td>Não Cardiopata</td>\n",
       "      <td>Sim</td>\n",
       "      <td>Privado</td>\n",
       "      <td>Urbano</td>\n",
       "      <td>171.23</td>\n",
       "      <td>34.4</td>\n",
       "      <td>Fumante</td>\n",
       "      <td>Doente</td>\n",
       "    </tr>\n",
       "    <tr>\n",
       "      <th>4</th>\n",
       "      <td>Mulher</td>\n",
       "      <td>79.0</td>\n",
       "      <td>Hipertenso</td>\n",
       "      <td>Não Cardiopata</td>\n",
       "      <td>Sim</td>\n",
       "      <td>Trabalhador Autônomo</td>\n",
       "      <td>Rural</td>\n",
       "      <td>174.12</td>\n",
       "      <td>24.0</td>\n",
       "      <td>Nunca Fumou</td>\n",
       "      <td>Doente</td>\n",
       "    </tr>\n",
       "  </tbody>\n",
       "</table>\n",
       "</div>"
      ],
      "text/plain": [
       "   gender   age    hypertension   heart_disease ever_married  \\\n",
       "0   Homem  67.0  Não Hipertenso      Cardiopata          Sim   \n",
       "1  Mulher  61.0  Não Hipertenso  Não Cardiopata          Sim   \n",
       "2   Homem  80.0  Não Hipertenso      Cardiopata          Sim   \n",
       "3  Mulher  49.0  Não Hipertenso  Não Cardiopata          Sim   \n",
       "4  Mulher  79.0      Hipertenso  Não Cardiopata          Sim   \n",
       "\n",
       "               work_type Residence_type  avg_glucose_level   bmi  \\\n",
       "0                Privado         Urbano             228.69  36.6   \n",
       "1   Trabalhador Autônomo          Rural             202.21   NaN   \n",
       "2                Privado          Rural             105.92  32.5   \n",
       "3                Privado         Urbano             171.23  34.4   \n",
       "4   Trabalhador Autônomo          Rural             174.12  24.0   \n",
       "\n",
       "  smoking_status  stroke  \n",
       "0     Ex-Fumante  Doente  \n",
       "1    Nunca Fumou  Doente  \n",
       "2    Nunca Fumou  Doente  \n",
       "3        Fumante  Doente  \n",
       "4    Nunca Fumou  Doente  "
      ]
     },
     "execution_count": 7,
     "metadata": {},
     "output_type": "execute_result"
    }
   ],
   "source": [
    "#Base de dados com categorizações em portugues para melhor visualização\n",
    "Stroke.head()"
   ]
  },
  {
   "cell_type": "markdown",
   "metadata": {},
   "source": [
    "# Indentificação de possíveis Linhas fora de padrão(Outliers)"
   ]
  },
  {
   "cell_type": "code",
   "execution_count": 8,
   "metadata": {},
   "outputs": [
    {
     "data": {
      "text/plain": [
       "Mulher    2994\n",
       "Homem     2115\n",
       "Outro        1\n",
       "Name: gender, dtype: int64"
      ]
     },
     "execution_count": 8,
     "metadata": {},
     "output_type": "execute_result"
    }
   ],
   "source": [
    "Stroke.gender.value_counts()"
   ]
  },
  {
   "cell_type": "markdown",
   "metadata": {},
   "source": [
    "Observações:Para o gênero observamos um paciente com gênero não identificado como mulher ou homem,no entanto ,para 5110 pacientes apenas 1 paciente fora desses dois gêneros constitui algo fora do padrão por isso retirá-lo da amostra não impactará grandemente no resultado.Além disso ,para esse paciente identificado não há outro paciente para que possam ser feitas comparações e análises.Logo,retirá-lo não impactará"
   ]
  },
  {
   "cell_type": "code",
   "execution_count": 9,
   "metadata": {},
   "outputs": [],
   "source": [
    "#Retirando esse paciente \n",
    "Stroke[Stroke.gender==\"Outro\"]\n",
    "Stroke.drop(index=3116,inplace=True)\n"
   ]
  },
  {
   "cell_type": "code",
   "execution_count": 10,
   "metadata": {},
   "outputs": [
    {
     "data": {
      "text/html": [
       "<div>\n",
       "<style scoped>\n",
       "    .dataframe tbody tr th:only-of-type {\n",
       "        vertical-align: middle;\n",
       "    }\n",
       "\n",
       "    .dataframe tbody tr th {\n",
       "        vertical-align: top;\n",
       "    }\n",
       "\n",
       "    .dataframe thead th {\n",
       "        text-align: right;\n",
       "    }\n",
       "</style>\n",
       "<table border=\"1\" class=\"dataframe\">\n",
       "  <thead>\n",
       "    <tr style=\"text-align: right;\">\n",
       "      <th></th>\n",
       "      <th>gender</th>\n",
       "      <th>age</th>\n",
       "      <th>hypertension</th>\n",
       "      <th>heart_disease</th>\n",
       "      <th>ever_married</th>\n",
       "      <th>work_type</th>\n",
       "      <th>Residence_type</th>\n",
       "      <th>avg_glucose_level</th>\n",
       "      <th>bmi</th>\n",
       "      <th>smoking_status</th>\n",
       "      <th>stroke</th>\n",
       "    </tr>\n",
       "  </thead>\n",
       "  <tbody>\n",
       "    <tr>\n",
       "      <th>0</th>\n",
       "      <td>Homem</td>\n",
       "      <td>67.0</td>\n",
       "      <td>Não Hipertenso</td>\n",
       "      <td>Cardiopata</td>\n",
       "      <td>Sim</td>\n",
       "      <td>Privado</td>\n",
       "      <td>Urbano</td>\n",
       "      <td>228.69</td>\n",
       "      <td>36.6</td>\n",
       "      <td>Ex-Fumante</td>\n",
       "      <td>Doente</td>\n",
       "    </tr>\n",
       "    <tr>\n",
       "      <th>1</th>\n",
       "      <td>Mulher</td>\n",
       "      <td>61.0</td>\n",
       "      <td>Não Hipertenso</td>\n",
       "      <td>Não Cardiopata</td>\n",
       "      <td>Sim</td>\n",
       "      <td>Trabalhador Autônomo</td>\n",
       "      <td>Rural</td>\n",
       "      <td>202.21</td>\n",
       "      <td>NaN</td>\n",
       "      <td>Nunca Fumou</td>\n",
       "      <td>Doente</td>\n",
       "    </tr>\n",
       "    <tr>\n",
       "      <th>2</th>\n",
       "      <td>Homem</td>\n",
       "      <td>80.0</td>\n",
       "      <td>Não Hipertenso</td>\n",
       "      <td>Cardiopata</td>\n",
       "      <td>Sim</td>\n",
       "      <td>Privado</td>\n",
       "      <td>Rural</td>\n",
       "      <td>105.92</td>\n",
       "      <td>32.5</td>\n",
       "      <td>Nunca Fumou</td>\n",
       "      <td>Doente</td>\n",
       "    </tr>\n",
       "    <tr>\n",
       "      <th>3</th>\n",
       "      <td>Mulher</td>\n",
       "      <td>49.0</td>\n",
       "      <td>Não Hipertenso</td>\n",
       "      <td>Não Cardiopata</td>\n",
       "      <td>Sim</td>\n",
       "      <td>Privado</td>\n",
       "      <td>Urbano</td>\n",
       "      <td>171.23</td>\n",
       "      <td>34.4</td>\n",
       "      <td>Fumante</td>\n",
       "      <td>Doente</td>\n",
       "    </tr>\n",
       "    <tr>\n",
       "      <th>4</th>\n",
       "      <td>Mulher</td>\n",
       "      <td>79.0</td>\n",
       "      <td>Hipertenso</td>\n",
       "      <td>Não Cardiopata</td>\n",
       "      <td>Sim</td>\n",
       "      <td>Trabalhador Autônomo</td>\n",
       "      <td>Rural</td>\n",
       "      <td>174.12</td>\n",
       "      <td>24.0</td>\n",
       "      <td>Nunca Fumou</td>\n",
       "      <td>Doente</td>\n",
       "    </tr>\n",
       "    <tr>\n",
       "      <th>...</th>\n",
       "      <td>...</td>\n",
       "      <td>...</td>\n",
       "      <td>...</td>\n",
       "      <td>...</td>\n",
       "      <td>...</td>\n",
       "      <td>...</td>\n",
       "      <td>...</td>\n",
       "      <td>...</td>\n",
       "      <td>...</td>\n",
       "      <td>...</td>\n",
       "      <td>...</td>\n",
       "    </tr>\n",
       "    <tr>\n",
       "      <th>5105</th>\n",
       "      <td>Mulher</td>\n",
       "      <td>80.0</td>\n",
       "      <td>Hipertenso</td>\n",
       "      <td>Não Cardiopata</td>\n",
       "      <td>Sim</td>\n",
       "      <td>Privado</td>\n",
       "      <td>Urbano</td>\n",
       "      <td>83.75</td>\n",
       "      <td>NaN</td>\n",
       "      <td>Nunca Fumou</td>\n",
       "      <td>Saudável</td>\n",
       "    </tr>\n",
       "    <tr>\n",
       "      <th>5106</th>\n",
       "      <td>Mulher</td>\n",
       "      <td>81.0</td>\n",
       "      <td>Não Hipertenso</td>\n",
       "      <td>Não Cardiopata</td>\n",
       "      <td>Sim</td>\n",
       "      <td>Trabalhador Autônomo</td>\n",
       "      <td>Urbano</td>\n",
       "      <td>125.20</td>\n",
       "      <td>40.0</td>\n",
       "      <td>Nunca Fumou</td>\n",
       "      <td>Saudável</td>\n",
       "    </tr>\n",
       "    <tr>\n",
       "      <th>5107</th>\n",
       "      <td>Mulher</td>\n",
       "      <td>35.0</td>\n",
       "      <td>Não Hipertenso</td>\n",
       "      <td>Não Cardiopata</td>\n",
       "      <td>Sim</td>\n",
       "      <td>Trabalhador Autônomo</td>\n",
       "      <td>Rural</td>\n",
       "      <td>82.99</td>\n",
       "      <td>30.6</td>\n",
       "      <td>Nunca Fumou</td>\n",
       "      <td>Saudável</td>\n",
       "    </tr>\n",
       "    <tr>\n",
       "      <th>5108</th>\n",
       "      <td>Homem</td>\n",
       "      <td>51.0</td>\n",
       "      <td>Não Hipertenso</td>\n",
       "      <td>Não Cardiopata</td>\n",
       "      <td>Sim</td>\n",
       "      <td>Privado</td>\n",
       "      <td>Rural</td>\n",
       "      <td>166.29</td>\n",
       "      <td>25.6</td>\n",
       "      <td>Ex-Fumante</td>\n",
       "      <td>Saudável</td>\n",
       "    </tr>\n",
       "    <tr>\n",
       "      <th>5109</th>\n",
       "      <td>Mulher</td>\n",
       "      <td>44.0</td>\n",
       "      <td>Não Hipertenso</td>\n",
       "      <td>Não Cardiopata</td>\n",
       "      <td>Sim</td>\n",
       "      <td>Trabalho Governamental</td>\n",
       "      <td>Urbano</td>\n",
       "      <td>85.28</td>\n",
       "      <td>26.2</td>\n",
       "      <td>Desconhecido</td>\n",
       "      <td>Saudável</td>\n",
       "    </tr>\n",
       "  </tbody>\n",
       "</table>\n",
       "<p>5109 rows × 11 columns</p>\n",
       "</div>"
      ],
      "text/plain": [
       "      gender   age    hypertension   heart_disease ever_married  \\\n",
       "0      Homem  67.0  Não Hipertenso      Cardiopata          Sim   \n",
       "1     Mulher  61.0  Não Hipertenso  Não Cardiopata          Sim   \n",
       "2      Homem  80.0  Não Hipertenso      Cardiopata          Sim   \n",
       "3     Mulher  49.0  Não Hipertenso  Não Cardiopata          Sim   \n",
       "4     Mulher  79.0      Hipertenso  Não Cardiopata          Sim   \n",
       "...      ...   ...             ...             ...          ...   \n",
       "5105  Mulher  80.0      Hipertenso  Não Cardiopata          Sim   \n",
       "5106  Mulher  81.0  Não Hipertenso  Não Cardiopata          Sim   \n",
       "5107  Mulher  35.0  Não Hipertenso  Não Cardiopata          Sim   \n",
       "5108   Homem  51.0  Não Hipertenso  Não Cardiopata          Sim   \n",
       "5109  Mulher  44.0  Não Hipertenso  Não Cardiopata          Sim   \n",
       "\n",
       "                   work_type Residence_type  avg_glucose_level   bmi  \\\n",
       "0                    Privado         Urbano             228.69  36.6   \n",
       "1       Trabalhador Autônomo          Rural             202.21   NaN   \n",
       "2                    Privado          Rural             105.92  32.5   \n",
       "3                    Privado         Urbano             171.23  34.4   \n",
       "4       Trabalhador Autônomo          Rural             174.12  24.0   \n",
       "...                      ...            ...                ...   ...   \n",
       "5105                 Privado         Urbano              83.75   NaN   \n",
       "5106    Trabalhador Autônomo         Urbano             125.20  40.0   \n",
       "5107    Trabalhador Autônomo          Rural              82.99  30.6   \n",
       "5108                 Privado          Rural             166.29  25.6   \n",
       "5109  Trabalho Governamental         Urbano              85.28  26.2   \n",
       "\n",
       "     smoking_status    stroke  \n",
       "0        Ex-Fumante    Doente  \n",
       "1       Nunca Fumou    Doente  \n",
       "2       Nunca Fumou    Doente  \n",
       "3           Fumante    Doente  \n",
       "4       Nunca Fumou    Doente  \n",
       "...             ...       ...  \n",
       "5105    Nunca Fumou  Saudável  \n",
       "5106    Nunca Fumou  Saudável  \n",
       "5107    Nunca Fumou  Saudável  \n",
       "5108     Ex-Fumante  Saudável  \n",
       "5109   Desconhecido  Saudável  \n",
       "\n",
       "[5109 rows x 11 columns]"
      ]
     },
     "execution_count": 10,
     "metadata": {},
     "output_type": "execute_result"
    }
   ],
   "source": [
    "Stroke"
   ]
  },
  {
   "cell_type": "markdown",
   "metadata": {},
   "source": [
    "# Variáveis Quantitativas( Identificando Outliers)"
   ]
  },
  {
   "cell_type": "markdown",
   "metadata": {},
   "source": [
    "Para as variáveis quantitativas ou numéricas há de se perceber um certo padrão de valores em relação a essas colunas presentes no dataframe.Contudo,pode-se constatar a presença de outliers,isto é ,valores que podem estar ou fora do padrão ou que não possuam sentido físico como ,por exemplo, uma idade negativa(variável age) ou valores de glicose(variável avg_glucose_level) acima do esperado.Por isso,a indentificação para possível retirada desses valores é de fundamental importância para o prosseguimento das análises."
   ]
  },
  {
   "cell_type": "code",
   "execution_count": 11,
   "metadata": {},
   "outputs": [],
   "source": [
    "var_numericas=Stroke.iloc[:,[1,7,8]]"
   ]
  },
  {
   "cell_type": "code",
   "execution_count": 12,
   "metadata": {},
   "outputs": [],
   "source": [
    "#divisão dos pacientes entre doentes e saudáveis(para a variável Stroke)-Quem teve ou não AVC\n",
    "stroke_column=list(Stroke.stroke.value_counts().index)\n",
    "#importando bibliotecas para a análise interativa\n",
    "from ipywidgets import interact, interactive, fixed, interact_manual\n",
    "import ipywidgets as widgets\n",
    "\n",
    "        "
   ]
  },
  {
   "cell_type": "code",
   "execution_count": 13,
   "metadata": {},
   "outputs": [
    {
     "data": {
      "application/vnd.jupyter.widget-view+json": {
       "model_id": "9b5c6434da4f4d1ca171eceea081c635",
       "version_major": 2,
       "version_minor": 0
      },
      "text/plain": [
       "interactive(children=(Dropdown(description='numericas', options=('age', 'avg_glucose_level', 'bmi'), value='ag…"
      ]
     },
     "metadata": {},
     "output_type": "display_data"
    }
   ],
   "source": [
    "#BMI(Indice de massa corporal)\n",
    "@interact(numericas=sorted(['age','avg_glucose_level','bmi']))\n",
    "def grafico_numericas(numericas):    \n",
    "#     for coluna in numericas:\n",
    "        plt.figure(figsize=(18,6))\n",
    "        #histplot\n",
    "        plt.subplot(121)\n",
    "        sns.histplot(data=Stroke, x=Stroke[numericas], hue='stroke', hue_order=stroke_column, multiple='layer',\n",
    "        stat='density', bins=np.arange(min(Stroke[numericas]),max(Stroke[numericas]),6), element='step', palette=['#5683B3', '#E00705'])\n",
    "        plt.ylabel('Densidade')\n",
    "        plt.xlabel(f'{numericas}')\n",
    "        plt.title(f'Densidade da incidência de AVC por {numericas}')\n",
    "        plt.fontsize=14\n",
    "        #boxplot\n",
    "        plt.subplot(122)\n",
    "        sns.boxplot(x=Stroke.stroke,y=Stroke[numericas],data=Stroke)\n"
   ]
  },
  {
   "cell_type": "markdown",
   "metadata": {},
   "source": [
    "Observações:\n",
    "    <li> Variável Age:Em relação a idade dos pacientes percebe-se ,em relação aos pacientes doentes(que tiveram AVC),a identificação,por meio do gráfico à direita, de 2 valores fora da faixa de números correspondentes a essa categoria,no entanto, segundo estudos do <a href=\"https://www.hospitalsiriolibanes.org.br/sua-saude/Paginas/avc-pode-ocorrer-criancas-adolescentes-chances-recuperacao-boas.aspx\">hospital Sírio Libanes</a> há chances ,apesar de menores,de crianças e jovens desenvolverem AVC(acidente vascular cerebral).Portanto,esses outliers não serão retirados no prosseguimento das análises.\n",
    "    <li>Variável avg_glucose_level:Para o nível de glicose percebe-se,tanto para os saudáveis quanto para os doentes ,uma faixa de valores que varia de 55 até aproximadamente 272.Sob esse viés, segundo <a href=\"https://cerpe.com.br/saude/glicose-alta-baixa-normal#:~:text=Valores%20de%20refer%C3%AAncia%20de%20glicemia,inferior%20a%2070%20mg%2FdL.\">o site controlaradiabetes</a> índices glicêmicos na faixa de valores citada anteriormente são possíveis ,embora valores acima de 200 já são considerados diabetes e precisam de cuidados.Dessa forma,não foram indentificados valores fisicamente impossíveis ou fora de um certo padrão ,por isso,serão considerados todos os valores.\n",
    "    <li>Variável BMI:Em relação ao BMI(índice de massa corporea) nota-se,para os pacientes saudáveis, <a href=\"https://www.minhavida.com.br/alimentacao/tudo-sobre/32159-imc\">valores acima de 60</a>, que já são considerados altos e fora do padrão ,no entanto,o valor máximo da variável no dataframe(97.6),bem como,os outros valores acima de 60 são fisicamente possíveis.Sob esse viés,não haverá retirada de linhas para esta variável.\n",
    "     <li>Não havendo retirada de possíveis outliers ,reitera-se que a não retirada desses valores considerados fora do padrão se deu por alguns motivos:<ul>\n",
    "         <li>A base de dados se refere aos pacientes análisados em relação ao AVC(Acidente Vascular Cerebral),dessa maneira,não se sabe como esses valores foram coletados e possíveis erros na coleta de informações podem ter sido cometidos,prejudicando a análise feita.\n",
    "        <li>Os valores encontrados ,apesar de fora do padrão ,não estão totalmente distantes da realidade,nem tampouco  são impossiveis fisicamente.Logo ,não há maiores motivos para a retirada destes números.    "
   ]
  },
  {
   "cell_type": "markdown",
   "metadata": {},
   "source": [
    "# Modificando BMI(linhas nulas)"
   ]
  },
  {
   "cell_type": "code",
   "execution_count": 14,
   "metadata": {},
   "outputs": [
    {
     "data": {
      "text/html": [
       "<div>\n",
       "<style scoped>\n",
       "    .dataframe tbody tr th:only-of-type {\n",
       "        vertical-align: middle;\n",
       "    }\n",
       "\n",
       "    .dataframe tbody tr th {\n",
       "        vertical-align: top;\n",
       "    }\n",
       "\n",
       "    .dataframe thead th {\n",
       "        text-align: right;\n",
       "    }\n",
       "</style>\n",
       "<table border=\"1\" class=\"dataframe\">\n",
       "  <thead>\n",
       "    <tr style=\"text-align: right;\">\n",
       "      <th></th>\n",
       "      <th>age</th>\n",
       "      <th>avg_glucose_level</th>\n",
       "      <th>bmi</th>\n",
       "    </tr>\n",
       "  </thead>\n",
       "  <tbody>\n",
       "    <tr>\n",
       "      <th>age</th>\n",
       "      <td>1.000000</td>\n",
       "      <td>0.238323</td>\n",
       "      <td>0.333314</td>\n",
       "    </tr>\n",
       "    <tr>\n",
       "      <th>avg_glucose_level</th>\n",
       "      <td>0.238323</td>\n",
       "      <td>1.000000</td>\n",
       "      <td>0.175672</td>\n",
       "    </tr>\n",
       "    <tr>\n",
       "      <th>bmi</th>\n",
       "      <td>0.333314</td>\n",
       "      <td>0.175672</td>\n",
       "      <td>1.000000</td>\n",
       "    </tr>\n",
       "  </tbody>\n",
       "</table>\n",
       "</div>"
      ],
      "text/plain": [
       "                        age  avg_glucose_level       bmi\n",
       "age                1.000000           0.238323  0.333314\n",
       "avg_glucose_level  0.238323           1.000000  0.175672\n",
       "bmi                0.333314           0.175672  1.000000"
      ]
     },
     "execution_count": 14,
     "metadata": {},
     "output_type": "execute_result"
    }
   ],
   "source": [
    "#identificacao da correlacao entre o BMI e as outras vairaveis numericas\n",
    "var_numericas.corr()"
   ]
  },
  {
   "cell_type": "markdown",
   "metadata": {},
   "source": [
    "Observacoes:\n",
    "    <li>Há uma baixa correlação entre a variável BMI e as outras variáveis ,logo, a reposição das linhas nulas em relacao a variável BMI se torna mais dificil.Portanto,sabendo que a base de dados possui mais de 5000 valores pode-se retirar as 201 linhas nulas da variavel BMI sem,no entanto ,identificar prejuizo a posteriores análises dessas variaveis independentes"
   ]
  },
  {
   "cell_type": "code",
   "execution_count": 15,
   "metadata": {},
   "outputs": [],
   "source": [
    "#retirando linhas nulas\n",
    "Stroke.dropna(inplace=True)"
   ]
  },
  {
   "cell_type": "code",
   "execution_count": 16,
   "metadata": {
    "scrolled": true
   },
   "outputs": [
    {
     "data": {
      "text/html": [
       "<div>\n",
       "<style scoped>\n",
       "    .dataframe tbody tr th:only-of-type {\n",
       "        vertical-align: middle;\n",
       "    }\n",
       "\n",
       "    .dataframe tbody tr th {\n",
       "        vertical-align: top;\n",
       "    }\n",
       "\n",
       "    .dataframe thead th {\n",
       "        text-align: right;\n",
       "    }\n",
       "</style>\n",
       "<table border=\"1\" class=\"dataframe\">\n",
       "  <thead>\n",
       "    <tr style=\"text-align: right;\">\n",
       "      <th></th>\n",
       "      <th>gender</th>\n",
       "      <th>age</th>\n",
       "      <th>hypertension</th>\n",
       "      <th>heart_disease</th>\n",
       "      <th>ever_married</th>\n",
       "      <th>work_type</th>\n",
       "      <th>Residence_type</th>\n",
       "      <th>avg_glucose_level</th>\n",
       "      <th>bmi</th>\n",
       "      <th>smoking_status</th>\n",
       "      <th>stroke</th>\n",
       "    </tr>\n",
       "  </thead>\n",
       "  <tbody>\n",
       "    <tr>\n",
       "      <th>0</th>\n",
       "      <td>Homem</td>\n",
       "      <td>67.0</td>\n",
       "      <td>Não Hipertenso</td>\n",
       "      <td>Cardiopata</td>\n",
       "      <td>Sim</td>\n",
       "      <td>Privado</td>\n",
       "      <td>Urbano</td>\n",
       "      <td>228.69</td>\n",
       "      <td>36.6</td>\n",
       "      <td>Ex-Fumante</td>\n",
       "      <td>Doente</td>\n",
       "    </tr>\n",
       "    <tr>\n",
       "      <th>2</th>\n",
       "      <td>Homem</td>\n",
       "      <td>80.0</td>\n",
       "      <td>Não Hipertenso</td>\n",
       "      <td>Cardiopata</td>\n",
       "      <td>Sim</td>\n",
       "      <td>Privado</td>\n",
       "      <td>Rural</td>\n",
       "      <td>105.92</td>\n",
       "      <td>32.5</td>\n",
       "      <td>Nunca Fumou</td>\n",
       "      <td>Doente</td>\n",
       "    </tr>\n",
       "    <tr>\n",
       "      <th>3</th>\n",
       "      <td>Mulher</td>\n",
       "      <td>49.0</td>\n",
       "      <td>Não Hipertenso</td>\n",
       "      <td>Não Cardiopata</td>\n",
       "      <td>Sim</td>\n",
       "      <td>Privado</td>\n",
       "      <td>Urbano</td>\n",
       "      <td>171.23</td>\n",
       "      <td>34.4</td>\n",
       "      <td>Fumante</td>\n",
       "      <td>Doente</td>\n",
       "    </tr>\n",
       "    <tr>\n",
       "      <th>4</th>\n",
       "      <td>Mulher</td>\n",
       "      <td>79.0</td>\n",
       "      <td>Hipertenso</td>\n",
       "      <td>Não Cardiopata</td>\n",
       "      <td>Sim</td>\n",
       "      <td>Trabalhador Autônomo</td>\n",
       "      <td>Rural</td>\n",
       "      <td>174.12</td>\n",
       "      <td>24.0</td>\n",
       "      <td>Nunca Fumou</td>\n",
       "      <td>Doente</td>\n",
       "    </tr>\n",
       "    <tr>\n",
       "      <th>5</th>\n",
       "      <td>Homem</td>\n",
       "      <td>81.0</td>\n",
       "      <td>Não Hipertenso</td>\n",
       "      <td>Não Cardiopata</td>\n",
       "      <td>Sim</td>\n",
       "      <td>Privado</td>\n",
       "      <td>Urbano</td>\n",
       "      <td>186.21</td>\n",
       "      <td>29.0</td>\n",
       "      <td>Ex-Fumante</td>\n",
       "      <td>Doente</td>\n",
       "    </tr>\n",
       "  </tbody>\n",
       "</table>\n",
       "</div>"
      ],
      "text/plain": [
       "   gender   age    hypertension   heart_disease ever_married  \\\n",
       "0   Homem  67.0  Não Hipertenso      Cardiopata          Sim   \n",
       "2   Homem  80.0  Não Hipertenso      Cardiopata          Sim   \n",
       "3  Mulher  49.0  Não Hipertenso  Não Cardiopata          Sim   \n",
       "4  Mulher  79.0      Hipertenso  Não Cardiopata          Sim   \n",
       "5   Homem  81.0  Não Hipertenso  Não Cardiopata          Sim   \n",
       "\n",
       "               work_type Residence_type  avg_glucose_level   bmi  \\\n",
       "0                Privado         Urbano             228.69  36.6   \n",
       "2                Privado          Rural             105.92  32.5   \n",
       "3                Privado         Urbano             171.23  34.4   \n",
       "4   Trabalhador Autônomo          Rural             174.12  24.0   \n",
       "5                Privado         Urbano             186.21  29.0   \n",
       "\n",
       "  smoking_status  stroke  \n",
       "0     Ex-Fumante  Doente  \n",
       "2    Nunca Fumou  Doente  \n",
       "3        Fumante  Doente  \n",
       "4    Nunca Fumou  Doente  \n",
       "5     Ex-Fumante  Doente  "
      ]
     },
     "execution_count": 16,
     "metadata": {},
     "output_type": "execute_result"
    }
   ],
   "source": [
    "Stroke.head()"
   ]
  },
  {
   "cell_type": "markdown",
   "metadata": {},
   "source": [
    "# Análise Exploratória"
   ]
  },
  {
   "cell_type": "markdown",
   "metadata": {},
   "source": [
    "# Introdução\n"
   ]
  },
  {
   "cell_type": "markdown",
   "metadata": {},
   "source": [
    "Agora segue-se ao projeto a análise exploratória de dados que ,por sua vez ,é uma etapa de fundamental importância para entender o comportamento da variável independente(target) em relação as outras variáveis (colunas) da base de dados já limpa.No entanto,a análise feita será dividida na análise das variáveis quantitativas em função da target e das variáveis qualitativas(categóricas) para melhor entendimento do processo\n",
    "\n",
    "Definindo as duas variáveis,vem que:\n",
    "\n",
    "   <li>Variáveis numéricas ou quantitativas: são aquelas cujo valor é um número, isto é, são ordinais (exemplos:age,bmi,avg_glucose_level) \n",
    "   <li>Variáveis categóricas ou qualitativas: são aquelas que denotam uma classificação ou categoria. Podem ser representadas por números, mas, nesse caso, cada número representa uma dessas categorias (exemplos: gender(masculino e feminino),hypertension(saudável ou doente) entre outros ...)\n",
    "    \n"
   ]
  },
  {
   "cell_type": "markdown",
   "metadata": {},
   "source": [
    "# Análise variáveis quantitativas"
   ]
  },
  {
   "cell_type": "code",
   "execution_count": 17,
   "metadata": {},
   "outputs": [
    {
     "data": {
      "text/html": [
       "<div>\n",
       "<style scoped>\n",
       "    .dataframe tbody tr th:only-of-type {\n",
       "        vertical-align: middle;\n",
       "    }\n",
       "\n",
       "    .dataframe tbody tr th {\n",
       "        vertical-align: top;\n",
       "    }\n",
       "\n",
       "    .dataframe thead th {\n",
       "        text-align: right;\n",
       "    }\n",
       "</style>\n",
       "<table border=\"1\" class=\"dataframe\">\n",
       "  <thead>\n",
       "    <tr style=\"text-align: right;\">\n",
       "      <th></th>\n",
       "      <th>age</th>\n",
       "      <th>avg_glucose_level</th>\n",
       "      <th>bmi</th>\n",
       "      <th>stroke</th>\n",
       "    </tr>\n",
       "  </thead>\n",
       "  <tbody>\n",
       "    <tr>\n",
       "      <th>0</th>\n",
       "      <td>67.0</td>\n",
       "      <td>228.69</td>\n",
       "      <td>36.6</td>\n",
       "      <td>Doente</td>\n",
       "    </tr>\n",
       "    <tr>\n",
       "      <th>2</th>\n",
       "      <td>80.0</td>\n",
       "      <td>105.92</td>\n",
       "      <td>32.5</td>\n",
       "      <td>Doente</td>\n",
       "    </tr>\n",
       "    <tr>\n",
       "      <th>3</th>\n",
       "      <td>49.0</td>\n",
       "      <td>171.23</td>\n",
       "      <td>34.4</td>\n",
       "      <td>Doente</td>\n",
       "    </tr>\n",
       "    <tr>\n",
       "      <th>4</th>\n",
       "      <td>79.0</td>\n",
       "      <td>174.12</td>\n",
       "      <td>24.0</td>\n",
       "      <td>Doente</td>\n",
       "    </tr>\n",
       "    <tr>\n",
       "      <th>5</th>\n",
       "      <td>81.0</td>\n",
       "      <td>186.21</td>\n",
       "      <td>29.0</td>\n",
       "      <td>Doente</td>\n",
       "    </tr>\n",
       "    <tr>\n",
       "      <th>...</th>\n",
       "      <td>...</td>\n",
       "      <td>...</td>\n",
       "      <td>...</td>\n",
       "      <td>...</td>\n",
       "    </tr>\n",
       "    <tr>\n",
       "      <th>5104</th>\n",
       "      <td>13.0</td>\n",
       "      <td>103.08</td>\n",
       "      <td>18.6</td>\n",
       "      <td>Saudável</td>\n",
       "    </tr>\n",
       "    <tr>\n",
       "      <th>5106</th>\n",
       "      <td>81.0</td>\n",
       "      <td>125.20</td>\n",
       "      <td>40.0</td>\n",
       "      <td>Saudável</td>\n",
       "    </tr>\n",
       "    <tr>\n",
       "      <th>5107</th>\n",
       "      <td>35.0</td>\n",
       "      <td>82.99</td>\n",
       "      <td>30.6</td>\n",
       "      <td>Saudável</td>\n",
       "    </tr>\n",
       "    <tr>\n",
       "      <th>5108</th>\n",
       "      <td>51.0</td>\n",
       "      <td>166.29</td>\n",
       "      <td>25.6</td>\n",
       "      <td>Saudável</td>\n",
       "    </tr>\n",
       "    <tr>\n",
       "      <th>5109</th>\n",
       "      <td>44.0</td>\n",
       "      <td>85.28</td>\n",
       "      <td>26.2</td>\n",
       "      <td>Saudável</td>\n",
       "    </tr>\n",
       "  </tbody>\n",
       "</table>\n",
       "<p>4908 rows × 4 columns</p>\n",
       "</div>"
      ],
      "text/plain": [
       "       age  avg_glucose_level   bmi    stroke\n",
       "0     67.0             228.69  36.6    Doente\n",
       "2     80.0             105.92  32.5    Doente\n",
       "3     49.0             171.23  34.4    Doente\n",
       "4     79.0             174.12  24.0    Doente\n",
       "5     81.0             186.21  29.0    Doente\n",
       "...    ...                ...   ...       ...\n",
       "5104  13.0             103.08  18.6  Saudável\n",
       "5106  81.0             125.20  40.0  Saudável\n",
       "5107  35.0              82.99  30.6  Saudável\n",
       "5108  51.0             166.29  25.6  Saudável\n",
       "5109  44.0              85.28  26.2  Saudável\n",
       "\n",
       "[4908 rows x 4 columns]"
      ]
     },
     "execution_count": 17,
     "metadata": {},
     "output_type": "execute_result"
    }
   ],
   "source": [
    "#separando o dataframe nas variáveis numéricas junto a variavel resposta\n",
    "num=Stroke.iloc[:,[1,7,8,10]]\n",
    "num"
   ]
  },
  {
   "cell_type": "code",
   "execution_count": 18,
   "metadata": {},
   "outputs": [
    {
     "data": {
      "text/html": [
       "<div>\n",
       "<style scoped>\n",
       "    .dataframe tbody tr th:only-of-type {\n",
       "        vertical-align: middle;\n",
       "    }\n",
       "\n",
       "    .dataframe tbody tr th {\n",
       "        vertical-align: top;\n",
       "    }\n",
       "\n",
       "    .dataframe thead th {\n",
       "        text-align: right;\n",
       "    }\n",
       "</style>\n",
       "<table border=\"1\" class=\"dataframe\">\n",
       "  <thead>\n",
       "    <tr style=\"text-align: right;\">\n",
       "      <th></th>\n",
       "      <th>stroke</th>\n",
       "      <th>Saudável</th>\n",
       "      <th>Doente</th>\n",
       "    </tr>\n",
       "  </thead>\n",
       "  <tbody>\n",
       "    <tr>\n",
       "      <th rowspan=\"8\" valign=\"top\">age</th>\n",
       "      <th>count</th>\n",
       "      <td>4699.000000</td>\n",
       "      <td>209.000000</td>\n",
       "    </tr>\n",
       "    <tr>\n",
       "      <th>mean</th>\n",
       "      <td>41.763805</td>\n",
       "      <td>67.712919</td>\n",
       "    </tr>\n",
       "    <tr>\n",
       "      <th>std</th>\n",
       "      <td>22.269312</td>\n",
       "      <td>12.402848</td>\n",
       "    </tr>\n",
       "    <tr>\n",
       "      <th>min</th>\n",
       "      <td>0.080000</td>\n",
       "      <td>14.000000</td>\n",
       "    </tr>\n",
       "    <tr>\n",
       "      <th>25%</th>\n",
       "      <td>24.000000</td>\n",
       "      <td>58.000000</td>\n",
       "    </tr>\n",
       "    <tr>\n",
       "      <th>50%</th>\n",
       "      <td>43.000000</td>\n",
       "      <td>70.000000</td>\n",
       "    </tr>\n",
       "    <tr>\n",
       "      <th>75%</th>\n",
       "      <td>59.000000</td>\n",
       "      <td>78.000000</td>\n",
       "    </tr>\n",
       "    <tr>\n",
       "      <th>max</th>\n",
       "      <td>82.000000</td>\n",
       "      <td>82.000000</td>\n",
       "    </tr>\n",
       "    <tr>\n",
       "      <th rowspan=\"8\" valign=\"top\">avg_glucose_level</th>\n",
       "      <th>count</th>\n",
       "      <td>4699.000000</td>\n",
       "      <td>209.000000</td>\n",
       "    </tr>\n",
       "    <tr>\n",
       "      <th>mean</th>\n",
       "      <td>103.995367</td>\n",
       "      <td>134.571388</td>\n",
       "    </tr>\n",
       "    <tr>\n",
       "      <th>std</th>\n",
       "      <td>42.998546</td>\n",
       "      <td>62.462047</td>\n",
       "    </tr>\n",
       "    <tr>\n",
       "      <th>min</th>\n",
       "      <td>55.120000</td>\n",
       "      <td>56.110000</td>\n",
       "    </tr>\n",
       "    <tr>\n",
       "      <th>25%</th>\n",
       "      <td>76.885000</td>\n",
       "      <td>80.430000</td>\n",
       "    </tr>\n",
       "    <tr>\n",
       "      <th>50%</th>\n",
       "      <td>91.210000</td>\n",
       "      <td>106.580000</td>\n",
       "    </tr>\n",
       "    <tr>\n",
       "      <th>75%</th>\n",
       "      <td>112.420000</td>\n",
       "      <td>196.920000</td>\n",
       "    </tr>\n",
       "    <tr>\n",
       "      <th>max</th>\n",
       "      <td>267.760000</td>\n",
       "      <td>271.740000</td>\n",
       "    </tr>\n",
       "    <tr>\n",
       "      <th rowspan=\"8\" valign=\"top\">bmi</th>\n",
       "      <th>count</th>\n",
       "      <td>4699.000000</td>\n",
       "      <td>209.000000</td>\n",
       "    </tr>\n",
       "    <tr>\n",
       "      <th>mean</th>\n",
       "      <td>28.824431</td>\n",
       "      <td>30.471292</td>\n",
       "    </tr>\n",
       "    <tr>\n",
       "      <th>std</th>\n",
       "      <td>7.908573</td>\n",
       "      <td>6.329452</td>\n",
       "    </tr>\n",
       "    <tr>\n",
       "      <th>min</th>\n",
       "      <td>10.300000</td>\n",
       "      <td>16.900000</td>\n",
       "    </tr>\n",
       "    <tr>\n",
       "      <th>25%</th>\n",
       "      <td>23.400000</td>\n",
       "      <td>26.400000</td>\n",
       "    </tr>\n",
       "    <tr>\n",
       "      <th>50%</th>\n",
       "      <td>28.000000</td>\n",
       "      <td>29.700000</td>\n",
       "    </tr>\n",
       "    <tr>\n",
       "      <th>75%</th>\n",
       "      <td>33.100000</td>\n",
       "      <td>33.700000</td>\n",
       "    </tr>\n",
       "    <tr>\n",
       "      <th>max</th>\n",
       "      <td>97.600000</td>\n",
       "      <td>56.600000</td>\n",
       "    </tr>\n",
       "  </tbody>\n",
       "</table>\n",
       "</div>"
      ],
      "text/plain": [
       "stroke                      Saudável      Doente\n",
       "age               count  4699.000000  209.000000\n",
       "                  mean     41.763805   67.712919\n",
       "                  std      22.269312   12.402848\n",
       "                  min       0.080000   14.000000\n",
       "                  25%      24.000000   58.000000\n",
       "                  50%      43.000000   70.000000\n",
       "                  75%      59.000000   78.000000\n",
       "                  max      82.000000   82.000000\n",
       "avg_glucose_level count  4699.000000  209.000000\n",
       "                  mean    103.995367  134.571388\n",
       "                  std      42.998546   62.462047\n",
       "                  min      55.120000   56.110000\n",
       "                  25%      76.885000   80.430000\n",
       "                  50%      91.210000  106.580000\n",
       "                  75%     112.420000  196.920000\n",
       "                  max     267.760000  271.740000\n",
       "bmi               count  4699.000000  209.000000\n",
       "                  mean     28.824431   30.471292\n",
       "                  std       7.908573    6.329452\n",
       "                  min      10.300000   16.900000\n",
       "                  25%      23.400000   26.400000\n",
       "                  50%      28.000000   29.700000\n",
       "                  75%      33.100000   33.700000\n",
       "                  max      97.600000   56.600000"
      ]
     },
     "execution_count": 18,
     "metadata": {},
     "output_type": "execute_result"
    }
   ],
   "source": [
    "#Uso do comando groupby para observar as estatísticas das variáveis numericas em função das duas categorias da variavel target\n",
    "#(pacientes que tiveram AVC ou nao tiveram)\n",
    "num.groupby(by=\"stroke\").describe().transpose()"
   ]
  },
  {
   "cell_type": "markdown",
   "metadata": {},
   "source": [
    "Observações:\n",
    "        <li>O comando groupby dado acima destaca as principais medidas descritivas que poderão ajudar posteriormente na análise gráfica e possível predição do comportamento de cada categoria de pacientes."
   ]
  },
  {
   "cell_type": "markdown",
   "metadata": {},
   "source": [
    "# Variáveis BMI e AVG_glucose_level"
   ]
  },
  {
   "cell_type": "markdown",
   "metadata": {},
   "source": [
    "Introdução:\n",
    "    <li>Para as variáveis BMI(índice de massa corporea) e Avg_glucose_level(nível de glicose sanguínea) os gráficos conhecidos como histogramas costumam ser excelentes para a análise dessas e de outras variáveis quantitativas.Por isso ,recorre-se a biblioteca seaborn para a melhor exploração desses dados. \n",
    "    \n",
    "        "
   ]
  },
  {
   "cell_type": "code",
   "execution_count": 19,
   "metadata": {},
   "outputs": [
    {
     "data": {
      "image/png": "[encoded data removed]",
      "text/plain": [
       "<Figure size 1080x936 with 4 Axes>"
      ]
     },
     "metadata": {
      "needs_background": "light"
     },
     "output_type": "display_data"
    }
   ],
   "source": [
    "#Lista como o nome das variáveis análisadas\n",
    "numericas=['bmi','avg_glucose_level']\n",
    "#separando em categorias daquele que tiveram e não tiveram AVC\n",
    "doente=Stroke[Stroke.stroke=='Doente']\n",
    "saudavel=Stroke[Stroke.stroke=='Saudável']\n",
    "\n",
    "\n",
    "# Função que plota histograma\n",
    "def plot_hist(dados, x, faixa, cor):\n",
    "    sns.histplot(dados, x=x, bins=faixa, stat='density', color=cor)\n",
    "    plt.ylabel('Densidade')\n",
    "    return None\n",
    "\n",
    "# Faixa de valores no histograma\n",
    "faixa_bmi = np.arange(min(Stroke.bmi),max(Stroke.bmi), 5)\n",
    "faixa_glicose=np.arange(min(Stroke.avg_glucose_level),max(Stroke.avg_glucose_level),5)\n",
    "\n",
    "\n",
    "# Gera figura para plotagem\n",
    "plt.figure(figsize=(15,13))\n",
    "\n",
    "# Pressão sistólica para cardíacos\n",
    "plt.subplot(2,2,1)\n",
    "plot_hist(doente, 'bmi', faixa_bmi , '#F12043')\n",
    "plt.title('Indice de massa corporal \\n (Doentes)')\n",
    "plt.xlabel(f'{numericas[0]}')\n",
    "# Pressão sistólica para saudáveis\n",
    "plt.subplot(2,2,2)\n",
    "plot_hist(saudavel, 'bmi', faixa_bmi , '#39eaa1')\n",
    "plt.title('Indice de massa corporal \\n (Saudáveis)')\n",
    "plt.xlabel(f'{numericas[0]}')\n",
    "# Pressão diastólica para cardíacos\n",
    "plt.subplot(2,2,3)\n",
    "plot_hist(doente, 'avg_glucose_level', faixa_glicose, '#F12043')\n",
    "plt.title('Nivel de glicose \\n (Doentes)')\n",
    "plt.xlabel(f'{numericas[1]}')\n",
    "# Pressão diastólica para saudáveis\n",
    "plt.subplot(2,2,4)\n",
    "plot_hist(saudavel, 'avg_glucose_level', faixa_glicose, '#39eaa1')\n",
    "plt.title('Nivel de glicose \\n (Saudáveis)')\n",
    "plt.xlabel(f'{numericas[1]}')\n",
    "# Exibe gráficos\n",
    "plt.tight_layout(pad=3.0)\n",
    "plt.show()"
   ]
  },
  {
   "cell_type": "markdown",
   "metadata": {},
   "source": [
    "Conclusão:\n",
    "    <li>Variável BMI:Em relação ao índice de massa corporea ,observa-se no gráfico uma assimetria à direita para ambos os tipos de paciente.Nesse sentido, para os pacientes doentes há um predomínio de índices na faixa dos 20 kg/m² até 40 kg/m² indicando que até mesmo indices de massa corporea considerados <a href=\"https://www.tuasaude.com/imc/\">ideais\"</a>(na faixa dos 20 até 30 ) não são impeditivos em relação a ocorrência de AVC.\n",
    "    <li>Variável Avg_glucose_level:Para valores de até 150 mg/dl o nível de glicose sanguínea e bem parecido entre doentes e saudáveis.No entanto,para valores acima de 150 mg/dl há um maior predomínio de pacientes doentes em relação aos saudáveis.Logo,pode-se inferir que pacientes diabéticos<a href='https://cerpe.com.br/saude/glicose-alta-baixa-normal#:~:text=Valores%20de%20refer%C3%AAncia%20de%20glicemia,inferior%20a%2070%20mg%2FdL'>(valores acima de 126)</a> tendem a ter maior chance de possuir AVC. "
   ]
  },
  {
   "cell_type": "markdown",
   "metadata": {},
   "source": [
    "# Variável age"
   ]
  },
  {
   "cell_type": "code",
   "execution_count": 20,
   "metadata": {},
   "outputs": [
    {
     "data": {
      "text/plain": [
       "Text(0.5, 0, 'age')"
      ]
     },
     "execution_count": 20,
     "metadata": {},
     "output_type": "execute_result"
    },
    {
     "data": {
      "image/png": "[encoded data removed]",
      "text/plain": [
       "<Figure size 1080x936 with 2 Axes>"
      ]
     },
     "metadata": {
      "needs_background": "light"
     },
     "output_type": "display_data"
    }
   ],
   "source": [
    "# Gera figura para plotagem\n",
    "plt.figure(figsize=(15,13))\n",
    "faixa_age = np.arange(min(Stroke.age),max(Stroke.age),5)\n",
    "# Pressão sistólica para cardíacos\n",
    "plt.subplot(2,2,1)\n",
    "plot_hist(doente, 'age', faixa_age , '#F12043')\n",
    "plt.title('Indice de massa corporal \\n (Doentes)')\n",
    "plt.xlabel('age')\n",
    "# Pressão sistólica para saudáveis\n",
    "plt.subplot(2,2,2)\n",
    "plot_hist(saudavel, 'age', faixa_age , '#39eaa1')\n",
    "plt.title('Indice de massa corporal \\n (Saudáveis)')\n",
    "plt.xlabel('age')"
   ]
  },
  {
   "cell_type": "markdown",
   "metadata": {},
   "source": [
    "Observacoes:<ul>\n",
    "    <li>Para os pacientes saudáveis(não tiveram AVC) percebe-se uma distribuição quase simétrica ,ou seja,não há predomínio em relação a qualquer idade.</li>\n",
    "    <br>\n",
    "    <li>Para pacientes doentes(tiveram AVC) nota-se uma distribuição assimétrica a esquerda.Dessa maneira ,para valores acima de 58 anos há uma grande densidade de pacientes que doentes.Logo,pode-se inferir que a idade avançada é fator preponderante para a ocorrência de AVCs.</li>\n",
    "    </ul>"
   ]
  },
  {
   "cell_type": "markdown",
   "metadata": {},
   "source": [
    "# Análise variáveis categóricas"
   ]
  },
  {
   "cell_type": "markdown",
   "metadata": {},
   "source": [
    "Introdução:<ul>\n",
    "    <li>Para as variáveis categóricas serão utilizados gráficos de barra nos quais há uma porcentagem para cada categoria da respectiva variável.Dessa maneira,a exploração de dados fica mais rica e ,portanto,a análise será melhor aproveitada em predições posteriores."
   ]
  },
  {
   "cell_type": "code",
   "execution_count": 21,
   "metadata": {},
   "outputs": [
    {
     "data": {
      "text/html": [
       "<div>\n",
       "<style scoped>\n",
       "    .dataframe tbody tr th:only-of-type {\n",
       "        vertical-align: middle;\n",
       "    }\n",
       "\n",
       "    .dataframe tbody tr th {\n",
       "        vertical-align: top;\n",
       "    }\n",
       "\n",
       "    .dataframe thead th {\n",
       "        text-align: right;\n",
       "    }\n",
       "</style>\n",
       "<table border=\"1\" class=\"dataframe\">\n",
       "  <thead>\n",
       "    <tr style=\"text-align: right;\">\n",
       "      <th></th>\n",
       "      <th>gender</th>\n",
       "      <th>hypertension</th>\n",
       "      <th>heart_disease</th>\n",
       "      <th>ever_married</th>\n",
       "      <th>work_type</th>\n",
       "      <th>Residence_type</th>\n",
       "      <th>smoking_status</th>\n",
       "      <th>stroke</th>\n",
       "    </tr>\n",
       "  </thead>\n",
       "  <tbody>\n",
       "    <tr>\n",
       "      <th>0</th>\n",
       "      <td>Homem</td>\n",
       "      <td>Não Hipertenso</td>\n",
       "      <td>Cardiopata</td>\n",
       "      <td>Sim</td>\n",
       "      <td>Privado</td>\n",
       "      <td>Urbano</td>\n",
       "      <td>Ex-Fumante</td>\n",
       "      <td>Doente</td>\n",
       "    </tr>\n",
       "    <tr>\n",
       "      <th>2</th>\n",
       "      <td>Homem</td>\n",
       "      <td>Não Hipertenso</td>\n",
       "      <td>Cardiopata</td>\n",
       "      <td>Sim</td>\n",
       "      <td>Privado</td>\n",
       "      <td>Rural</td>\n",
       "      <td>Nunca Fumou</td>\n",
       "      <td>Doente</td>\n",
       "    </tr>\n",
       "    <tr>\n",
       "      <th>3</th>\n",
       "      <td>Mulher</td>\n",
       "      <td>Não Hipertenso</td>\n",
       "      <td>Não Cardiopata</td>\n",
       "      <td>Sim</td>\n",
       "      <td>Privado</td>\n",
       "      <td>Urbano</td>\n",
       "      <td>Fumante</td>\n",
       "      <td>Doente</td>\n",
       "    </tr>\n",
       "    <tr>\n",
       "      <th>4</th>\n",
       "      <td>Mulher</td>\n",
       "      <td>Hipertenso</td>\n",
       "      <td>Não Cardiopata</td>\n",
       "      <td>Sim</td>\n",
       "      <td>Trabalhador Autônomo</td>\n",
       "      <td>Rural</td>\n",
       "      <td>Nunca Fumou</td>\n",
       "      <td>Doente</td>\n",
       "    </tr>\n",
       "    <tr>\n",
       "      <th>5</th>\n",
       "      <td>Homem</td>\n",
       "      <td>Não Hipertenso</td>\n",
       "      <td>Não Cardiopata</td>\n",
       "      <td>Sim</td>\n",
       "      <td>Privado</td>\n",
       "      <td>Urbano</td>\n",
       "      <td>Ex-Fumante</td>\n",
       "      <td>Doente</td>\n",
       "    </tr>\n",
       "    <tr>\n",
       "      <th>...</th>\n",
       "      <td>...</td>\n",
       "      <td>...</td>\n",
       "      <td>...</td>\n",
       "      <td>...</td>\n",
       "      <td>...</td>\n",
       "      <td>...</td>\n",
       "      <td>...</td>\n",
       "      <td>...</td>\n",
       "    </tr>\n",
       "    <tr>\n",
       "      <th>5104</th>\n",
       "      <td>Mulher</td>\n",
       "      <td>Não Hipertenso</td>\n",
       "      <td>Não Cardiopata</td>\n",
       "      <td>Não</td>\n",
       "      <td>Criança</td>\n",
       "      <td>Rural</td>\n",
       "      <td>Desconhecido</td>\n",
       "      <td>Saudável</td>\n",
       "    </tr>\n",
       "    <tr>\n",
       "      <th>5106</th>\n",
       "      <td>Mulher</td>\n",
       "      <td>Não Hipertenso</td>\n",
       "      <td>Não Cardiopata</td>\n",
       "      <td>Sim</td>\n",
       "      <td>Trabalhador Autônomo</td>\n",
       "      <td>Urbano</td>\n",
       "      <td>Nunca Fumou</td>\n",
       "      <td>Saudável</td>\n",
       "    </tr>\n",
       "    <tr>\n",
       "      <th>5107</th>\n",
       "      <td>Mulher</td>\n",
       "      <td>Não Hipertenso</td>\n",
       "      <td>Não Cardiopata</td>\n",
       "      <td>Sim</td>\n",
       "      <td>Trabalhador Autônomo</td>\n",
       "      <td>Rural</td>\n",
       "      <td>Nunca Fumou</td>\n",
       "      <td>Saudável</td>\n",
       "    </tr>\n",
       "    <tr>\n",
       "      <th>5108</th>\n",
       "      <td>Homem</td>\n",
       "      <td>Não Hipertenso</td>\n",
       "      <td>Não Cardiopata</td>\n",
       "      <td>Sim</td>\n",
       "      <td>Privado</td>\n",
       "      <td>Rural</td>\n",
       "      <td>Ex-Fumante</td>\n",
       "      <td>Saudável</td>\n",
       "    </tr>\n",
       "    <tr>\n",
       "      <th>5109</th>\n",
       "      <td>Mulher</td>\n",
       "      <td>Não Hipertenso</td>\n",
       "      <td>Não Cardiopata</td>\n",
       "      <td>Sim</td>\n",
       "      <td>Trabalho Governamental</td>\n",
       "      <td>Urbano</td>\n",
       "      <td>Desconhecido</td>\n",
       "      <td>Saudável</td>\n",
       "    </tr>\n",
       "  </tbody>\n",
       "</table>\n",
       "<p>4908 rows × 8 columns</p>\n",
       "</div>"
      ],
      "text/plain": [
       "      gender    hypertension   heart_disease ever_married  \\\n",
       "0      Homem  Não Hipertenso      Cardiopata          Sim   \n",
       "2      Homem  Não Hipertenso      Cardiopata          Sim   \n",
       "3     Mulher  Não Hipertenso  Não Cardiopata          Sim   \n",
       "4     Mulher      Hipertenso  Não Cardiopata          Sim   \n",
       "5      Homem  Não Hipertenso  Não Cardiopata          Sim   \n",
       "...      ...             ...             ...          ...   \n",
       "5104  Mulher  Não Hipertenso  Não Cardiopata          Não   \n",
       "5106  Mulher  Não Hipertenso  Não Cardiopata          Sim   \n",
       "5107  Mulher  Não Hipertenso  Não Cardiopata          Sim   \n",
       "5108   Homem  Não Hipertenso  Não Cardiopata          Sim   \n",
       "5109  Mulher  Não Hipertenso  Não Cardiopata          Sim   \n",
       "\n",
       "                   work_type Residence_type smoking_status    stroke  \n",
       "0                    Privado         Urbano     Ex-Fumante    Doente  \n",
       "2                    Privado          Rural    Nunca Fumou    Doente  \n",
       "3                    Privado         Urbano        Fumante    Doente  \n",
       "4       Trabalhador Autônomo          Rural    Nunca Fumou    Doente  \n",
       "5                    Privado         Urbano     Ex-Fumante    Doente  \n",
       "...                      ...            ...            ...       ...  \n",
       "5104                 Criança          Rural   Desconhecido  Saudável  \n",
       "5106    Trabalhador Autônomo         Urbano    Nunca Fumou  Saudável  \n",
       "5107    Trabalhador Autônomo          Rural    Nunca Fumou  Saudável  \n",
       "5108                 Privado          Rural     Ex-Fumante  Saudável  \n",
       "5109  Trabalho Governamental         Urbano   Desconhecido  Saudável  \n",
       "\n",
       "[4908 rows x 8 columns]"
      ]
     },
     "execution_count": 21,
     "metadata": {},
     "output_type": "execute_result"
    }
   ],
   "source": [
    "var_categoricas=Stroke.iloc[:,[0,2,3,4,5,6,9,10]]\n",
    "var_categoricas\n"
   ]
  },
  {
   "cell_type": "markdown",
   "metadata": {},
   "source": [
    "# Distribuição dos Pacientes"
   ]
  },
  {
   "cell_type": "code",
   "execution_count": 22,
   "metadata": {},
   "outputs": [
    {
     "data": {
      "text/plain": [
       "<matplotlib.legend.Legend at 0x19a68ceb550>"
      ]
     },
     "execution_count": 22,
     "metadata": {},
     "output_type": "execute_result"
    },
    {
     "data": {
      "image/png": "[encoded data removed]",
      "text/plain": [
       "<Figure size 720x1080 with 1 Axes>"
      ]
     },
     "metadata": {},
     "output_type": "display_data"
    }
   ],
   "source": [
    "#dividindo o index da categoria stroke\n",
    "lista_labels=list(var_categoricas[\"stroke\"].value_counts().index)\n",
    "# configura tamanho da imagem\n",
    "plt.figure(figsize=(10,15))\n",
    "\n",
    "# Plota o gráfico inicial: Distribuição da Target\n",
    "plt.subplot(1, 2, 1)\n",
    "Stroke[\"stroke\"].value_counts(sort=False).plot.pie(autopct='%1.1f%%', explode= [0.05, 0],\n",
    "                                                                           textprops={'fontsize': 15},\n",
    "                                           startangle = 90, labels=lista_labels, \n",
    "                                           colors=['#1E9E58', '#EBA72D', '#44EB90'])\n",
    "titulo = 'Distribuição de Pacientes \\n Doentes ou Saudáveis'\n",
    "plt.title(titulo, fontsize=15)\n",
    "plt.legend(loc=8, title = 'target:stroke', title_fontsize=10, \n",
    "           bbox_to_anchor=(0.25, -0.25, 0.5, 0.5),  fontsize=10)"
   ]
  },
  {
   "cell_type": "markdown",
   "metadata": {},
   "source": [
    "Observacoes:<ul>\n",
    "    <li>Para o conjunto de dados análisado percebe-se uma discrepância entre os pacientes saudáveis(não tiveram AVC) e doentes(tiveram AVC).Desse modo,quase 96% dos pacientes analisados não tiveram AVC,isto é,para a análise dos pacientes doentes foram disponibilizados poucos valores(4.3% do total) em relaçao a todos os valores da base de dados.Dessa maneira,imprecisões maiores poderão ser análisadas na exploração e predição de valores em relação aos pacientes doentes no prosseguimento do projeto.  "
   ]
  },
  {
   "cell_type": "code",
   "execution_count": 23,
   "metadata": {},
   "outputs": [
    {
     "data": {
      "text/html": [
       "<div>\n",
       "<style scoped>\n",
       "    .dataframe tbody tr th:only-of-type {\n",
       "        vertical-align: middle;\n",
       "    }\n",
       "\n",
       "    .dataframe tbody tr th {\n",
       "        vertical-align: top;\n",
       "    }\n",
       "\n",
       "    .dataframe thead th {\n",
       "        text-align: right;\n",
       "    }\n",
       "</style>\n",
       "<table border=\"1\" class=\"dataframe\">\n",
       "  <thead>\n",
       "    <tr style=\"text-align: right;\">\n",
       "      <th></th>\n",
       "      <th>gender</th>\n",
       "      <th>hypertension</th>\n",
       "      <th>heart_disease</th>\n",
       "      <th>ever_married</th>\n",
       "      <th>work_type</th>\n",
       "      <th>Residence_type</th>\n",
       "      <th>smoking_status</th>\n",
       "      <th>stroke</th>\n",
       "    </tr>\n",
       "  </thead>\n",
       "  <tbody>\n",
       "    <tr>\n",
       "      <th>0</th>\n",
       "      <td>Homem</td>\n",
       "      <td>Não Hipertenso</td>\n",
       "      <td>Cardiopata</td>\n",
       "      <td>Sim</td>\n",
       "      <td>Privado</td>\n",
       "      <td>Urbano</td>\n",
       "      <td>Ex-Fumante</td>\n",
       "      <td>Doente</td>\n",
       "    </tr>\n",
       "    <tr>\n",
       "      <th>2</th>\n",
       "      <td>Homem</td>\n",
       "      <td>Não Hipertenso</td>\n",
       "      <td>Cardiopata</td>\n",
       "      <td>Sim</td>\n",
       "      <td>Privado</td>\n",
       "      <td>Rural</td>\n",
       "      <td>Nunca Fumou</td>\n",
       "      <td>Doente</td>\n",
       "    </tr>\n",
       "    <tr>\n",
       "      <th>3</th>\n",
       "      <td>Mulher</td>\n",
       "      <td>Não Hipertenso</td>\n",
       "      <td>Não Cardiopata</td>\n",
       "      <td>Sim</td>\n",
       "      <td>Privado</td>\n",
       "      <td>Urbano</td>\n",
       "      <td>Fumante</td>\n",
       "      <td>Doente</td>\n",
       "    </tr>\n",
       "    <tr>\n",
       "      <th>4</th>\n",
       "      <td>Mulher</td>\n",
       "      <td>Hipertenso</td>\n",
       "      <td>Não Cardiopata</td>\n",
       "      <td>Sim</td>\n",
       "      <td>Trabalhador Autônomo</td>\n",
       "      <td>Rural</td>\n",
       "      <td>Nunca Fumou</td>\n",
       "      <td>Doente</td>\n",
       "    </tr>\n",
       "    <tr>\n",
       "      <th>5</th>\n",
       "      <td>Homem</td>\n",
       "      <td>Não Hipertenso</td>\n",
       "      <td>Não Cardiopata</td>\n",
       "      <td>Sim</td>\n",
       "      <td>Privado</td>\n",
       "      <td>Urbano</td>\n",
       "      <td>Ex-Fumante</td>\n",
       "      <td>Doente</td>\n",
       "    </tr>\n",
       "    <tr>\n",
       "      <th>...</th>\n",
       "      <td>...</td>\n",
       "      <td>...</td>\n",
       "      <td>...</td>\n",
       "      <td>...</td>\n",
       "      <td>...</td>\n",
       "      <td>...</td>\n",
       "      <td>...</td>\n",
       "      <td>...</td>\n",
       "    </tr>\n",
       "    <tr>\n",
       "      <th>5104</th>\n",
       "      <td>Mulher</td>\n",
       "      <td>Não Hipertenso</td>\n",
       "      <td>Não Cardiopata</td>\n",
       "      <td>Não</td>\n",
       "      <td>Criança</td>\n",
       "      <td>Rural</td>\n",
       "      <td>Desconhecido</td>\n",
       "      <td>Saudável</td>\n",
       "    </tr>\n",
       "    <tr>\n",
       "      <th>5106</th>\n",
       "      <td>Mulher</td>\n",
       "      <td>Não Hipertenso</td>\n",
       "      <td>Não Cardiopata</td>\n",
       "      <td>Sim</td>\n",
       "      <td>Trabalhador Autônomo</td>\n",
       "      <td>Urbano</td>\n",
       "      <td>Nunca Fumou</td>\n",
       "      <td>Saudável</td>\n",
       "    </tr>\n",
       "    <tr>\n",
       "      <th>5107</th>\n",
       "      <td>Mulher</td>\n",
       "      <td>Não Hipertenso</td>\n",
       "      <td>Não Cardiopata</td>\n",
       "      <td>Sim</td>\n",
       "      <td>Trabalhador Autônomo</td>\n",
       "      <td>Rural</td>\n",
       "      <td>Nunca Fumou</td>\n",
       "      <td>Saudável</td>\n",
       "    </tr>\n",
       "    <tr>\n",
       "      <th>5108</th>\n",
       "      <td>Homem</td>\n",
       "      <td>Não Hipertenso</td>\n",
       "      <td>Não Cardiopata</td>\n",
       "      <td>Sim</td>\n",
       "      <td>Privado</td>\n",
       "      <td>Rural</td>\n",
       "      <td>Ex-Fumante</td>\n",
       "      <td>Saudável</td>\n",
       "    </tr>\n",
       "    <tr>\n",
       "      <th>5109</th>\n",
       "      <td>Mulher</td>\n",
       "      <td>Não Hipertenso</td>\n",
       "      <td>Não Cardiopata</td>\n",
       "      <td>Sim</td>\n",
       "      <td>Trabalho Governamental</td>\n",
       "      <td>Urbano</td>\n",
       "      <td>Desconhecido</td>\n",
       "      <td>Saudável</td>\n",
       "    </tr>\n",
       "  </tbody>\n",
       "</table>\n",
       "<p>4908 rows × 8 columns</p>\n",
       "</div>"
      ],
      "text/plain": [
       "      gender    hypertension   heart_disease ever_married  \\\n",
       "0      Homem  Não Hipertenso      Cardiopata          Sim   \n",
       "2      Homem  Não Hipertenso      Cardiopata          Sim   \n",
       "3     Mulher  Não Hipertenso  Não Cardiopata          Sim   \n",
       "4     Mulher      Hipertenso  Não Cardiopata          Sim   \n",
       "5      Homem  Não Hipertenso  Não Cardiopata          Sim   \n",
       "...      ...             ...             ...          ...   \n",
       "5104  Mulher  Não Hipertenso  Não Cardiopata          Não   \n",
       "5106  Mulher  Não Hipertenso  Não Cardiopata          Sim   \n",
       "5107  Mulher  Não Hipertenso  Não Cardiopata          Sim   \n",
       "5108   Homem  Não Hipertenso  Não Cardiopata          Sim   \n",
       "5109  Mulher  Não Hipertenso  Não Cardiopata          Sim   \n",
       "\n",
       "                   work_type Residence_type smoking_status    stroke  \n",
       "0                    Privado         Urbano     Ex-Fumante    Doente  \n",
       "2                    Privado          Rural    Nunca Fumou    Doente  \n",
       "3                    Privado         Urbano        Fumante    Doente  \n",
       "4       Trabalhador Autônomo          Rural    Nunca Fumou    Doente  \n",
       "5                    Privado         Urbano     Ex-Fumante    Doente  \n",
       "...                      ...            ...            ...       ...  \n",
       "5104                 Criança          Rural   Desconhecido  Saudável  \n",
       "5106    Trabalhador Autônomo         Urbano    Nunca Fumou  Saudável  \n",
       "5107    Trabalhador Autônomo          Rural    Nunca Fumou  Saudável  \n",
       "5108                 Privado          Rural     Ex-Fumante  Saudável  \n",
       "5109  Trabalho Governamental         Urbano   Desconhecido  Saudável  \n",
       "\n",
       "[4908 rows x 8 columns]"
      ]
     },
     "execution_count": 23,
     "metadata": {},
     "output_type": "execute_result"
    }
   ],
   "source": [
    "#importando bibliotecas para a análise interativa\n",
    "from ipywidgets import interact, interactive, fixed, interact_manual\n",
    "import ipywidgets as widgets\n",
    "var_categoricas\n"
   ]
  },
  {
   "cell_type": "code",
   "execution_count": 24,
   "metadata": {},
   "outputs": [
    {
     "data": {
      "application/vnd.jupyter.widget-view+json": {
       "model_id": "3f35591df641495fb73ea14c283230c9",
       "version_major": 2,
       "version_minor": 0
      },
      "text/plain": [
       "interactive(children=(Dropdown(description='categorias', options=('Residence_type', 'ever_married', 'gender', …"
      ]
     },
     "metadata": {},
     "output_type": "display_data"
    }
   ],
   "source": [
    "#analise interativa das variaveis categoricas\n",
    "@interact(categorias=sorted(['gender', 'hypertension', 'heart_disease', 'ever_married', 'work_type',\n",
    "       'Residence_type', 'smoking_status']))\n",
    "#funcao que faz a tabela_cruzada bem como o grafico barplot para as categoricas\n",
    "def tabela_cruzada(categorias):\n",
    "    tabela=pd.crosstab(index=var_categoricas.stroke,columns=var_categoricas[categorias],normalize='index')*100\n",
    "    display(HTML(tabela.to_html()))\n",
    "    tabela.plot(kind='bar', stacked=True)\n",
    "    plt.title(f\"Distribuição de doentes e saudáveis por {categorias}\")\n",
    "    plt.legend( bbox_to_anchor=(1.05, 1), borderaxespad=0.)\n"
   ]
  },
  {
   "cell_type": "markdown",
   "metadata": {},
   "source": [
    "Conclusão:<ul>\n",
    "    <li>Variável Residence_type:Para o tipo de residência os valores coletados não indicam disparidade entre os pacientes que moram em ambientes rurais ou urbanos.Logo ,a variável não possui indicativos de que pode ajudar na predição do AVC.</li>\n",
    "    <br>\n",
    "    <li>Variável ever_married:Em relação a variável que indica o casamento,percebe-se pelo análise gráfica que ,em relação aos pacientes doentes,a grande maioria é casado.Portanto,a convivência com outra pessoa pode indicar maiores possibilidades de AVC.</li>\n",
    "    <br>\n",
    "    <li>Variável gender:Para ambos tipos de paciente ,sejam eles doentes ou saudáveis,quase 60% dos pacientes são do sexo masculino.No entanto,a disparidade é muita pequena entre os valores e ,dessa maneira,ainda não se pode prever o sexo predominante para quem possui ou não AVC.</li>\n",
    "    <br>\n",
    "    <li>Variável heart_disease:Observando-se a variável que diz respeito a ocorrência de cardiopatia percebe-se uma maior chance(19% do total de doentes) de um paciente cardiopata já ter tido AVC do que um paciente cardiopata não ter tido AVC(4% do total de saudáveis).Portanto,as cardiopatias podem ser indícios para uma maior chance de AVC.</li>\n",
    "    <br>\n",
    "    <li>Variável hypertension:Em analogia a variável heart_disease pode-se percebe-se o mesmo comportamento para a categoria que análisa a ocorrência de hipertensão,ou seja,para pacientes hipertensos(28.7% do total de doentes) há uma maior chance de ocorrência de AVC em relação aos pacientes hipertensos que não tiveram AVC(8.3% do total de saudáveis).Portanto,a hipertensão pode ser indício para uma maior chance de AVC.</li>\n",
    "    <br>\n",
    "    <li>Variável smoking_status:Considerando pacientes que tiveram AVC há um crescimento percentual de fumantes e ex-fumantes em relação aqueles pacientes considerados saudáveis(tiveram AVC).Então,o tabaco pode,em alguma medida,influenciar na possivel ocorrência de acidentes vasculares cerebrais.</li>\n",
    "    <br>\n",
    "    <li>Variável work_type:\n",
    "            <ul>\n",
    "               <li>Trabalho Governamental,Nunca Trabalhou,Privado:Para estes tipos de trabalho não se notou quase nenhuma diferença entre os pacientes saudáveis ou doentes,embora para os pacientes que tiveram AVC a grande maioria(60%) trabalham em ambientes privados.Nesse sentido o ambiente privado pode,em alguma medida,se mostrar como um indicador de acidentes vasculares cerebrais.</li>\n",
    "            <br>\n",
    "            <li>Trabalhadores autônomos:Para os trabalhadores autônomos há uma maior concentração de pacientes doentes(25.7% do total de doentes) em relação aos saudáveis(15.3 % do total de saudáveis).Dessa maneira,apesar da pequena disparidade pode haver em relação a ser trabalhador autônomo ,visto que esta categoria não possui emprego certo.Logo,há maior chance do desenvolvimento de um AVC.</li>\n",
    "            <br>\n",
    "            <li>Para crianças não podem ser feitas análises precisas visto que são poucos os dados de crianças(independente da idade) que tiveram AVC.Logo,para esta categoria não se pode predizer muito. </li>"
   ]
  },
  {
   "cell_type": "markdown",
   "metadata": {},
   "source": [
    "# Modelos de predição"
   ]
  },
  {
   "cell_type": "markdown",
   "metadata": {},
   "source": [
    "<h2> Definição\n"
   ]
  },
  {
   "cell_type": "markdown",
   "metadata": {},
   "source": [
    "Os modelos de predição usam dados ,algoritmos de estatística ,bem como tecnicas de machine learning para a previsão de resultados futuros.Logo,por meio do conjunto de dados esses modelos de predição farão previsões futuras para dados já consolidados."
   ]
  },
  {
   "cell_type": "markdown",
   "metadata": {},
   "source": [
    "<h2>Tipos de modelo"
   ]
  },
  {
   "cell_type": "markdown",
   "metadata": {},
   "source": [
    "Temos dois principais modelos para a predição de uma determinada base de dados:<ul>\n",
    "   <li>Modelos de classificação:são modelos capazes de prever uma associação de classe.Por exemplo,a previsão se uma pessoa irá ou não se demitir de uma empresa.Logo,estes tipos de modelos são usadas para variáveis categóricas ,visto que o resultado possível é binário ,isto é ,gira em torno de duas possibilidades(no caso citado sim ou não para a demissão do funcionário).\n",
    "       Exemplos:Regressão Logística,Arvore de Decisão ,Floresta Aleatória dentre outros.\n",
    "   <li> Modelos de regressão:são modelos capazes de prever um número.Por exemplo,a previsão de valores de imóveis para os próximos anos.Nesse sentido,esse modelo é usado na predição de variáveis numéricas ou quantitativas.\n",
    "       Exemplos:Regressão linear ,regressão múltipla dentre outros."
   ]
  },
  {
   "cell_type": "markdown",
   "metadata": {},
   "source": [
    "# Regressão Logística(Logistic Regression)"
   ]
  },
  {
   "cell_type": "markdown",
   "metadata": {},
   "source": [
    "<h2>Definicao<h2>"
   ]
  },
  {
   "cell_type": "markdown",
   "metadata": {},
   "source": [
    "Regressão logística é um algoritmo de classificação de aprendizado de máquina usado para prever a probabilidade de uma variável dependente categórica. Na regressão logística, a variável dependente é uma variável binária que contém dados codificados como 1 (sim, sucesso, etc.) ou 0 (não, falha, etc.). Em outras palavras, o modelo de regressão logística prevê P (Y = 1) em função de X."
   ]
  },
  {
   "cell_type": "markdown",
   "metadata": {},
   "source": [
    "<center><img src=\"foto3.png\">"
   ]
  },
  {
   "cell_type": "markdown",
   "metadata": {},
   "source": [
    "<h2>Outra Definição"
   ]
  },
  {
   "cell_type": "markdown",
   "metadata": {},
   "source": [
    "É uma técnica recomendada para situações em que a\n",
    "variável dependente é de natureza dicotômica ou\n",
    "binária. Quanto às independentes, tanto podem ser\n",
    "categóricas ou não.\n",
    "A regressão logística é um recurso que nos permite estimar\n",
    "a probabilidade associada à ocorrência de determinado\n",
    "evento em face de um conjunto de variáveis explanatórias."
   ]
  },
  {
   "cell_type": "markdown",
   "metadata": {},
   "source": [
    "<h2>Pontos auxiliares"
   ]
  },
  {
   "cell_type": "markdown",
   "metadata": {},
   "source": [
    "Mais alguns pontos precisam ser destacados para o prosseguimento do projeto:<ul>\n",
    "    <li>A variável target(resposta) será considerada como eixo Y que ,nesse caso ,é o que se quer prever ou determinar em função das outras variáveis\n",
    "    <li>Por meio de uma combinação das outras variáveis independentes o eixo X será formado para fazer as previsões necessárias para a determinação da variável target.\n",
    "    <li>Em geral,nos algoritmos de machine learning há uma clara separação entre os dados de treinamento(iremos treinar nossa máquina por meio dos modelos citado) e os dados do teste (a partir deste momento irá se testar todo o aprendizado da maquina para a predição dos valores).Logo,não será diferente neste onde haverá a separação destas duas bases.\n",
    "     <li>Neste caso,a regressão logística usa um função chamada sigmóide(será abordada posteriormente) para prever os valores 0 ou 1(modelo binário) por meio do gráfico apresentado anteriormente.Logo,esta função ajusta os valores para prever o que irá acontecer com a variável target(resposta). "
   ]
  },
  {
   "cell_type": "markdown",
   "metadata": {},
   "source": [
    "<h2> Função Sigmoide"
   ]
  },
  {
   "cell_type": "markdown",
   "metadata": {},
   "source": [
    "A função sigmóide é responsável por converter cada valor de X obtido de uma transformação linear anterior(modelo linear de X em Y) em probabilidades,ou seja,quanto maior esse valor (score)de X, maiores as probabilidades para o eixo Y. Logo, a função sigmóide é dada pela seguinte fórmula:<ul>\n",
    "    $$P(Y=1) = \\frac{1}{1+e^{-x}}$$\n",
    "\n"
   ]
  },
  {
   "cell_type": "markdown",
   "metadata": {},
   "source": [
    "Para utilizar o modelo de regressão logística para discriminação de\n",
    "dois grupos, a regra de classificação é a seguinte:<ul>\n",
    "    <li>se P(Y=1) > 0,5 então classifica-se Y=1(probalidade 1,ou seja,ocorre o evento) \n",
    "    <li>se P(Y=1) < 0,5 então classifica-se Y=0(probalidade 0,ou seja, não ocorre o evento)\n"
   ]
  },
  {
   "cell_type": "markdown",
   "metadata": {},
   "source": [
    "<h2> Vantagens Regressão Logística"
   ]
  },
  {
   "cell_type": "markdown",
   "metadata": {},
   "source": [
    "  <ul><li>Facilidade para lidar com variáveis independentes\n",
    "categóricas.\n",
    "      <li>Fornece resultados em termos de probabilidade.\n",
    "<li>Facilidade de classificação de indivíduos em\n",
    "categorias.\n",
    "<li> Requer pequeno número de suposições.\n",
    "<li> Alto grau de confiabilidade."
   ]
  },
  {
   "cell_type": "markdown",
   "metadata": {},
   "source": [
    "# 1°passo:Mudando o Dataframe"
   ]
  },
  {
   "cell_type": "markdown",
   "metadata": {},
   "source": [
    "Para a prática do machine learning(aprendizado de máquina) e a predição de resultados a máquina não consegue identificar os strings das variáveis categóricas.Por isso,tais variáveis serão transformadas em valores discretos associados a cada categoria nas colunas do Dataframe."
   ]
  },
  {
   "cell_type": "code",
   "execution_count": 25,
   "metadata": {
    "scrolled": true
   },
   "outputs": [
    {
     "data": {
      "text/html": [
       "<div>\n",
       "<style scoped>\n",
       "    .dataframe tbody tr th:only-of-type {\n",
       "        vertical-align: middle;\n",
       "    }\n",
       "\n",
       "    .dataframe tbody tr th {\n",
       "        vertical-align: top;\n",
       "    }\n",
       "\n",
       "    .dataframe thead th {\n",
       "        text-align: right;\n",
       "    }\n",
       "</style>\n",
       "<table border=\"1\" class=\"dataframe\">\n",
       "  <thead>\n",
       "    <tr style=\"text-align: right;\">\n",
       "      <th></th>\n",
       "      <th>gender</th>\n",
       "      <th>age</th>\n",
       "      <th>hypertension</th>\n",
       "      <th>heart_disease</th>\n",
       "      <th>ever_married</th>\n",
       "      <th>work_type</th>\n",
       "      <th>Residence_type</th>\n",
       "      <th>avg_glucose_level</th>\n",
       "      <th>bmi</th>\n",
       "      <th>smoking_status</th>\n",
       "      <th>stroke</th>\n",
       "    </tr>\n",
       "  </thead>\n",
       "  <tbody>\n",
       "    <tr>\n",
       "      <th>0</th>\n",
       "      <td>1</td>\n",
       "      <td>67.0</td>\n",
       "      <td>0</td>\n",
       "      <td>1</td>\n",
       "      <td>1</td>\n",
       "      <td>3</td>\n",
       "      <td>2</td>\n",
       "      <td>228.69</td>\n",
       "      <td>36.6</td>\n",
       "      <td>2</td>\n",
       "      <td>1</td>\n",
       "    </tr>\n",
       "    <tr>\n",
       "      <th>2</th>\n",
       "      <td>1</td>\n",
       "      <td>80.0</td>\n",
       "      <td>0</td>\n",
       "      <td>1</td>\n",
       "      <td>1</td>\n",
       "      <td>3</td>\n",
       "      <td>1</td>\n",
       "      <td>105.92</td>\n",
       "      <td>32.5</td>\n",
       "      <td>3</td>\n",
       "      <td>1</td>\n",
       "    </tr>\n",
       "    <tr>\n",
       "      <th>3</th>\n",
       "      <td>0</td>\n",
       "      <td>49.0</td>\n",
       "      <td>0</td>\n",
       "      <td>0</td>\n",
       "      <td>1</td>\n",
       "      <td>3</td>\n",
       "      <td>2</td>\n",
       "      <td>171.23</td>\n",
       "      <td>34.4</td>\n",
       "      <td>4</td>\n",
       "      <td>1</td>\n",
       "    </tr>\n",
       "    <tr>\n",
       "      <th>4</th>\n",
       "      <td>0</td>\n",
       "      <td>79.0</td>\n",
       "      <td>1</td>\n",
       "      <td>0</td>\n",
       "      <td>1</td>\n",
       "      <td>4</td>\n",
       "      <td>1</td>\n",
       "      <td>174.12</td>\n",
       "      <td>24.0</td>\n",
       "      <td>3</td>\n",
       "      <td>1</td>\n",
       "    </tr>\n",
       "    <tr>\n",
       "      <th>5</th>\n",
       "      <td>1</td>\n",
       "      <td>81.0</td>\n",
       "      <td>0</td>\n",
       "      <td>0</td>\n",
       "      <td>1</td>\n",
       "      <td>3</td>\n",
       "      <td>2</td>\n",
       "      <td>186.21</td>\n",
       "      <td>29.0</td>\n",
       "      <td>2</td>\n",
       "      <td>1</td>\n",
       "    </tr>\n",
       "  </tbody>\n",
       "</table>\n",
       "</div>"
      ],
      "text/plain": [
       "  gender   age hypertension heart_disease ever_married work_type  \\\n",
       "0      1  67.0            0             1            1         3   \n",
       "2      1  80.0            0             1            1         3   \n",
       "3      0  49.0            0             0            1         3   \n",
       "4      0  79.0            1             0            1         4   \n",
       "5      1  81.0            0             0            1         3   \n",
       "\n",
       "  Residence_type  avg_glucose_level   bmi smoking_status stroke  \n",
       "0              2             228.69  36.6              2      1  \n",
       "2              1             105.92  32.5              3      1  \n",
       "3              2             171.23  34.4              4      1  \n",
       "4              1             174.12  24.0              3      1  \n",
       "5              2             186.21  29.0              2      1  "
      ]
     },
     "execution_count": 25,
     "metadata": {},
     "output_type": "execute_result"
    }
   ],
   "source": [
    "Stroke_numeric=Stroke.copy()\n",
    "\n",
    "#categorizando novamente as variáveis ,dessa vez colocando números em intervalos discretos\n",
    "Stroke_numeric['gender'].cat.categories = [0,1,2] #[\"Mulher\",\"Homem\",\"Outro\"]\n",
    "Stroke_numeric['hypertension'].cat.categories =[0,1] #[\"Não Hipertenso\",\"Hipertenso\"]\n",
    "Stroke_numeric['stroke'].cat.categories = [0,1] #[\"Saudável\",\"Doente\"](variavel resposta(target))\n",
    "Stroke_numeric['smoking_status'].cat.categories = [1,2,3,4] #[\"Desconhecido\",\"Ex-Fumante\",\"Nunca Fumou\",\"Fumante\"]\n",
    "Stroke_numeric['Residence_type'].cat.categories = [1,2] #[\"Rural\",\"Urbano\"]\n",
    "Stroke_numeric['work_type'].cat.categories = [1,2,3,4,5]  #[\"Trabalho Governamental\",\"Nunca Trabalhou\",\"Privado\",\" Trabalhador Autônomo\",\"Criança\"]               \n",
    "Stroke_numeric['heart_disease'].cat.categories = [0,1] #['Não Cardiopata',\"Cardiopata\"]\n",
    "Stroke_numeric[\"ever_married\"].cat.categories=[0,1] #[\"Não\",\"Sim\"]\n",
    "\n",
    "\n",
    "Stroke_numeric.head()"
   ]
  },
  {
   "cell_type": "code",
   "execution_count": 26,
   "metadata": {},
   "outputs": [],
   "source": [
    "#separando base de dados por categoria-doentes e saudáveis\n",
    "saudaveis=Stroke_numeric[Stroke_numeric.stroke==0]\n",
    "doentes=Stroke_numeric[Stroke_numeric.stroke==1]\n",
    "#embaralhando a base de dados por linhas para evitar repetições e fazer melhores predições\n",
    "saudaveis_embaralhado=saudaveis.sample(frac=1)\n",
    "saudaveis_embaralhado=saudaveis_embaralhado.to_csv('embaralhado.csv')"
   ]
  },
  {
   "cell_type": "code",
   "execution_count": 27,
   "metadata": {},
   "outputs": [
    {
     "data": {
      "text/html": [
       "<div>\n",
       "<style scoped>\n",
       "    .dataframe tbody tr th:only-of-type {\n",
       "        vertical-align: middle;\n",
       "    }\n",
       "\n",
       "    .dataframe tbody tr th {\n",
       "        vertical-align: top;\n",
       "    }\n",
       "\n",
       "    .dataframe thead th {\n",
       "        text-align: right;\n",
       "    }\n",
       "</style>\n",
       "<table border=\"1\" class=\"dataframe\">\n",
       "  <thead>\n",
       "    <tr style=\"text-align: right;\">\n",
       "      <th></th>\n",
       "      <th>gender</th>\n",
       "      <th>age</th>\n",
       "      <th>hypertension</th>\n",
       "      <th>heart_disease</th>\n",
       "      <th>ever_married</th>\n",
       "      <th>work_type</th>\n",
       "      <th>Residence_type</th>\n",
       "      <th>avg_glucose_level</th>\n",
       "      <th>bmi</th>\n",
       "      <th>smoking_status</th>\n",
       "      <th>stroke</th>\n",
       "    </tr>\n",
       "  </thead>\n",
       "  <tbody>\n",
       "    <tr>\n",
       "      <th>0</th>\n",
       "      <td>0</td>\n",
       "      <td>58.0</td>\n",
       "      <td>0</td>\n",
       "      <td>0</td>\n",
       "      <td>1</td>\n",
       "      <td>3</td>\n",
       "      <td>2</td>\n",
       "      <td>90.26</td>\n",
       "      <td>36.1</td>\n",
       "      <td>3</td>\n",
       "      <td>0</td>\n",
       "    </tr>\n",
       "    <tr>\n",
       "      <th>1</th>\n",
       "      <td>1</td>\n",
       "      <td>69.0</td>\n",
       "      <td>0</td>\n",
       "      <td>0</td>\n",
       "      <td>1</td>\n",
       "      <td>4</td>\n",
       "      <td>2</td>\n",
       "      <td>202.51</td>\n",
       "      <td>30.8</td>\n",
       "      <td>2</td>\n",
       "      <td>0</td>\n",
       "    </tr>\n",
       "    <tr>\n",
       "      <th>2</th>\n",
       "      <td>0</td>\n",
       "      <td>54.0</td>\n",
       "      <td>0</td>\n",
       "      <td>0</td>\n",
       "      <td>1</td>\n",
       "      <td>3</td>\n",
       "      <td>2</td>\n",
       "      <td>75.52</td>\n",
       "      <td>28.7</td>\n",
       "      <td>2</td>\n",
       "      <td>0</td>\n",
       "    </tr>\n",
       "    <tr>\n",
       "      <th>3</th>\n",
       "      <td>1</td>\n",
       "      <td>30.0</td>\n",
       "      <td>0</td>\n",
       "      <td>0</td>\n",
       "      <td>0</td>\n",
       "      <td>3</td>\n",
       "      <td>2</td>\n",
       "      <td>106.03</td>\n",
       "      <td>26.7</td>\n",
       "      <td>1</td>\n",
       "      <td>0</td>\n",
       "    </tr>\n",
       "    <tr>\n",
       "      <th>4</th>\n",
       "      <td>0</td>\n",
       "      <td>14.0</td>\n",
       "      <td>0</td>\n",
       "      <td>0</td>\n",
       "      <td>0</td>\n",
       "      <td>5</td>\n",
       "      <td>1</td>\n",
       "      <td>78.09</td>\n",
       "      <td>26.4</td>\n",
       "      <td>1</td>\n",
       "      <td>0</td>\n",
       "    </tr>\n",
       "    <tr>\n",
       "      <th>...</th>\n",
       "      <td>...</td>\n",
       "      <td>...</td>\n",
       "      <td>...</td>\n",
       "      <td>...</td>\n",
       "      <td>...</td>\n",
       "      <td>...</td>\n",
       "      <td>...</td>\n",
       "      <td>...</td>\n",
       "      <td>...</td>\n",
       "      <td>...</td>\n",
       "      <td>...</td>\n",
       "    </tr>\n",
       "    <tr>\n",
       "      <th>4694</th>\n",
       "      <td>0</td>\n",
       "      <td>14.0</td>\n",
       "      <td>0</td>\n",
       "      <td>0</td>\n",
       "      <td>0</td>\n",
       "      <td>5</td>\n",
       "      <td>2</td>\n",
       "      <td>91.85</td>\n",
       "      <td>27.8</td>\n",
       "      <td>3</td>\n",
       "      <td>0</td>\n",
       "    </tr>\n",
       "    <tr>\n",
       "      <th>4695</th>\n",
       "      <td>1</td>\n",
       "      <td>17.0</td>\n",
       "      <td>1</td>\n",
       "      <td>0</td>\n",
       "      <td>0</td>\n",
       "      <td>3</td>\n",
       "      <td>1</td>\n",
       "      <td>61.67</td>\n",
       "      <td>97.6</td>\n",
       "      <td>1</td>\n",
       "      <td>0</td>\n",
       "    </tr>\n",
       "    <tr>\n",
       "      <th>4696</th>\n",
       "      <td>1</td>\n",
       "      <td>31.0</td>\n",
       "      <td>0</td>\n",
       "      <td>0</td>\n",
       "      <td>0</td>\n",
       "      <td>3</td>\n",
       "      <td>2</td>\n",
       "      <td>78.80</td>\n",
       "      <td>28.7</td>\n",
       "      <td>4</td>\n",
       "      <td>0</td>\n",
       "    </tr>\n",
       "    <tr>\n",
       "      <th>4697</th>\n",
       "      <td>0</td>\n",
       "      <td>60.0</td>\n",
       "      <td>0</td>\n",
       "      <td>0</td>\n",
       "      <td>1</td>\n",
       "      <td>3</td>\n",
       "      <td>1</td>\n",
       "      <td>87.62</td>\n",
       "      <td>30.1</td>\n",
       "      <td>4</td>\n",
       "      <td>0</td>\n",
       "    </tr>\n",
       "    <tr>\n",
       "      <th>4698</th>\n",
       "      <td>1</td>\n",
       "      <td>17.0</td>\n",
       "      <td>0</td>\n",
       "      <td>0</td>\n",
       "      <td>0</td>\n",
       "      <td>3</td>\n",
       "      <td>1</td>\n",
       "      <td>77.79</td>\n",
       "      <td>23.6</td>\n",
       "      <td>1</td>\n",
       "      <td>0</td>\n",
       "    </tr>\n",
       "  </tbody>\n",
       "</table>\n",
       "<p>4699 rows × 11 columns</p>\n",
       "</div>"
      ],
      "text/plain": [
       "      gender   age  hypertension  heart_disease  ever_married  work_type  \\\n",
       "0          0  58.0             0              0             1          3   \n",
       "1          1  69.0             0              0             1          4   \n",
       "2          0  54.0             0              0             1          3   \n",
       "3          1  30.0             0              0             0          3   \n",
       "4          0  14.0             0              0             0          5   \n",
       "...      ...   ...           ...            ...           ...        ...   \n",
       "4694       0  14.0             0              0             0          5   \n",
       "4695       1  17.0             1              0             0          3   \n",
       "4696       1  31.0             0              0             0          3   \n",
       "4697       0  60.0             0              0             1          3   \n",
       "4698       1  17.0             0              0             0          3   \n",
       "\n",
       "      Residence_type  avg_glucose_level   bmi  smoking_status  stroke  \n",
       "0                  2              90.26  36.1               3       0  \n",
       "1                  2             202.51  30.8               2       0  \n",
       "2                  2              75.52  28.7               2       0  \n",
       "3                  2             106.03  26.7               1       0  \n",
       "4                  1              78.09  26.4               1       0  \n",
       "...              ...                ...   ...             ...     ...  \n",
       "4694               2              91.85  27.8               3       0  \n",
       "4695               1              61.67  97.6               1       0  \n",
       "4696               2              78.80  28.7               4       0  \n",
       "4697               1              87.62  30.1               4       0  \n",
       "4698               1              77.79  23.6               1       0  \n",
       "\n",
       "[4699 rows x 11 columns]"
      ]
     },
     "execution_count": 27,
     "metadata": {},
     "output_type": "execute_result"
    }
   ],
   "source": [
    "#ler novamente o arquivo com a nova ordem de embaralhamento\n",
    "saudaveis_embaralhado = pd.read_csv('embaralhado.csv')\n",
    "saudaveis_embaralhado= saudaveis_embaralhado.rename(columns={'Unnamed: 0': 'ID'})\n",
    "saudaveis_embaralhado.drop(columns='ID',axis=1,inplace=True)\n",
    "saudaveis_embaralhado"
   ]
  },
  {
   "cell_type": "markdown",
   "metadata": {},
   "source": [
    "Observação:Anteriormente foram percebidos alguns incovenientes em relação a base de dados,ou seja ,o número de doentes e saudáveis e muito discrepante ,ou seja ,96% da base de dados trabalhada refere-se aos pacientes que não tiveram AVC.Dessa maneira, para que os modelos de previsão não fiquem tão distoantes o dataframe que se refere aos pacientes saudáveis será dividido em outros 18 datasets menores e, além disso,cada dataframe correspondente será adicionado ao dataframe dos pacientes doentes(cerca de 210 linhas) de modo a tornar a análise mais precisa e confiável.Logo,o código a seguir será utilizado para o fim descrito anteriormente."
   ]
  },
  {
   "cell_type": "code",
   "execution_count": 28,
   "metadata": {
    "scrolled": true
   },
   "outputs": [],
   "source": [
    "def divide_data(df):\n",
    "    lista=[]\n",
    "    for i in range(19):\n",
    "        lista.append(pd.merge(left=df.iloc[i*int(len(df)/18):(i+1)*int(len(df)/18)],right=doentes,how='outer'))\n",
    "    del lista[-1]\n",
    "    return lista\n",
    "#divide_data(saudaveis_embaralhado)\n"
   ]
  },
  {
   "cell_type": "markdown",
   "metadata": {},
   "source": [
    "# 2°Passo:Implementando o Modelo"
   ]
  },
  {
   "cell_type": "markdown",
   "metadata": {},
   "source": [
    "Para a implementação de fato do modelo, é necessário dividir a base de dados em dois grupos:<ul>\n",
    "\n",
    "<li>Dados de treino: esses dados serão aqueles utilizados para montar de fato o modelo, isto é, são os dados que ensinam ao computador como se comporta cada variável em relação a variável target e o quanto e como cada uma influenciará uma possível classificação.\n",
    "<li>Dados de teste: esses dados serão aqueles utilizados para testar a precisão do modelo, isto é, são dados não iguais aos de treino para verificar o quão preciso está o modelo nas suas classificações."
   ]
  },
  {
   "cell_type": "markdown",
   "metadata": {},
   "source": [
    "<p>Conforme a mudança citada anteriormente a separação para as bases de treinamento e teste ocorrerá para cada dataframe descrito na função anterior(por isso o comando for é utilizado).Ademais,a partir deste momento todas as medidas que serão calculadas(percentuais da matriz de confusão ,acurácia do modelo e parâmetros da validação cruzada) para os modelos de predição utilizados seguirão a média dos 18 dataframes feitos ,visto que tal prática tende a fornecer melhores estimativas do modelo.\n",
    "<p>Para dividir a base em treinamento e teste o comando da biblioteca scikit-learn chamado <em>train_test-split()</em> será utilizado de modo que o argumento chamado de <em>test_size</em> pegará 20%(número geralmente utilizado) da base de treinamento para implementar o modelo.Além disso,o comando <em>LogisticRegression()</em> aplica o modelo.Por fim,os comandos <em>confusion_matrix</em> e <em>accurracy_score</em> implementam a matriz de confusão do modelo(explicada adiante) e acurácia(precisão) do modelo,respectivamente. "
   ]
  },
  {
   "cell_type": "code",
   "execution_count": 29,
   "metadata": {},
   "outputs": [
    {
     "name": "stdout",
     "output_type": "stream",
     "text": [
      "a acuracia média para o modelo é : 0.6702127659574468\n"
     ]
    }
   ],
   "source": [
    "from sklearn.metrics import confusion_matrix #importando matriz de confusão\n",
    "VN=[]\n",
    "FP=[]\n",
    "FN=[]\n",
    "VP=[]\n",
    "for df in divide_data(saudaveis_embaralhado):\n",
    "    X=df.drop(columns='stroke',axis=1)#todas as variáveis independentes\n",
    "    y=df['stroke']#variável target (resposta)\n",
    "    #teste do modelo\n",
    "    X_train,X_test,y_train,y_test=train_test_split(X,y,test_size=0.2,random_state=42)#separação entre entre os dados do treinamento e teste\n",
    "    Logistic_model = LogisticRegression(random_state=0).fit(X_train,y_train)\n",
    "    Logistic_pred = Logistic_model.predict(X_test)\n",
    "    #implementando para cada lista 4 valores dentro da matriz de confusão que serão explicados adiante\n",
    "    tn,fp,fn,tp=confusion_matrix(y_test,Logistic_pred).ravel()#implementando a matriz de confusão para cada dataframe\n",
    "    VN.append(tn)\n",
    "    FP.append(fp)\n",
    "    FN.append(fn)\n",
    "    VP.append(tp)\n",
    "    #acurácia de cada dataframe\n",
    "    metrics.accuracy_score(y_test,Logistic_pred)\n",
    "print(f'a acuracia média para o modelo é : {np.mean(metrics.accuracy_score(y_test,Logistic_pred))}')#acurácia media do modelo"
   ]
  },
  {
   "cell_type": "markdown",
   "metadata": {},
   "source": [
    "<h2>3°passo:Implementando a validação cruzada"
   ]
  },
  {
   "cell_type": "markdown",
   "metadata": {},
   "source": [
    "<p>A validação cruzada é uma técnica para avaliar a capacidade de generalização de um modelo, a partir de um conjunto de dados.\n",
    "Esta técnica é amplamente empregada em problemas onde o objetivo da modelagem é a predição.\n",
    "Busca-se então estimar o quão preciso é este modelo na prática, ou seja, o seu desempenho para um novo conjunto de dados.\n",
    "<p>Para o modelo serão calculados o desvio padrão e a média para o resultado obtido na soma dos 18 dataframes citados anteriormente.\n",
    "<p>O comando cross_val_score aplica a validação cruzada  e,posterior a isso, pode-se calcular tanto a média(media_lr) quanto o desvio padrão(desv_pad_lr) do modelo."
   ]
  },
  {
   "cell_type": "code",
   "execution_count": 30,
   "metadata": {},
   "outputs": [
    {
     "name": "stdout",
     "output_type": "stream",
     "text": [
      "-----------------------------------------------------------\n",
      "Cross Validation aplicado ao modelo de Regressão Logística:\n",
      "----------------------------------------------------------- \n",
      "\n",
      "Média: 73.8261 %\n",
      "Desvio Padrão: 3.2250 %\n",
      "---------------------------------------------\n"
     ]
    }
   ],
   "source": [
    "for df in divide_data(saudaveis_embaralhado):\n",
    "# Calcula resultados,tipo de avaliação do modelo(scoring=acurracy)\n",
    "    resultados_lr = cross_val_score(Logistic_model, X, y, cv=6, scoring='accuracy')\n",
    "\n",
    "# Calcula média e desvio padrão (em porcentagem)\n",
    "media_lr = np.mean(resultados_lr) * 100\n",
    "desv_pad_lr = np.std(resultados_lr, ddof=1) * 100\n",
    "\n",
    "# Exibe resultados\n",
    "print('-'*59)\n",
    "print('Cross Validation aplicado ao modelo de Regressão Logística:')\n",
    "print('-'*59, '\\n')\n",
    "print(f'Média: {media_lr:.4f} %')\n",
    "print(f'Desvio Padrão: {desv_pad_lr:.4f} %')\n",
    "print('---------------------------------------------')"
   ]
  },
  {
   "cell_type": "markdown",
   "metadata": {},
   "source": [
    "# 4°passo:Matriz de confusão"
   ]
  },
  {
   "cell_type": "markdown",
   "metadata": {},
   "source": [
    "Em problemas de classificação binária é utilizada uma matriz de tabulação cruzada dos resultados preditos com as classes originais observadas, conhecida como matriz de confusão. Contudo, esta matriz busca entender a relação entre acertos e erros que o modelo apresenta. Pode parecer complexo, mas os resultados podem ser resumidos em quatro valores iniciais, sendo:<ul>\n",
    "\n",
    "<li>Positivo Verdadeiro(VP) que significa que a classe prevista e observada originalmente fazem parte da classe positiva;</li>\n",
    "<li>Falso Positivo (FP-erro tipo I) que significa que a classe predita retornou positivo mas a original observada era negativa;</li>\n",
    "<li>Negativo Verdadeiro (VN) os valores preditos e observados fazem parte da categoria negativa;</li>\n",
    "<li>Falso Negativo (FN-erro tipo II) representa que o valor predito resultou na classe negativa mas o original observado era da classe positivo.</li></ul>\n",
    "\n",
    "Para a implementação do modelo haverá abaixo uma estrutura de matriz(array abaixo) para os casos citados acima na seguinte ordem:Verdadeiro negativo(VP),Falso Positivo(FP),Falso negativo(FN) e Verdadeiro Negativo(VN).Além disso,precisa-se saber que o valor 0 corresponde aos saudáveis e o valor 1 corresponde aos doentes.Logo,por meio do comando <em>sns.heatmap()</em> a matriz de confusão é plotada. "
   ]
  },
  {
   "cell_type": "code",
   "execution_count": 31,
   "metadata": {},
   "outputs": [
    {
     "data": {
      "text/plain": [
       "array([[40.55555556, 11.44444444],\n",
       "       [13.22222222, 28.77777778]])"
      ]
     },
     "execution_count": 31,
     "metadata": {},
     "output_type": "execute_result"
    }
   ],
   "source": [
    "# total=np.mean(VP)+np.mean(VP)+np.mean(FN)+np.mean(VN)#soma dos valores\n",
    "total=np.mean(VN)+np.mean(FN)+np.mean(FP)+np.mean(VP)\n",
    "z=np.array([[np.mean(VN),np.mean(FP)],[np.mean(FN),np.mean(VP)]])#valores medios para os valores explicados acima\n",
    "z"
   ]
  },
  {
   "cell_type": "code",
   "execution_count": 32,
   "metadata": {},
   "outputs": [
    {
     "data": {
      "text/plain": [
       "Text(33.0, 0.5, 'Valores verdadeiros')"
      ]
     },
     "execution_count": 32,
     "metadata": {},
     "output_type": "execute_result"
    },
    {
     "data": {
      "image/png": "[encoded data removed]",
      "text/plain": [
       "<Figure size 432x288 with 2 Axes>"
      ]
     },
     "metadata": {
      "needs_background": "light"
     },
     "output_type": "display_data"
    }
   ],
   "source": [
    "ax = plt.axes()\n",
    "sns.heatmap(z/total, annot=True, \n",
    "            fmt='.2%', cmap='Blues')\n",
    "ax.set_title('Matriz de confusão normalizada pelo total')\n",
    "plt.xlabel('Valores previstos', fontsize = 15) # x-axis label with fontsize 15\n",
    "plt.ylabel('Valores verdadeiros', fontsize = 15) # y-axis label with fontsize 15"
   ]
  },
  {
   "cell_type": "markdown",
   "metadata": {},
   "source": [
    "<h3>Resultados:</h3><br><ul>\n",
    "    <li>em relação aos dados cujo valor verdadeiro é 0(saudáveis), 39.01%(valor em relação ao total e não em relação a coluna) destes foram classificados como ausente (verdadeiro negativo), enqaunto 16.31% foram classificados pelo modelo como presente (falso positivo) para a primeira linha da matriz.\n",
    "    <li>em relação aos dados cujo valor verdadeiro é presente, cerca de 27.96% foram classificados como presente (verdadeiro positivo), enquanto 16.73% foram classificados como ausente (falso negativo) para a segunda linha da matriz."
   ]
  },
  {
   "cell_type": "markdown",
   "metadata": {},
   "source": [
    "<h2>Acurácia-Matriz de confusão"
   ]
  },
  {
   "cell_type": "markdown",
   "metadata": {},
   "source": [
    "Nesse sentido pode-se calcular também a precisão(acurácia) da matriz de confusão que é a quantidade classificada como Positivos e Negativos corretamente(nosso caso são os doentes e saudáveis corretamente previstos pelo modelo) da seguinte forma:<br>\n",
    "\n",
    "<br>$$Acurácia = \\frac{(TP + TN)}{(TP + TN + FP + TN)}$$<br>"
   ]
  },
  {
   "cell_type": "code",
   "execution_count": 33,
   "metadata": {},
   "outputs": [
    {
     "name": "stdout",
     "output_type": "stream",
     "text": [
      " a acuracia da matriz de confusão é : 73.75886524822695 %\n"
     ]
    }
   ],
   "source": [
    "print(f' a acuracia da matriz de confusão é : {(np.mean(VN)+np.mean(VP))*100/total} %')"
   ]
  },
  {
   "cell_type": "markdown",
   "metadata": {},
   "source": [
    "<h3>Resultados:</h3><br><ul>\n",
    "\n",
    "   <li>Percebe-se, portanto, que o modelo preditivo para AVC(acidente vascular cerebral) utilizando o Algoritmo da Regressão Logística tem uma acurácia razoável, oscilando em cerca de 70%. Tal resultado pode ser aprimorado, conforme se ajuste as especificações do modelo $-$ como alterações na função sigmóide, por exemplo $-$, ou, de forma externa, caso a coleta de dados siga maior rigor de qualidade, conforme descrito anteriormente.\n",
    "\n",
    "  "
   ]
  },
  {
   "cell_type": "markdown",
   "metadata": {},
   "source": [
    "# Árvore de decisão"
   ]
  },
  {
   "cell_type": "markdown",
   "metadata": {},
   "source": [
    "A árvore de Decisão é um tipo de algoritmo de aprendizagem de máquina supervisionado que se baseia na ideia de divisão dos dados em grupos homogêneos, podem ser utilizadas em um cenário de classificação ou regressão. No nosso caso, iremos usá-la no critério de classificação.\n",
    "##### Pontos positivos de usá-la:\n",
    "<li> Possui um fácil entendimento, pois não requer nenhum conhecimento estatístico para a sua interpretação.\n",
    "<li>Aceita tanto dados categóricos quanto numéricos diminuindo a necessidade da limpeza de dados em comparação com outros modelos."
   ]
  },
  {
   "cell_type": "markdown",
   "metadata": {},
   "source": [
    "##### Pontos negativos que podem ser evitados:\n",
    "<li>Ela é propensa a sofrer overfitting (sobreajuste), se ajustar muito aos dados de treino e não ter uma performance muito boa com os dados de teste.\n",
    "<li>São instáveis, pequenas alterações nos dados de treino produzem novas árvores.\n"
   ]
  },
  {
   "cell_type": "markdown",
   "metadata": {},
   "source": [
    "### Observe o exemplo abaixo:"
   ]
  },
  {
   "cell_type": "markdown",
   "metadata": {},
   "source": [
    "<img src=\"foto2.png\">"
   ]
  },
  {
   "cell_type": "markdown",
   "metadata": {},
   "source": [
    "A partir do conjunto de dados é feito um split, cada split representa um nó da árvore. Temos o nó raiz onde começa a árvore, os nós de decisão, essas decisões serão tomadas a partir de uma amostra de teste e por fim temos os nós folhas onde é atribuído a classe (Yes/No) no caso da classificação e a média das observaçoes no caso da regressão."
   ]
  },
  {
   "cell_type": "markdown",
   "metadata": {},
   "source": [
    "#### Terminologias:\n",
    "<ol>\n",
    "<li>O nó raiz é o atributo que melhor divide o conjunto de dados.\n",
    "<li>Nós de decisão são representadas pelas condições lógicas (IF/ELSE) que determinam o caminho dentro da árvore.\n",
    "<li>Branch/Sub árvore, são pequenas árvores no meio do caminho a partir do nó de decisão.\n",
    "<li>Nó terminal/folha estão na parte inferior da árvore e como já foi dito podem conter uma classe ou um valor contínuo."
   ]
  },
  {
   "cell_type": "markdown",
   "metadata": {},
   "source": [
    "<img src=\"foto1.png\">"
   ]
  },
  {
   "cell_type": "markdown",
   "metadata": {},
   "source": [
    "Para um aprofundamento ainda maior, consulte o site: https://minerandodados.com.br/arvores-de-decisao-conceitos-e-aplicacoes/"
   ]
  },
  {
   "cell_type": "markdown",
   "metadata": {},
   "source": [
    "### Qual o objetivo da árvore de decisão?"
   ]
  },
  {
   "cell_type": "markdown",
   "metadata": {},
   "source": [
    "É encontrar o atributo que gera a melhor divisão dos dados, subconjunto com maior pureza. Existem algumas métricas para a definição de pureza, ou seja, qual será a métrica utilizada para decidir qual é o melhor atributo que divide os nossos dados gerando a partição mais pura. No nosso caso, iremos usar a entropia."
   ]
  },
  {
   "cell_type": "markdown",
   "metadata": {},
   "source": [
    "**Entropia**\n",
    "\n",
    "A entropia de um conjunto pode ser definida como sendo o grau de pureza desse conjunto. Este conceito emprestado pela Teoria da Informação define a medida de \"falta de informação\", mais precisamente o número de bits necessários, em média, para representar a informação em falta, usando codificação óptima.\n",
    "\n",
    "Dado um conjunto S, com instâncias pertencentes à classe i, com probabilidade pi, temos:\n",
    "\n",
    "$$Entropia (S) =  \\sum_{i=1}^n p_i \\cdot \\log_{2}p_i$$  $$(1)$$\n",
    "\n",
    "Onde:\n",
    "\n",
    "S é o conjunto de exemplo de treino;\n",
    "p+ é a porção de exemplos positivos;\n",
    "p- é a porção de exemplos negativos;\n",
    "A entropia é dada pelo desdobramento da equação (1)\n",
    "\n",
    "$$Entropia (S) =   -p_+ \\cdot \\log_{2}p_+ - p_- \\cdot \\log_{2}p_-$$\n",
    "\n",
    "**Ganho**\n",
    "O ganho (gain) é define a redução na entropia. Ganho(S,A) significa a redução esperada na entropia de S, ordenando pelo atributo A. O ganho é dado pela seguinte equação:\n",
    "\n",
    "$$Ganho(S, A) = Entropia(S) - \\sum_{v\\in Valores(A)}\\frac{\\vert S_v \\vert}{\\vert S \\vert}Entropia(S_v)$$\n",
    "\n",
    "em que:\n",
    "\n",
    "- $S_v$ é o subconjunto de $S$ quando $x=A$\n",
    "- $v$ é um elemento de $Valores(A)$\n",
    "- $Valores(A)$ representa os possíveis valores de $A$"
   ]
  },
  {
   "cell_type": "markdown",
   "metadata": {},
   "source": [
    "Para um aprofundamento ainda maior, consulte o site: http://web.tecnico.ulisboa.pt/ana.freitas/bioinformatics.ath.cx/bioinformatics.ath.cx/indexf23d.html?id"
   ]
  },
  {
   "cell_type": "markdown",
   "metadata": {},
   "source": [
    "### Como evitar o overfitting?"
   ]
  },
  {
   "cell_type": "markdown",
   "metadata": {},
   "source": [
    "Podemos querer gerar uma árvore de decisão a partir de uma base que tenha um grande número de atributos e se alguns critérios não forem especificados afim de controlar a árvore, vamos correr o risco dela representar cada amostra de dados, gerando uma árvore muito grande e um modelo extremamente complexo, com bons resultados para os dados de treino e baixa performance para os dados de teste, ou seja vai sofre overfitting. Por isso, prevenir o sobreajuste é fundamental ao se modelar uma árvore de decisão.\n",
    "\n",
    "Algumas estratégias que podemos adotar para ajudar a evitar o overfitting:\n",
    "\n",
    "<li>Especificar o número mínimo de amostras para divisão do nó. Valores altos previnem a criação de modelos complexos ou podem causar underfitting.\n",
    "<li>Especificar o número mínimo de amostras para o nível folha. Nos permite controlar o crescimento da árvore e deve ser considerado em cenários com dados desbalanceados.\n",
    "<li>Profundidade máxima da árvore.\n",
    "<li>Número máximo de features para considerar durante a divisão."
   ]
  },
  {
   "cell_type": "markdown",
   "metadata": {},
   "source": [
    "### Como vai funcionar a base de dados ?\n",
    "\n",
    "Vamos dividir o nosso conjunto de dados em dois ramos:\n",
    "\n",
    "- **Dados treino**: Conforme podemos imaginar, dados de treino são os dados que serão apresentados ao algoritmo de machine learning para criação do modelo(Variáveis em relação a variável target). Estes dados costumam representar cerca de 80% da totalidade dos dados.\n",
    "- **Dados teste**: Serão apresentados ao modelo após a sua criação, simulando previsões reais que o modelo realizará, permitindo assim que o desempenho real seja verificado. Estes dados costumam representar cerca de 20% da totalidade dos dados.\n",
    "\n",
    "Para um aprofundamento ainda maior, consulte o site: https://didatica.tech/dados-de-treino-e-teste/\n",
    "\n",
    "O código abaixo mostra a preparação dos dados."
   ]
  },
  {
   "cell_type": "markdown",
   "metadata": {},
   "source": [
    "### Implementando a árvore de decisão\n",
    "\n",
    "A biblioteca que será utilizada é a do scikit-learn [(documentação)](https://scikit-learn.org/stable/modules/generated/sklearn.tree.DecisionTreeClassifier.html). Para implementar o modelo, é utilizado o *DecisionTreeClassifier()* e aplica-se a função *fit()*, que recebe os dados de treino e o target de treino para classifica-los.\n",
    "\n",
    "**Parâmetros do classificador DecisionTreeClassifier**"
   ]
  },
  {
   "cell_type": "markdown",
   "metadata": {},
   "source": [
    "<li>criterion: medida de qualidade da divisão, aqui que definimos qual dessas métricas (Indice Gini, Chi-Square, Information Gain ou a redução da variância) iremos usar.\n",
    "<li>splitter: estratégia utilizada para dividir o nó de decisão.\n",
    "<li>max_depth: profundidade máxima da árvore.\n",
    "<li>min_samples_split: número de amostras mínimas para considerar um nó para divisão.\n",
    "<li>min_samples_leaf: número de amostras mínimas no nível folha."
   ]
  },
  {
   "cell_type": "code",
   "execution_count": 41,
   "metadata": {},
   "outputs": [
    {
     "name": "stdout",
     "output_type": "stream",
     "text": [
      "Precisão do modelo (Decision Tree): 68.0851 %\n"
     ]
    }
   ],
   "source": [
    "VN2=[]\n",
    "FP2=[]\n",
    "FN2=[]\n",
    "VP2=[]\n",
    "for df in divide_data(saudaveis_embaralhado):\n",
    "    X=df.drop(columns='stroke',axis=1)#todas as variáveis independentes\n",
    "    y=df['stroke']#variável target (resposta)\n",
    "    X_train,X_test,y_train,y_test=train_test_split(X,y,test_size=0.2,random_state=42)\n",
    "    # Cria árvore de decisão\n",
    "    arvore_decisao = DecisionTreeClassifier(criterion='entropy',max_depth=None)\n",
    "    # Treina o modelo\n",
    "    modelo_dt = arvore_decisao.fit(X_train, y_train)\n",
    "    arvore_decisao_pred = modelo_dt.predict(X_test)\n",
    "    acuracia_dt= modelo_dt.score(X_test,y_test)*100\n",
    "    tn2,fp2,fn2,tp2=confusion_matrix(y_test,arvore_decisao_pred).ravel()\n",
    "    VN2.append(tn2)\n",
    "    FP2.append(fp2)\n",
    "    FN2.append(fn2)\n",
    "    VP2.append(tp2)\n",
    "print(f'Precisão do modelo (Decision Tree): {np.mean(acuracia_dt):.4f} %')"
   ]
  },
  {
   "cell_type": "code",
   "execution_count": 42,
   "metadata": {},
   "outputs": [
    {
     "name": "stdout",
     "output_type": "stream",
     "text": [
      "Profundidade da árvore: 15\n"
     ]
    }
   ],
   "source": [
    "# Profundidade da árvore gerada\n",
    "print(f'Profundidade da árvore: {modelo_dt.tree_.max_depth}')"
   ]
  },
  {
   "cell_type": "markdown",
   "metadata": {},
   "source": [
    "###  Matriz de Confusão"
   ]
  },
  {
   "cell_type": "code",
   "execution_count": 45,
   "metadata": {},
   "outputs": [
    {
     "data": {
      "text/plain": [
       "array([[38.38888889, 13.61111111],\n",
       "       [17.38888889, 24.61111111]])"
      ]
     },
     "execution_count": 45,
     "metadata": {},
     "output_type": "execute_result"
    }
   ],
   "source": [
    "z2=np.array([[np.mean(VN2),np.mean(FP2)],[np.mean(FN2),np.mean(VP2)]])\n",
    "z2"
   ]
  },
  {
   "cell_type": "code",
   "execution_count": 48,
   "metadata": {},
   "outputs": [
    {
     "data": {
      "text/plain": [
       "0.40839243499999994"
      ]
     },
     "execution_count": 48,
     "metadata": {},
     "output_type": "execute_result"
    },
    {
     "data": {
      "image/png": "[encoded data removed]",
      "text/plain": [
       "<Figure size 432x288 with 2 Axes>"
      ]
     },
     "metadata": {
      "needs_background": "light"
     },
     "output_type": "display_data"
    }
   ],
   "source": [
    "sns.heatmap(z2/np.sum(z2), annot=True, \n",
    "            fmt='.2%', cmap='Blues')\n",
    "# 38.38888889/(13.61111111+17.38888889+ 24.61111111+38.38888889)"
   ]
  },
  {
   "cell_type": "markdown",
   "metadata": {},
   "source": [
    "### Validação Cruzada"
   ]
  },
  {
   "cell_type": "code",
   "execution_count": 38,
   "metadata": {},
   "outputs": [
    {
     "name": "stdout",
     "output_type": "stream",
     "text": [
      "-----------------------------------------------------------\n",
      "Cross Validation aplicado ao modelo de Arvore de Decisao:\n",
      "----------------------------------------------------------- \n",
      "\n",
      "Média: 73.8261 %\n",
      "Desvio Padrão: 3.2250 %\n",
      "---------------------------------------------\n"
     ]
    }
   ],
   "source": [
    "for df in divide_data(saudaveis_embaralhado):\n",
    "# Calcula resultados\n",
    "    resultados_dt = cross_val_score(modelo_dt, X, y, cv=6, scoring='accuracy')\n",
    "\n",
    "# Calcula média e desvio padrão (em porcentagem)\n",
    "media_dt = np.mean(resultados_lr) * 100\n",
    "desv_pad_dt = np.std(resultados_lr, ddof=1) * 100\n",
    "\n",
    "# Exibe resultados\n",
    "print('-'*59)\n",
    "print('Cross Validation aplicado ao modelo de Arvore de Decisao:')\n",
    "print('-'*59, '\\n')\n",
    "print(f'Média: {media_lr:.4f} %')\n",
    "print(f'Desvio Padrão: {desv_pad_lr:.4f} %')\n",
    "print('---------------------------------------------')"
   ]
  },
  {
   "cell_type": "markdown",
   "metadata": {},
   "source": [
    "# conclusão"
   ]
  },
  {
   "cell_type": "code",
   "execution_count": 39,
   "metadata": {},
   "outputs": [
    {
     "name": "stdout",
     "output_type": "stream",
     "text": [
      "===========================\n",
      "COMPARAÇÃO ENTRE OS MODELOS\n",
      "=========================== \n",
      "\n",
      "Decision Tree        |  Precisão: 63.8298 % \n",
      "Logistic Regression  |  Precisão: 67.0213 % \n"
     ]
    }
   ],
   "source": [
    "# Exibe resultados obtidos por cada modelo\n",
    "print('==='*9)\n",
    "print('COMPARAÇÃO ENTRE OS MODELOS')\n",
    "print('==='*9, '\\n')\n",
    "print(f'Decision Tree        |  Precisão: {np.mean(acuracia_dt):.4f} % ')\n",
    "print(f'Logistic Regression  |  Precisão: {np.mean(metrics.accuracy_score(y_test,Logistic_pred)*100):.4f} % ')"
   ]
  },
  {
   "cell_type": "markdown",
   "metadata": {},
   "source": [
    "Com base nos resultados obtidos, conclui-se que o a Regressão Logística obteve o melhor resultado em termos de Acurácia, distoando-se pouco da Random Forest (cerca de 1,4%). Como era de se esperar, a Random Forest performou melhor que a Decision Tree, haja vista a sua capacidade de sanar possíveis overfitting.\n",
    "\n",
    "Porém, esses valores não são fixos, pois, a cada vez que se executa o código, a base de treino/teste é novamente dividida. Assim, é de se esperar uma pequena flutuação na análise da precisão."
   ]
  },
  {
   "cell_type": "code",
   "execution_count": 40,
   "metadata": {},
   "outputs": [
    {
     "name": "stdout",
     "output_type": "stream",
     "text": [
      "================================================\n",
      "COMPARAÇÃO ENTRE OS MODELOS NA VALIDAÇÃO CRUZADA\n",
      "================================================ \n",
      "\n",
      "Decision Tree        |  Média: 73.8261 %  | Desvio Padrão: 3.2250 %\n",
      "Logistic Regression  |  Média: 73.8261 %  | Desvio Padrão: 3.2250 % \n"
     ]
    }
   ],
   "source": [
    "# Exibe resultados obtidos por cada modelo na validação cruzada\n",
    "print('==='*16)\n",
    "print('COMPARAÇÃO ENTRE OS MODELOS NA VALIDAÇÃO CRUZADA')\n",
    "print('==='*16, '\\n')\n",
    "print(f'Decision Tree        |  Média: {media_dt:.4f} %  | Desvio Padrão: {desv_pad_dt:.4f} %')\n",
    "print(f'Logistic Regression  |  Média: {media_lr:.4f} %  | Desvio Padrão: {desv_pad_lr:.4f} % ')"
   ]
  },
  {
   "cell_type": "code",
   "execution_count": null,
   "metadata": {},
   "outputs": [],
   "source": []
  }
 ],
 "metadata": {
  "kernelspec": {
   "display_name": "Python 3",
   "language": "python",
   "name": "python3"
  },
  "language_info": {
   "codemirror_mode": {
    "name": "ipython",
    "version": 3
   },
   "file_extension": ".py",
   "mimetype": "text/x-python",
   "name": "python",
   "nbconvert_exporter": "python",
   "pygments_lexer": "ipython3",
   "version": "3.8.3"
  }
 },
 "nbformat": 4,
 "nbformat_minor": 4
}
